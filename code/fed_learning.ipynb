{
 "cells": [
  {
   "cell_type": "markdown",
   "metadata": {},
   "source": [
    "## Setup Pytorch\n",
    "First, import the Pytorch dependencies.\n",
    "\n",
    "Then we define the remote workers Alice and Bob, who will host the remote data while a local worker (or client) will manage the learning task. Note that we use virtual workers: these workers act just like normal remote workers except that they exist within the same Python program. Thus, we still serialize the commands to be exchanged between the workers but we don’t actually send them over the network. This approach allows us to avoid network-related issues and focus on evaluation of the approach on a local setup\n"
   ]
  },
  {
   "cell_type": "code",
   "execution_count": 1,
   "metadata": {},
   "outputs": [],
   "source": [
    "import torch\n",
    "import torch.nn as nn\n",
    "import torch.nn.functional as functional\n",
    "import torch.optim as optim\n",
    "from torchvision import datasets, transforms\n",
    "import syft\n",
    "import wandb\n",
    "from typing import Dict\n",
    "import dotenv\n",
    "import os"
   ]
  },
  {
   "cell_type": "code",
   "execution_count": 2,
   "metadata": {},
   "outputs": [
    {
     "name": "stderr",
     "output_type": "stream",
     "text": [
      "Python-dotenv could not parse statement starting at line 2\n",
      "Python-dotenv could not parse statement starting at line 4\n"
     ]
    }
   ],
   "source": [
    "dotenv.load_dotenv() \n",
    "WANDB_KEY = os.getenv(\"WANDB_KEY\")\n",
    "ENTITY = os.getenv(\"ENTITY\")\n",
    "NUM_WORKERS = 5"
   ]
  },
  {
   "cell_type": "code",
   "execution_count": 3,
   "metadata": {},
   "outputs": [],
   "source": [
    "hook = syft.TorchHook(torch)  # Add extra functionalities to PyTorch for Federated Learning\n",
    "workers_ids = [\"bob\", \"alice\", \"joe\", \"anna\", \"peter\"]\n",
    "workers = []\n",
    "for worker_id in workers_ids:\n",
    "    workers.append(syft.VirtualWorker(hook, id=worker_id)) # Create a Virtual Workers\n",
    "\n",
    "# Define Learning Task Settings\n",
    "\n",
    "class TrainingArgs():\n",
    "    def __init__(self):\n",
    "        self.batch_size = 100\n",
    "        self.test_batch_size = 1000\n",
    "        self.epochs = 15  # Default value for epochs\n",
    "        self.lr = 0.01\n",
    "        self.momentum = 0.5\n",
    "        self.no_cuda = False\n",
    "        self.seed = 1\n",
    "        self.log_interval = 30\n",
    "        self.save_model = True\n",
    "\n",
    "args = TrainingArgs()\n",
    "use_cuda = not args.no_cuda and torch.cuda.is_available()  # Use GPU if available unless CPU is specified\n",
    "torch.manual_seed(args.seed)\n",
    "device = torch.device(\"cuda\" if use_cuda else \"cpu\")\n",
    "data_loader_kwargs = {'num_workers': 1, 'pin_memory': True} if use_cuda else {}"
   ]
  },
  {
   "cell_type": "code",
   "execution_count": 4,
   "metadata": {},
   "outputs": [
    {
     "data": {
      "text/plain": [
       "False"
      ]
     },
     "execution_count": 4,
     "metadata": {},
     "output_type": "execute_result"
    }
   ],
   "source": [
    "torch.cuda.is_available()"
   ]
  },
  {
   "cell_type": "markdown",
   "metadata": {},
   "source": [
    "## Load Data and Send to Workers\n",
    "In this scenario, the data is loaded and transformed from a local training dataset into a federated dataset using the `.federate` method: the dataset is split into two parts and sent to the workers Alice and Bob. This federated dataset is then given to a federated DataLoader which will iterate over remote batches. The test dataset remains unchanged as the local client will perform the test evaluation.\n"
   ]
  },
  {
   "cell_type": "code",
   "execution_count": 5,
   "metadata": {},
   "outputs": [
    {
     "name": "stdout",
     "output_type": "stream",
     "text": [
      "Files already downloaded and verified\n",
      "Files already downloaded and verified\n"
     ]
    }
   ],
   "source": [
    "# Define data transforms\n",
    "transform = transforms.Compose([\n",
    "    transforms.ToTensor(),\n",
    "    transforms.Normalize((0.4914, 0.4822, 0.4465), (0.2023, 0.1994, 0.2010))  # Normalize to [-1, 1]\n",
    "])\n",
    "\n",
    "# Load CIFAR-10 dataset\n",
    "train_dataset = datasets.CIFAR10(root='../data', train=True, download=True, transform=transform)\n",
    "test_dataset = datasets.CIFAR10(root='../data', train=False, download=True, transform=transform)"
   ]
  },
  {
   "cell_type": "code",
   "execution_count": 6,
   "metadata": {},
   "outputs": [],
   "source": [
    "def create_train_loader(num_workers):\n",
    "    if num_workers > len(workers) or num_workers < 1:\n",
    "        raise ValueError(f\"Number of workers must be between 1 and {len(workers)}\")\n",
    "    if num_workers == 1:\n",
    "        train_loader = torch.utils.data.DataLoader(\n",
    "            train_dataset,\n",
    "            batch_size=args.batch_size,\n",
    "            shuffle=True,\n",
    "            **data_loader_kwargs\n",
    "        )\n",
    "    train_loader = syft.FederatedDataLoader(\n",
    "        train_dataset.federate(tuple(workers[:num_workers])),  # Distribute the dataset across all workers\n",
    "            batch_size=args.batch_size,\n",
    "            shuffle=True,\n",
    "            **data_loader_kwargs\n",
    "        )\n",
    "    return train_loader\n",
    "\n",
    "test_loader = torch.utils.data.DataLoader(\n",
    "    test_dataset,\n",
    "    batch_size=args.test_batch_size,\n",
    "    shuffle=True,\n",
    "    **data_loader_kwargs\n",
    ")\n"
   ]
  },
  {
   "cell_type": "markdown",
   "metadata": {},
   "source": [
    "## Convolutional Neural Network Definition\n",
    "- Two Convolutional Layers: 20 kernels of size 5x5 and 50 kernels of size 5x5\n",
    "- Two Fully Connected Layers with 500 and 10 neurons"
   ]
  },
  {
   "cell_type": "code",
   "execution_count": 7,
   "metadata": {},
   "outputs": [],
   "source": [
    "class SimpleCNN(nn.Module):\n",
    "    def __init__(self):\n",
    "        super(SimpleCNN, self).__init__()\n",
    "        self.conv1 = nn.Conv2d(3, 20, 5, 1)\n",
    "        self.conv2 = nn.Conv2d(20, 50, 5, 1)\n",
    "        self.fc1 = nn.Linear(50 * 5 * 5, 500)\n",
    "        self.fc2 = nn.Linear(500, 10)\n",
    "        self.logger = WandBLogger(model=self)\n",
    "\n",
    "    def forward(self, x):\n",
    "        x = functional.relu(self.conv1(x))\n",
    "        x = functional.max_pool2d(x, 2, 2)\n",
    "        x = functional.relu(self.conv2(x))\n",
    "        x = functional.max_pool2d(x, 2, 2)\n",
    "        x = x.view(-1, 50*5*5)\n",
    "        x = functional.relu(self.fc1(x))\n",
    "        x = self.fc2(x)\n",
    "        return functional.log_softmax(x, dim=1)"
   ]
  },
  {
   "cell_type": "markdown",
   "metadata": {},
   "source": [
    "## Define Training and Testing Functions\n",
    "For training, since the data batches are distributed across Alice and Bob, the model must be sent to the correct location for each batch. Then, we perform all operations remotely with the same syntax as if we were working in a local PyTorch environment. Once finished, we retrieve the model updates and the loss to monitor improvements using the `.get()` method.\n",
    "\n",
    "For centralized training mode the `NUM_WORKERS = 1`. If greater than 1 creates federated dataset.\n"
   ]
  },
  {
   "cell_type": "code",
   "execution_count": 8,
   "metadata": {},
   "outputs": [],
   "source": [
    "def train_model(args, model, device, optimizer, epoch, num_workers):\n",
    "    assert isinstance(num_workers, int), \"num_workers should be of type int\"\n",
    "    train_loader = create_train_loader(num_workers)\n",
    "    model.train()\n",
    "    losses = []\n",
    "\n",
    "    for batch_idx, (data, target) in enumerate(train_loader):  # Now it is a distributed dataset\n",
    "        model.send(data.location)  # Send the model to the correct location\n",
    "        # data, target = data.to(device), target.to(device)\n",
    "        optimizer.zero_grad()\n",
    "        output = model(data)\n",
    "        loss = functional.nll_loss(output, target)\n",
    "        loss.backward()\n",
    "        optimizer.step()\n",
    "        model.get()  # Retrieve the model back\n",
    "        if batch_idx % args.log_interval == 0:\n",
    "            loss = loss.get()  # Retrieve the loss back\n",
    "            print('Train Epoch: {} [{}/{} ({:.0f}%)]\\tLoss: {:.6f}\\tLocation: {}'.format(\n",
    "                epoch, batch_idx * args.batch_size, len(train_loader) * args.batch_size,\n",
    "                100. * batch_idx / len(train_loader), loss.item(), data.location))\n",
    "            losses.append(loss.item())\n",
    "\n",
    "    loss_avg = sum(losses) / len(losses)\n",
    "    print(f\"Average train loss: {loss_avg}. Epoch: {epoch}\")\n",
    "    return loss_avg\n",
    "\n",
    "def test_model(args, model, device, test_loader):\n",
    "    model.eval()\n",
    "    test_loss = 0\n",
    "    correct = 0\n",
    "    with torch.no_grad():\n",
    "        for data, target in test_loader:\n",
    "            data, target = data.to(device), target.to(device)\n",
    "            output = model(data)\n",
    "            test_loss += functional.nll_loss(output, target, reduction='sum').item()  # Sum up batch loss\n",
    "            pred = output.argmax(1, keepdim=True)  # Get the index of the max log-probability\n",
    "            correct += pred.eq(target.view_as(pred)).sum().item()\n",
    "\n",
    "    test_loss /= len(test_loader.dataset)\n",
    "    accuracy = correct / len(test_loader.dataset)\n",
    "    print('\\nTest set: Average loss: {:.4f}, Accuracy: {} ({:.0f}%)\\n'.format(\n",
    "        test_loss, accuracy,\n",
    "        100. * accuracy))\n",
    "    return accuracy, test_loss"
   ]
  },
  {
   "cell_type": "markdown",
   "metadata": {},
   "source": [
    "## Setup of Weights and Biases for logging"
   ]
  },
  {
   "cell_type": "code",
   "execution_count": 9,
   "metadata": {},
   "outputs": [
    {
     "name": "stderr",
     "output_type": "stream",
     "text": [
      "Failed to detect the name of this notebook, you can set it manually with the WANDB_NOTEBOOK_NAME environment variable to enable code saving.\n"
     ]
    },
    {
     "name": "stderr",
     "output_type": "stream",
     "text": [
      "\u001b[34m\u001b[1mwandb\u001b[0m: Currently logged in as: \u001b[33msklein-at\u001b[0m (\u001b[33mspeml\u001b[0m). Use \u001b[1m`wandb login --relogin`\u001b[0m to force relogin\n",
      "\u001b[34m\u001b[1mwandb\u001b[0m: \u001b[33mWARNING\u001b[0m If you're specifying your api key in code, ensure this code is not shared publicly.\n",
      "\u001b[34m\u001b[1mwandb\u001b[0m: \u001b[33mWARNING\u001b[0m Consider setting the WANDB_API_KEY environment variable, or running `wandb login` from the command line.\n",
      "\u001b[34m\u001b[1mwandb\u001b[0m: Appending key for api.wandb.ai to your netrc file: /home/vscode/.netrc\n"
     ]
    }
   ],
   "source": [
    "wandb.login(key=WANDB_KEY)\n",
    "class WandBLogger:\n",
    "\n",
    "    def __init__(self, enabled=True, \n",
    "                 model: torch.nn.modules=None, \n",
    "                 run_name: str=None) -> None:\n",
    "        \n",
    "        self.enabled = enabled\n",
    "\n",
    "        if self.enabled:\n",
    "            wandb.init(entity=ENTITY,\n",
    "                        project=\"federated_learning\",\n",
    "                        group=\"group_1\")\n",
    "            if run_name is None:\n",
    "                wandb.run.name = wandb.run.id    \n",
    "            else:\n",
    "                wandb.run.name = run_name  \n",
    "\n",
    "            if model is not None:\n",
    "                self.watch(model)         \n",
    "            \n",
    "    def watch(self, model, log_freq: int=1):\n",
    "        wandb.watch(model, log=\"all\", log_freq=log_freq)  \n",
    "\n",
    "    def log(self, log_dict: dict, commit=True, step=None):\n",
    "        if self.enabled:\n",
    "            if step:\n",
    "                wandb.log(log_dict, commit=commit, step=step)\n",
    "            else:\n",
    "                wandb.log(log_dict, commit=commit)\n",
    "\n",
    "    def finish(self):\n",
    "        if self.enabled:\n",
    "            wandb.finish()"
   ]
  },
  {
   "cell_type": "markdown",
   "metadata": {},
   "source": [
    "## Start Training"
   ]
  },
  {
   "cell_type": "code",
   "execution_count": 10,
   "metadata": {},
   "outputs": [],
   "source": [
    "def start_training(num_workers):\n",
    "    print(f\"Training with {num_workers} workers\")\n",
    "    model = SimpleCNN().to(device)\n",
    "    optimizer = optim.SGD(model.parameters(), lr=args.lr)\n",
    "\n",
    "    for epoch in range(1, args.epochs + 1):\n",
    "        train_loss = train_model(args, model, device, optimizer, epoch, num_workers)\n",
    "        test_accuracy, test_loss = test_model(args, model, device, test_loader)\n",
    "\n",
    "        model.logger.log(log_dict={\n",
    "            f\"train_loss_{num_workers}\": train_loss,\n",
    "            f\"test_loss_{num_workers}\": test_loss,\n",
    "            f\"test_accuracy_{num_workers}\": test_accuracy\n",
    "        }, step = epoch)\n",
    "    model.logger.finish()\n",
    "\n",
    "    if args.save_model:\n",
    "        torch.save(model.state_dict(), f\"cifar10_cnn_{num_workers}.pt\")"
   ]
  },
  {
   "cell_type": "code",
   "execution_count": 11,
   "metadata": {},
   "outputs": [
    {
     "name": "stdout",
     "output_type": "stream",
     "text": [
      "Training with 5 workers\n"
     ]
    },
    {
     "data": {
      "text/html": [
       "wandb version 0.17.5 is available!  To upgrade, please run:\n",
       " $ pip install wandb --upgrade"
      ],
      "text/plain": [
       "<IPython.core.display.HTML object>"
      ]
     },
     "metadata": {},
     "output_type": "display_data"
    },
    {
     "data": {
      "text/html": [
       "Tracking run with wandb version 0.16.6"
      ],
      "text/plain": [
       "<IPython.core.display.HTML object>"
      ]
     },
     "metadata": {},
     "output_type": "display_data"
    },
    {
     "data": {
      "text/html": [
       "Run data is saved locally in <code>/workspaces/speml24_2/code/wandb/run-20240721_155832-nv2xgnkn</code>"
      ],
      "text/plain": [
       "<IPython.core.display.HTML object>"
      ]
     },
     "metadata": {},
     "output_type": "display_data"
    },
    {
     "data": {
      "text/html": [
       "Syncing run <strong><a href='https://wandb.ai/speml/federated_learning/runs/nv2xgnkn' target=\"_blank\">playful-paper-7</a></strong> to <a href='https://wandb.ai/speml/federated_learning' target=\"_blank\">Weights & Biases</a> (<a href='https://wandb.me/run' target=\"_blank\">docs</a>)<br/>"
      ],
      "text/plain": [
       "<IPython.core.display.HTML object>"
      ]
     },
     "metadata": {},
     "output_type": "display_data"
    },
    {
     "data": {
      "text/html": [
       " View project at <a href='https://wandb.ai/speml/federated_learning' target=\"_blank\">https://wandb.ai/speml/federated_learning</a>"
      ],
      "text/plain": [
       "<IPython.core.display.HTML object>"
      ]
     },
     "metadata": {},
     "output_type": "display_data"
    },
    {
     "data": {
      "text/html": [
       " View run at <a href='https://wandb.ai/speml/federated_learning/runs/nv2xgnkn' target=\"_blank\">https://wandb.ai/speml/federated_learning/runs/nv2xgnkn</a>"
      ],
      "text/plain": [
       "<IPython.core.display.HTML object>"
      ]
     },
     "metadata": {},
     "output_type": "display_data"
    },
    {
     "name": "stdout",
     "output_type": "stream",
     "text": [
      "Train Epoch: 1 [0/50000 (0%)]\tLoss: 2.310346\n",
      "Train Epoch: 1 [3000/50000 (6%)]\tLoss: 2.284619\n",
      "Train Epoch: 1 [6000/50000 (12%)]\tLoss: 2.264570\n",
      "Train Epoch: 1 [9000/50000 (18%)]\tLoss: 2.204056\n",
      "Train Epoch: 1 [12000/50000 (24%)]\tLoss: 2.088929\n",
      "Train Epoch: 1 [15000/50000 (30%)]\tLoss: 2.154240\n",
      "Train Epoch: 1 [18000/50000 (36%)]\tLoss: 2.130630\n",
      "Train Epoch: 1 [21000/50000 (42%)]\tLoss: 1.982227\n",
      "Train Epoch: 1 [24000/50000 (48%)]\tLoss: 1.911886\n",
      "Train Epoch: 1 [27000/50000 (54%)]\tLoss: 1.988663\n",
      "Train Epoch: 1 [30000/50000 (60%)]\tLoss: 1.881720\n",
      "Train Epoch: 1 [33000/50000 (66%)]\tLoss: 1.841980\n",
      "Train Epoch: 1 [36000/50000 (72%)]\tLoss: 1.956897\n",
      "Train Epoch: 1 [39000/50000 (78%)]\tLoss: 2.071441\n",
      "Train Epoch: 1 [42000/50000 (84%)]\tLoss: 1.850262\n",
      "Train Epoch: 1 [45000/50000 (90%)]\tLoss: 1.890257\n",
      "Train Epoch: 1 [48000/50000 (96%)]\tLoss: 1.742343\n",
      "Average train loss: 2.0326508283615112. Epoch: 1\n",
      "\n",
      "Test set: Average loss: 1.7665, Accuracy: 0.3628 (36%)\n",
      "\n",
      "Train Epoch: 2 [0/50000 (0%)]\tLoss: 1.740329\n",
      "Train Epoch: 2 [3000/50000 (6%)]\tLoss: 1.749548\n",
      "Train Epoch: 2 [6000/50000 (12%)]\tLoss: 1.829917\n",
      "Train Epoch: 2 [9000/50000 (18%)]\tLoss: 1.896383\n",
      "Train Epoch: 2 [12000/50000 (24%)]\tLoss: 1.616991\n",
      "Train Epoch: 2 [15000/50000 (30%)]\tLoss: 1.584866\n",
      "Train Epoch: 2 [18000/50000 (36%)]\tLoss: 1.796592\n",
      "Train Epoch: 2 [21000/50000 (42%)]\tLoss: 1.651568\n",
      "Train Epoch: 2 [24000/50000 (48%)]\tLoss: 1.479486\n",
      "Train Epoch: 2 [27000/50000 (54%)]\tLoss: 1.771546\n",
      "Train Epoch: 2 [30000/50000 (60%)]\tLoss: 1.528640\n",
      "Train Epoch: 2 [33000/50000 (66%)]\tLoss: 1.645653\n",
      "Train Epoch: 2 [36000/50000 (72%)]\tLoss: 1.607387\n",
      "Train Epoch: 2 [39000/50000 (78%)]\tLoss: 1.609982\n",
      "Train Epoch: 2 [42000/50000 (84%)]\tLoss: 1.496862\n",
      "Train Epoch: 2 [45000/50000 (90%)]\tLoss: 1.534260\n",
      "Train Epoch: 2 [48000/50000 (96%)]\tLoss: 1.386443\n",
      "Average train loss: 1.6427325641407686. Epoch: 2\n",
      "\n",
      "Test set: Average loss: 1.4996, Accuracy: 0.4626 (46%)\n",
      "\n",
      "Train Epoch: 3 [0/50000 (0%)]\tLoss: 1.589758\n",
      "Train Epoch: 3 [3000/50000 (6%)]\tLoss: 1.479762\n",
      "Train Epoch: 3 [6000/50000 (12%)]\tLoss: 1.432079\n",
      "Train Epoch: 3 [9000/50000 (18%)]\tLoss: 1.364356\n",
      "Train Epoch: 3 [12000/50000 (24%)]\tLoss: 1.448503\n",
      "Train Epoch: 3 [15000/50000 (30%)]\tLoss: 1.343181\n",
      "Train Epoch: 3 [18000/50000 (36%)]\tLoss: 1.457879\n",
      "Train Epoch: 3 [21000/50000 (42%)]\tLoss: 1.572827\n",
      "Train Epoch: 3 [24000/50000 (48%)]\tLoss: 1.534971\n",
      "Train Epoch: 3 [27000/50000 (54%)]\tLoss: 1.388420\n",
      "Train Epoch: 3 [30000/50000 (60%)]\tLoss: 1.436663\n",
      "Train Epoch: 3 [33000/50000 (66%)]\tLoss: 1.378102\n",
      "Train Epoch: 3 [36000/50000 (72%)]\tLoss: 1.597912\n",
      "Train Epoch: 3 [39000/50000 (78%)]\tLoss: 1.401110\n",
      "Train Epoch: 3 [42000/50000 (84%)]\tLoss: 1.414863\n",
      "Train Epoch: 3 [45000/50000 (90%)]\tLoss: 1.477603\n",
      "Train Epoch: 3 [48000/50000 (96%)]\tLoss: 1.244158\n",
      "Average train loss: 1.4448322268093334. Epoch: 3\n",
      "\n",
      "Test set: Average loss: 1.4066, Accuracy: 0.4963 (50%)\n",
      "\n",
      "Train Epoch: 4 [0/50000 (0%)]\tLoss: 1.393606\n",
      "Train Epoch: 4 [3000/50000 (6%)]\tLoss: 1.312699\n",
      "Train Epoch: 4 [6000/50000 (12%)]\tLoss: 1.300567\n",
      "Train Epoch: 4 [9000/50000 (18%)]\tLoss: 1.451766\n",
      "Train Epoch: 4 [12000/50000 (24%)]\tLoss: 1.347819\n",
      "Train Epoch: 4 [15000/50000 (30%)]\tLoss: 1.330854\n",
      "Train Epoch: 4 [18000/50000 (36%)]\tLoss: 1.397985\n",
      "Train Epoch: 4 [21000/50000 (42%)]\tLoss: 1.423704\n",
      "Train Epoch: 4 [24000/50000 (48%)]\tLoss: 1.364319\n",
      "Train Epoch: 4 [27000/50000 (54%)]\tLoss: 1.222794\n",
      "Train Epoch: 4 [30000/50000 (60%)]\tLoss: 1.401385\n",
      "Train Epoch: 4 [33000/50000 (66%)]\tLoss: 1.471859\n",
      "Train Epoch: 4 [36000/50000 (72%)]\tLoss: 1.355330\n",
      "Train Epoch: 4 [39000/50000 (78%)]\tLoss: 1.343862\n",
      "Train Epoch: 4 [42000/50000 (84%)]\tLoss: 1.282667\n",
      "Train Epoch: 4 [45000/50000 (90%)]\tLoss: 1.184717\n",
      "Train Epoch: 4 [48000/50000 (96%)]\tLoss: 1.399936\n",
      "Average train loss: 1.352109951131484. Epoch: 4\n",
      "\n",
      "Test set: Average loss: 1.3275, Accuracy: 0.5309 (53%)\n",
      "\n",
      "Train Epoch: 5 [0/50000 (0%)]\tLoss: 1.432136\n",
      "Train Epoch: 5 [3000/50000 (6%)]\tLoss: 1.469210\n",
      "Train Epoch: 5 [6000/50000 (12%)]\tLoss: 1.323960\n",
      "Train Epoch: 5 [9000/50000 (18%)]\tLoss: 1.399969\n",
      "Train Epoch: 5 [12000/50000 (24%)]\tLoss: 1.466109\n",
      "Train Epoch: 5 [15000/50000 (30%)]\tLoss: 1.489548\n",
      "Train Epoch: 5 [18000/50000 (36%)]\tLoss: 1.195827\n",
      "Train Epoch: 5 [21000/50000 (42%)]\tLoss: 1.243714\n",
      "Train Epoch: 5 [24000/50000 (48%)]\tLoss: 1.237236\n",
      "Train Epoch: 5 [27000/50000 (54%)]\tLoss: 1.341362\n",
      "Train Epoch: 5 [30000/50000 (60%)]\tLoss: 1.414482\n",
      "Train Epoch: 5 [33000/50000 (66%)]\tLoss: 1.204449\n",
      "Train Epoch: 5 [36000/50000 (72%)]\tLoss: 1.394989\n",
      "Train Epoch: 5 [39000/50000 (78%)]\tLoss: 1.359175\n",
      "Train Epoch: 5 [42000/50000 (84%)]\tLoss: 1.315171\n",
      "Train Epoch: 5 [45000/50000 (90%)]\tLoss: 1.118681\n",
      "Train Epoch: 5 [48000/50000 (96%)]\tLoss: 1.487467\n",
      "Average train loss: 1.3466756834703333. Epoch: 5\n",
      "\n",
      "Test set: Average loss: 1.2620, Accuracy: 0.5515 (55%)\n",
      "\n",
      "Train Epoch: 6 [0/50000 (0%)]\tLoss: 1.204452\n",
      "Train Epoch: 6 [3000/50000 (6%)]\tLoss: 1.040295\n",
      "Train Epoch: 6 [6000/50000 (12%)]\tLoss: 1.352228\n",
      "Train Epoch: 6 [9000/50000 (18%)]\tLoss: 1.032299\n",
      "Train Epoch: 6 [12000/50000 (24%)]\tLoss: 1.330002\n",
      "Train Epoch: 6 [15000/50000 (30%)]\tLoss: 1.303295\n",
      "Train Epoch: 6 [18000/50000 (36%)]\tLoss: 1.233486\n",
      "Train Epoch: 6 [21000/50000 (42%)]\tLoss: 1.153315\n",
      "Train Epoch: 6 [24000/50000 (48%)]\tLoss: 1.147475\n",
      "Train Epoch: 6 [27000/50000 (54%)]\tLoss: 1.325267\n",
      "Train Epoch: 6 [30000/50000 (60%)]\tLoss: 1.531429\n",
      "Train Epoch: 6 [33000/50000 (66%)]\tLoss: 1.284978\n",
      "Train Epoch: 6 [36000/50000 (72%)]\tLoss: 1.304798\n",
      "Train Epoch: 6 [39000/50000 (78%)]\tLoss: 1.166381\n",
      "Train Epoch: 6 [42000/50000 (84%)]\tLoss: 1.178056\n",
      "Train Epoch: 6 [45000/50000 (90%)]\tLoss: 1.111776\n",
      "Train Epoch: 6 [48000/50000 (96%)]\tLoss: 1.303192\n",
      "Average train loss: 1.2354544821907492. Epoch: 6\n",
      "\n",
      "Test set: Average loss: 1.2031, Accuracy: 0.5721 (57%)\n",
      "\n",
      "Train Epoch: 7 [0/50000 (0%)]\tLoss: 1.195723\n",
      "Train Epoch: 7 [3000/50000 (6%)]\tLoss: 1.060876\n",
      "Train Epoch: 7 [6000/50000 (12%)]\tLoss: 1.161407\n",
      "Train Epoch: 7 [9000/50000 (18%)]\tLoss: 1.024323\n",
      "Train Epoch: 7 [12000/50000 (24%)]\tLoss: 1.041617\n",
      "Train Epoch: 7 [15000/50000 (30%)]\tLoss: 1.077223\n",
      "Train Epoch: 7 [18000/50000 (36%)]\tLoss: 1.157798\n",
      "Train Epoch: 7 [21000/50000 (42%)]\tLoss: 1.202421\n",
      "Train Epoch: 7 [24000/50000 (48%)]\tLoss: 1.259584\n",
      "Train Epoch: 7 [27000/50000 (54%)]\tLoss: 1.128649\n",
      "Train Epoch: 7 [30000/50000 (60%)]\tLoss: 1.233572\n",
      "Train Epoch: 7 [33000/50000 (66%)]\tLoss: 1.160956\n",
      "Train Epoch: 7 [36000/50000 (72%)]\tLoss: 1.208226\n",
      "Train Epoch: 7 [39000/50000 (78%)]\tLoss: 1.078852\n",
      "Train Epoch: 7 [42000/50000 (84%)]\tLoss: 1.172825\n",
      "Train Epoch: 7 [45000/50000 (90%)]\tLoss: 1.039082\n",
      "Train Epoch: 7 [48000/50000 (96%)]\tLoss: 1.108937\n",
      "Average train loss: 1.1360040622598984. Epoch: 7\n",
      "\n",
      "Test set: Average loss: 1.1529, Accuracy: 0.5974 (60%)\n",
      "\n",
      "Train Epoch: 8 [0/50000 (0%)]\tLoss: 1.109724\n",
      "Train Epoch: 8 [3000/50000 (6%)]\tLoss: 1.279640\n",
      "Train Epoch: 8 [6000/50000 (12%)]\tLoss: 1.083473\n",
      "Train Epoch: 8 [9000/50000 (18%)]\tLoss: 1.141421\n",
      "Train Epoch: 8 [12000/50000 (24%)]\tLoss: 1.011514\n",
      "Train Epoch: 8 [15000/50000 (30%)]\tLoss: 1.130603\n",
      "Train Epoch: 8 [18000/50000 (36%)]\tLoss: 1.022116\n",
      "Train Epoch: 8 [21000/50000 (42%)]\tLoss: 1.183320\n",
      "Train Epoch: 8 [24000/50000 (48%)]\tLoss: 1.025384\n",
      "Train Epoch: 8 [27000/50000 (54%)]\tLoss: 1.063315\n",
      "Train Epoch: 8 [30000/50000 (60%)]\tLoss: 1.193825\n",
      "Train Epoch: 8 [33000/50000 (66%)]\tLoss: 1.076541\n",
      "Train Epoch: 8 [36000/50000 (72%)]\tLoss: 1.264876\n",
      "Train Epoch: 8 [39000/50000 (78%)]\tLoss: 1.246838\n",
      "Train Epoch: 8 [42000/50000 (84%)]\tLoss: 1.202695\n",
      "Train Epoch: 8 [45000/50000 (90%)]\tLoss: 1.021419\n",
      "Train Epoch: 8 [48000/50000 (96%)]\tLoss: 1.017053\n",
      "Average train loss: 1.1219856107936186. Epoch: 8\n",
      "\n",
      "Test set: Average loss: 1.1058, Accuracy: 0.6149 (61%)\n",
      "\n",
      "Train Epoch: 9 [0/50000 (0%)]\tLoss: 0.822389\n",
      "Train Epoch: 9 [3000/50000 (6%)]\tLoss: 1.156150\n",
      "Train Epoch: 9 [6000/50000 (12%)]\tLoss: 1.036772\n",
      "Train Epoch: 9 [9000/50000 (18%)]\tLoss: 0.868923\n",
      "Train Epoch: 9 [12000/50000 (24%)]\tLoss: 1.168175\n",
      "Train Epoch: 9 [15000/50000 (30%)]\tLoss: 0.911730\n",
      "Train Epoch: 9 [18000/50000 (36%)]\tLoss: 0.945028\n",
      "Train Epoch: 9 [21000/50000 (42%)]\tLoss: 1.072396\n",
      "Train Epoch: 9 [24000/50000 (48%)]\tLoss: 0.888466\n",
      "Train Epoch: 9 [27000/50000 (54%)]\tLoss: 1.120784\n",
      "Train Epoch: 9 [30000/50000 (60%)]\tLoss: 0.968383\n",
      "Train Epoch: 9 [33000/50000 (66%)]\tLoss: 1.025240\n",
      "Train Epoch: 9 [36000/50000 (72%)]\tLoss: 1.085197\n",
      "Train Epoch: 9 [39000/50000 (78%)]\tLoss: 1.248295\n",
      "Train Epoch: 9 [42000/50000 (84%)]\tLoss: 0.969388\n",
      "Train Epoch: 9 [45000/50000 (90%)]\tLoss: 1.005567\n",
      "Train Epoch: 9 [48000/50000 (96%)]\tLoss: 0.988054\n",
      "Average train loss: 1.0165256717625786. Epoch: 9\n",
      "\n",
      "Test set: Average loss: 1.0667, Accuracy: 0.6262 (63%)\n",
      "\n",
      "Train Epoch: 10 [0/50000 (0%)]\tLoss: 0.929700\n",
      "Train Epoch: 10 [3000/50000 (6%)]\tLoss: 1.024444\n",
      "Train Epoch: 10 [6000/50000 (12%)]\tLoss: 0.925050\n",
      "Train Epoch: 10 [9000/50000 (18%)]\tLoss: 1.186493\n",
      "Train Epoch: 10 [12000/50000 (24%)]\tLoss: 1.216788\n",
      "Train Epoch: 10 [15000/50000 (30%)]\tLoss: 1.074020\n",
      "Train Epoch: 10 [18000/50000 (36%)]\tLoss: 1.015036\n",
      "Train Epoch: 10 [21000/50000 (42%)]\tLoss: 0.918847\n",
      "Train Epoch: 10 [24000/50000 (48%)]\tLoss: 0.956240\n",
      "Train Epoch: 10 [27000/50000 (54%)]\tLoss: 1.040165\n",
      "Train Epoch: 10 [30000/50000 (60%)]\tLoss: 0.973448\n",
      "Train Epoch: 10 [33000/50000 (66%)]\tLoss: 1.027013\n",
      "Train Epoch: 10 [36000/50000 (72%)]\tLoss: 0.898236\n",
      "Train Epoch: 10 [39000/50000 (78%)]\tLoss: 0.991457\n",
      "Train Epoch: 10 [42000/50000 (84%)]\tLoss: 1.035177\n",
      "Train Epoch: 10 [45000/50000 (90%)]\tLoss: 0.915512\n",
      "Train Epoch: 10 [48000/50000 (96%)]\tLoss: 0.902939\n",
      "Average train loss: 1.0017978829496048. Epoch: 10\n",
      "\n",
      "Test set: Average loss: 1.0411, Accuracy: 0.6333 (63%)\n",
      "\n",
      "Train Epoch: 11 [0/50000 (0%)]\tLoss: 0.969505\n",
      "Train Epoch: 11 [3000/50000 (6%)]\tLoss: 0.890305\n",
      "Train Epoch: 11 [6000/50000 (12%)]\tLoss: 1.102620\n",
      "Train Epoch: 11 [9000/50000 (18%)]\tLoss: 1.022910\n",
      "Train Epoch: 11 [12000/50000 (24%)]\tLoss: 1.020224\n",
      "Train Epoch: 11 [15000/50000 (30%)]\tLoss: 0.832550\n",
      "Train Epoch: 11 [18000/50000 (36%)]\tLoss: 0.973784\n",
      "Train Epoch: 11 [21000/50000 (42%)]\tLoss: 0.963647\n",
      "Train Epoch: 11 [24000/50000 (48%)]\tLoss: 0.913085\n",
      "Train Epoch: 11 [27000/50000 (54%)]\tLoss: 1.039117\n",
      "Train Epoch: 11 [30000/50000 (60%)]\tLoss: 0.865472\n",
      "Train Epoch: 11 [33000/50000 (66%)]\tLoss: 1.233876\n",
      "Train Epoch: 11 [36000/50000 (72%)]\tLoss: 0.927980\n",
      "Train Epoch: 11 [39000/50000 (78%)]\tLoss: 0.922435\n",
      "Train Epoch: 11 [42000/50000 (84%)]\tLoss: 0.992246\n",
      "Train Epoch: 11 [45000/50000 (90%)]\tLoss: 0.974808\n",
      "Train Epoch: 11 [48000/50000 (96%)]\tLoss: 0.869781\n",
      "Average train loss: 0.9714322475826039. Epoch: 11\n",
      "\n",
      "Test set: Average loss: 1.0209, Accuracy: 0.6366 (64%)\n",
      "\n",
      "Train Epoch: 12 [0/50000 (0%)]\tLoss: 1.122072\n",
      "Train Epoch: 12 [3000/50000 (6%)]\tLoss: 0.876527\n",
      "Train Epoch: 12 [6000/50000 (12%)]\tLoss: 0.747767\n",
      "Train Epoch: 12 [9000/50000 (18%)]\tLoss: 1.186872\n",
      "Train Epoch: 12 [12000/50000 (24%)]\tLoss: 0.844686\n",
      "Train Epoch: 12 [15000/50000 (30%)]\tLoss: 1.010360\n",
      "Train Epoch: 12 [18000/50000 (36%)]\tLoss: 0.903975\n",
      "Train Epoch: 12 [21000/50000 (42%)]\tLoss: 0.893798\n",
      "Train Epoch: 12 [24000/50000 (48%)]\tLoss: 0.971431\n",
      "Train Epoch: 12 [27000/50000 (54%)]\tLoss: 0.798607\n",
      "Train Epoch: 12 [30000/50000 (60%)]\tLoss: 1.017844\n",
      "Train Epoch: 12 [33000/50000 (66%)]\tLoss: 1.013015\n",
      "Train Epoch: 12 [36000/50000 (72%)]\tLoss: 0.827614\n",
      "Train Epoch: 12 [39000/50000 (78%)]\tLoss: 0.932038\n",
      "Train Epoch: 12 [42000/50000 (84%)]\tLoss: 0.857620\n",
      "Train Epoch: 12 [45000/50000 (90%)]\tLoss: 0.972222\n",
      "Train Epoch: 12 [48000/50000 (96%)]\tLoss: 0.930433\n",
      "Average train loss: 0.9356988563257105. Epoch: 12\n",
      "\n",
      "Test set: Average loss: 1.0490, Accuracy: 0.6355 (64%)\n",
      "\n",
      "Train Epoch: 13 [0/50000 (0%)]\tLoss: 0.787599\n",
      "Train Epoch: 13 [3000/50000 (6%)]\tLoss: 0.815028\n",
      "Train Epoch: 13 [6000/50000 (12%)]\tLoss: 0.782908\n",
      "Train Epoch: 13 [9000/50000 (18%)]\tLoss: 0.957280\n",
      "Train Epoch: 13 [12000/50000 (24%)]\tLoss: 0.853455\n",
      "Train Epoch: 13 [15000/50000 (30%)]\tLoss: 0.864243\n",
      "Train Epoch: 13 [18000/50000 (36%)]\tLoss: 0.831322\n",
      "Train Epoch: 13 [21000/50000 (42%)]\tLoss: 0.920255\n",
      "Train Epoch: 13 [24000/50000 (48%)]\tLoss: 0.751856\n",
      "Train Epoch: 13 [27000/50000 (54%)]\tLoss: 0.885778\n",
      "Train Epoch: 13 [30000/50000 (60%)]\tLoss: 1.029618\n",
      "Train Epoch: 13 [33000/50000 (66%)]\tLoss: 1.086707\n",
      "Train Epoch: 13 [36000/50000 (72%)]\tLoss: 0.780933\n",
      "Train Epoch: 13 [39000/50000 (78%)]\tLoss: 0.907473\n",
      "Train Epoch: 13 [42000/50000 (84%)]\tLoss: 0.828892\n",
      "Train Epoch: 13 [45000/50000 (90%)]\tLoss: 1.011068\n",
      "Train Epoch: 13 [48000/50000 (96%)]\tLoss: 0.960456\n",
      "Average train loss: 0.8855806203449473. Epoch: 13\n",
      "\n",
      "Test set: Average loss: 0.9736, Accuracy: 0.6625 (66%)\n",
      "\n",
      "Train Epoch: 14 [0/50000 (0%)]\tLoss: 0.790130\n",
      "Train Epoch: 14 [3000/50000 (6%)]\tLoss: 0.817494\n",
      "Train Epoch: 14 [6000/50000 (12%)]\tLoss: 0.838840\n",
      "Train Epoch: 14 [9000/50000 (18%)]\tLoss: 0.836029\n",
      "Train Epoch: 14 [12000/50000 (24%)]\tLoss: 0.817165\n",
      "Train Epoch: 14 [15000/50000 (30%)]\tLoss: 0.935836\n",
      "Train Epoch: 14 [18000/50000 (36%)]\tLoss: 0.884775\n",
      "Train Epoch: 14 [21000/50000 (42%)]\tLoss: 0.925809\n",
      "Train Epoch: 14 [24000/50000 (48%)]\tLoss: 0.828280\n",
      "Train Epoch: 14 [27000/50000 (54%)]\tLoss: 0.844291\n",
      "Train Epoch: 14 [30000/50000 (60%)]\tLoss: 0.908716\n",
      "Train Epoch: 14 [33000/50000 (66%)]\tLoss: 0.764271\n",
      "Train Epoch: 14 [36000/50000 (72%)]\tLoss: 0.923434\n",
      "Train Epoch: 14 [39000/50000 (78%)]\tLoss: 0.785177\n",
      "Train Epoch: 14 [42000/50000 (84%)]\tLoss: 1.015151\n",
      "Train Epoch: 14 [45000/50000 (90%)]\tLoss: 0.887430\n",
      "Train Epoch: 14 [48000/50000 (96%)]\tLoss: 0.830949\n",
      "Average train loss: 0.8608103149077472. Epoch: 14\n",
      "\n",
      "Test set: Average loss: 0.9660, Accuracy: 0.6592 (66%)\n",
      "\n",
      "Train Epoch: 15 [0/50000 (0%)]\tLoss: 0.893938\n",
      "Train Epoch: 15 [3000/50000 (6%)]\tLoss: 0.781492\n",
      "Train Epoch: 15 [6000/50000 (12%)]\tLoss: 0.850512\n",
      "Train Epoch: 15 [9000/50000 (18%)]\tLoss: 0.847852\n",
      "Train Epoch: 15 [12000/50000 (24%)]\tLoss: 1.071307\n",
      "Train Epoch: 15 [15000/50000 (30%)]\tLoss: 0.971026\n",
      "Train Epoch: 15 [18000/50000 (36%)]\tLoss: 0.853589\n",
      "Train Epoch: 15 [21000/50000 (42%)]\tLoss: 0.897179\n",
      "Train Epoch: 15 [24000/50000 (48%)]\tLoss: 0.952740\n",
      "Train Epoch: 15 [27000/50000 (54%)]\tLoss: 0.828193\n",
      "Train Epoch: 15 [30000/50000 (60%)]\tLoss: 0.781338\n",
      "Train Epoch: 15 [33000/50000 (66%)]\tLoss: 0.910871\n",
      "Train Epoch: 15 [36000/50000 (72%)]\tLoss: 0.693376\n",
      "Train Epoch: 15 [39000/50000 (78%)]\tLoss: 0.924532\n",
      "Train Epoch: 15 [42000/50000 (84%)]\tLoss: 0.780257\n",
      "Train Epoch: 15 [45000/50000 (90%)]\tLoss: 0.614298\n",
      "Train Epoch: 15 [48000/50000 (96%)]\tLoss: 0.850910\n",
      "Average train loss: 0.8531418337541468. Epoch: 15\n",
      "\n",
      "Test set: Average loss: 0.9539, Accuracy: 0.6671 (67%)\n",
      "\n"
     ]
    },
    {
     "data": {
      "text/html": [
       "<style>\n",
       "    table.wandb td:nth-child(1) { padding: 0 10px; text-align: left ; width: auto;} td:nth-child(2) {text-align: left ; width: 100%}\n",
       "    .wandb-row { display: flex; flex-direction: row; flex-wrap: wrap; justify-content: flex-start; width: 100% }\n",
       "    .wandb-col { display: flex; flex-direction: column; flex-basis: 100%; flex: 1; padding: 10px; }\n",
       "    </style>\n",
       "<div class=\"wandb-row\"><div class=\"wandb-col\"><h3>Run history:</h3><br/><table class=\"wandb\"><tr><td>test_accuracy_5</td><td>▁▃▄▅▅▆▆▇▇▇▇▇███</td></tr><tr><td>test_loss_5</td><td>█▆▅▄▄▃▃▂▂▂▂▂▁▁▁</td></tr><tr><td>train_loss_5</td><td>█▆▅▄▄▃▃▃▂▂▂▁▁▁▁</td></tr></table><br/></div><div class=\"wandb-col\"><h3>Run summary:</h3><br/><table class=\"wandb\"><tr><td>test_accuracy_5</td><td>0.6671</td></tr><tr><td>test_loss_5</td><td>0.95388</td></tr><tr><td>train_loss_5</td><td>0.85314</td></tr></table><br/></div></div>"
      ],
      "text/plain": [
       "<IPython.core.display.HTML object>"
      ]
     },
     "metadata": {},
     "output_type": "display_data"
    },
    {
     "data": {
      "text/html": [
       " View run <strong style=\"color:#cdcd00\">playful-paper-7</strong> at: <a href='https://wandb.ai/speml/federated_learning/runs/nv2xgnkn' target=\"_blank\">https://wandb.ai/speml/federated_learning/runs/nv2xgnkn</a><br/> View project at: <a href='https://wandb.ai/speml/federated_learning' target=\"_blank\">https://wandb.ai/speml/federated_learning</a><br/>Synced 6 W&B file(s), 0 media file(s), 0 artifact file(s) and 0 other file(s)"
      ],
      "text/plain": [
       "<IPython.core.display.HTML object>"
      ]
     },
     "metadata": {},
     "output_type": "display_data"
    },
    {
     "data": {
      "text/html": [
       "Find logs at: <code>./wandb/run-20240721_155832-nv2xgnkn/logs</code>"
      ],
      "text/plain": [
       "<IPython.core.display.HTML object>"
      ]
     },
     "metadata": {},
     "output_type": "display_data"
    }
   ],
   "source": [
    "start_training(num_workers=NUM_WORKERS)"
   ]
  }
 ],
 "metadata": {
  "kernelspec": {
   "display_name": "speml_2",
   "language": "python",
   "name": "python3"
  },
  "language_info": {
   "codemirror_mode": {
    "name": "ipython",
    "version": 3
   },
   "file_extension": ".py",
   "mimetype": "text/x-python",
   "name": "python",
   "nbconvert_exporter": "python",
   "pygments_lexer": "ipython3",
   "version": "3.8.19"
  }
 },
 "nbformat": 4,
 "nbformat_minor": 2
}
