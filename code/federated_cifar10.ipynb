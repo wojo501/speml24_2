{
 "cells": [
  {
   "cell_type": "code",
   "execution_count": 5,
   "metadata": {},
   "outputs": [],
   "source": [
    "import tensorflow as tf\n",
    "import tensorflow_federated as tff\n",
    "import numpy as np\n",
    "import matplotlib.pyplot as plt\n",
    "import wandb\n",
    "from wandb.integration.keras import WandbCallback\n",
    "import os"
   ]
  },
  {
   "cell_type": "code",
   "execution_count": 6,
   "metadata": {},
   "outputs": [],
   "source": [
    "USE_WANDB = True\n",
    "NUM_CLIENTS = 10\n",
    "NUM_ROUNDS = 10\n",
    "BATCH_SIZE = 20"
   ]
  },
  {
   "cell_type": "code",
   "execution_count": 7,
   "metadata": {},
   "outputs": [],
   "source": [
    "# Load CIFAR10 dataset\n",
    "(x_train, y_train), (x_test, y_test) = tf.keras.datasets.cifar10.load_data()\n",
    "\n",
    "# Normalize pixel values\n",
    "x_train, x_test = x_train / 255.0, x_test / 255.0\n",
    "x_train, x_test = x_train.astype(np.float32), x_test.astype(np.float32)\n",
    "\n",
    "# One-hot encode the labels\n",
    "y_train = tf.keras.utils.to_categorical(y_train, 10)\n",
    "y_test = tf.keras.utils.to_categorical(y_test, 10)"
   ]
  },
  {
   "cell_type": "code",
   "execution_count": 8,
   "metadata": {},
   "outputs": [
    {
     "data": {
      "text/html": [
       "Finishing last run (ID:4d3nc5e9) before initializing another..."
      ],
      "text/plain": [
       "<IPython.core.display.HTML object>"
      ]
     },
     "metadata": {},
     "output_type": "display_data"
    },
    {
     "data": {
      "text/html": [
       " View run <strong style=\"color:#cdcd00\">tf_federated_differential_privacy_10clients_50rounds_20batchsize</strong> at: <a href='https://wandb.ai/speml/federated_learning/runs/4d3nc5e9' target=\"_blank\">https://wandb.ai/speml/federated_learning/runs/4d3nc5e9</a><br/> View project at: <a href='https://wandb.ai/speml/federated_learning' target=\"_blank\">https://wandb.ai/speml/federated_learning</a><br/>Synced 4 W&B file(s), 0 media file(s), 0 artifact file(s) and 0 other file(s)"
      ],
      "text/plain": [
       "<IPython.core.display.HTML object>"
      ]
     },
     "metadata": {},
     "output_type": "display_data"
    },
    {
     "data": {
      "text/html": [
       "Find logs at: <code>./wandb/run-20240728_222602-4d3nc5e9/logs</code>"
      ],
      "text/plain": [
       "<IPython.core.display.HTML object>"
      ]
     },
     "metadata": {},
     "output_type": "display_data"
    },
    {
     "data": {
      "text/html": [
       "The new W&B backend becomes opt-out in version 0.18.0; try it out with `wandb.require(\"core\")`! See https://wandb.me/wandb-core for more information."
      ],
      "text/plain": [
       "<IPython.core.display.HTML object>"
      ]
     },
     "metadata": {},
     "output_type": "display_data"
    },
    {
     "data": {
      "text/html": [
       "Successfully finished last run (ID:4d3nc5e9). Initializing new run:<br/>"
      ],
      "text/plain": [
       "<IPython.core.display.HTML object>"
      ]
     },
     "metadata": {},
     "output_type": "display_data"
    },
    {
     "data": {
      "text/html": [
       "Tracking run with wandb version 0.17.5"
      ],
      "text/plain": [
       "<IPython.core.display.HTML object>"
      ]
     },
     "metadata": {},
     "output_type": "display_data"
    },
    {
     "data": {
      "text/html": [
       "Run data is saved locally in <code>/var/home/stephan/Dev/tu/speml24-2/code/wandb/run-20240728_222618-5feo8opi</code>"
      ],
      "text/plain": [
       "<IPython.core.display.HTML object>"
      ]
     },
     "metadata": {},
     "output_type": "display_data"
    },
    {
     "data": {
      "text/html": [
       "Syncing run <strong><a href='https://wandb.ai/speml/federated_learning/runs/5feo8opi' target=\"_blank\">tf_federated_differential_privacy_10clients_50rounds_20batchsize</a></strong> to <a href='https://wandb.ai/speml/federated_learning' target=\"_blank\">Weights & Biases</a> (<a href='https://wandb.me/run' target=\"_blank\">docs</a>)<br/>"
      ],
      "text/plain": [
       "<IPython.core.display.HTML object>"
      ]
     },
     "metadata": {},
     "output_type": "display_data"
    },
    {
     "data": {
      "text/html": [
       " View project at <a href='https://wandb.ai/speml/federated_learning' target=\"_blank\">https://wandb.ai/speml/federated_learning</a>"
      ],
      "text/plain": [
       "<IPython.core.display.HTML object>"
      ]
     },
     "metadata": {},
     "output_type": "display_data"
    },
    {
     "data": {
      "text/html": [
       " View run at <a href='https://wandb.ai/speml/federated_learning/runs/5feo8opi' target=\"_blank\">https://wandb.ai/speml/federated_learning/runs/5feo8opi</a>"
      ],
      "text/plain": [
       "<IPython.core.display.HTML object>"
      ]
     },
     "metadata": {},
     "output_type": "display_data"
    },
    {
     "name": "stderr",
     "output_type": "stream",
     "text": [
      "2024-07-28 22:26:26.645638: I tensorflow/core/grappler/devices.cc:66] Number of eligible GPUs (core count >= 8, compute capability >= 0.0): 0\n",
      "2024-07-28 22:26:26.645758: I tensorflow/core/grappler/clusters/single_machine.cc:361] Starting new session\n",
      "2024-07-28 22:26:26.658411: I tensorflow/core/grappler/devices.cc:66] Number of eligible GPUs (core count >= 8, compute capability >= 0.0): 0\n",
      "2024-07-28 22:26:26.658482: I tensorflow/core/grappler/clusters/single_machine.cc:361] Starting new session\n",
      "2024-07-28 22:26:26.662640: I tensorflow/core/grappler/devices.cc:66] Number of eligible GPUs (core count >= 8, compute capability >= 0.0): 0\n",
      "2024-07-28 22:26:26.662733: I tensorflow/core/grappler/clusters/single_machine.cc:361] Starting new session\n",
      "2024-07-28 22:26:26.667654: I tensorflow/core/grappler/devices.cc:66] Number of eligible GPUs (core count >= 8, compute capability >= 0.0): 0\n",
      "2024-07-28 22:26:26.667731: I tensorflow/core/grappler/clusters/single_machine.cc:361] Starting new session\n",
      "2024-07-28 22:26:26.676903: I tensorflow/core/grappler/devices.cc:66] Number of eligible GPUs (core count >= 8, compute capability >= 0.0): 0\n",
      "2024-07-28 22:26:26.676992: I tensorflow/core/grappler/clusters/single_machine.cc:361] Starting new session\n",
      "2024-07-28 22:26:26.691193: I tensorflow/core/grappler/devices.cc:66] Number of eligible GPUs (core count >= 8, compute capability >= 0.0): 0\n",
      "2024-07-28 22:26:26.691265: I tensorflow/core/grappler/clusters/single_machine.cc:361] Starting new session\n",
      "2024-07-28 22:26:26.699465: I tensorflow/core/grappler/devices.cc:66] Number of eligible GPUs (core count >= 8, compute capability >= 0.0): 0\n",
      "2024-07-28 22:26:26.699570: I tensorflow/core/grappler/clusters/single_machine.cc:361] Starting new session\n",
      "WARNING: All log messages before absl::InitializeLog() is called are written to STDERR\n",
      "I0000 00:00:1722198386.724538  311687 config.cc:230] gRPC experiments enabled: call_status_override_on_cancellation, event_engine_dns, event_engine_listener, http2_stats_fix, monitoring_experiment, pick_first_new, trace_record_callops, work_serializer_clears_time_cache\n",
      "I0000 00:00:1722198386.726950  312379 subchannel.cc:806] subchannel 0x7f4f10001610 {address=ipv6:%5B::1%5D:44293, args={grpc.client_channel_factory=0x7f513473ad60, grpc.default_authority=localhost:44293, grpc.internal.channel_credentials=0x7f5134744000, grpc.internal.client_channel_call_destination=0x7f513d44b3d0, grpc.internal.event_engine=0x7f4f100139b0, grpc.internal.security_connector=0x7f4f10013a10, grpc.internal.subchannel_pool=0x7f5134459100, grpc.max_message_length=2000000000, grpc.max_receive_message_length=2000000000, grpc.max_send_message_length=2000000000, grpc.primary_user_agent=grpc-python/1.65.1, grpc.resource_quota=0x7f51340dba20, grpc.server_uri=dns:///localhost:44293}}: connect failed (UNKNOWN:Failed to connect to remote host: connect: Connection refused (111) {created_time:\"2024-07-28T22:26:26.726672125+02:00\"}), backing off for 999 ms\n",
      "I0000 00:00:1722198386.727094  312379 subchannel.cc:806] subchannel 0x7f4f10002220 {address=ipv4:127.0.0.1:44293, args={grpc.client_channel_factory=0x7f513473ad60, grpc.default_authority=localhost:44293, grpc.internal.channel_credentials=0x7f5134744000, grpc.internal.client_channel_call_destination=0x7f513d44b3d0, grpc.internal.event_engine=0x7f4f10002150, grpc.internal.security_connector=0x7f4f10001d70, grpc.internal.subchannel_pool=0x7f5134459100, grpc.max_message_length=2000000000, grpc.max_receive_message_length=2000000000, grpc.max_send_message_length=2000000000, grpc.primary_user_agent=grpc-python/1.65.1, grpc.resource_quota=0x7f51340dba20, grpc.server_uri=dns:///localhost:44293}}: connect failed (UNKNOWN:Failed to connect to remote host: connect: Connection refused (111) {created_time:\"2024-07-28T22:26:26.727067494+02:00\"}), backing off for 999 ms\n",
      "I0000 00:00:1722198387.727393  312397 subchannel.cc:761] subchannel 0x7f4f10001610 {address=ipv6:%5B::1%5D:44293, args={grpc.client_channel_factory=0x7f513473ad60, grpc.default_authority=localhost:44293, grpc.internal.channel_credentials=0x7f5134744000, grpc.internal.client_channel_call_destination=0x7f513d44b3d0, grpc.internal.event_engine=0x7f4f100139b0, grpc.internal.security_connector=0x7f4f10013a10, grpc.internal.subchannel_pool=0x7f5134459100, grpc.max_message_length=2000000000, grpc.max_receive_message_length=2000000000, grpc.max_send_message_length=2000000000, grpc.primary_user_agent=grpc-python/1.65.1, grpc.resource_quota=0x7f51340dba20, grpc.server_uri=dns:///localhost:44293}}: backoff delay elapsed, reporting IDLE\n",
      "I0000 00:00:1722198387.727405  312391 subchannel.cc:761] subchannel 0x7f4f10002220 {address=ipv4:127.0.0.1:44293, args={grpc.client_channel_factory=0x7f513473ad60, grpc.default_authority=localhost:44293, grpc.internal.channel_credentials=0x7f5134744000, grpc.internal.client_channel_call_destination=0x7f513d44b3d0, grpc.internal.event_engine=0x7f4f10002150, grpc.internal.security_connector=0x7f4f10001d70, grpc.internal.subchannel_pool=0x7f5134459100, grpc.max_message_length=2000000000, grpc.max_receive_message_length=2000000000, grpc.max_send_message_length=2000000000, grpc.primary_user_agent=grpc-python/1.65.1, grpc.resource_quota=0x7f51340dba20, grpc.server_uri=dns:///localhost:44293}}: backoff delay elapsed, reporting IDLE\n",
      "2024-07-28 22:26:29.482009: I tensorflow/core/grappler/devices.cc:66] Number of eligible GPUs (core count >= 8, compute capability >= 0.0): 0\n",
      "2024-07-28 22:26:29.482130: I tensorflow/core/grappler/clusters/single_machine.cc:361] Starting new session\n",
      "2024-07-28 22:26:29.576838: I tensorflow/core/grappler/devices.cc:66] Number of eligible GPUs (core count >= 8, compute capability >= 0.0): 0\n",
      "2024-07-28 22:26:29.576925: I tensorflow/core/grappler/clusters/single_machine.cc:361] Starting new session\n",
      "2024-07-28 22:26:29.581050: I tensorflow/core/grappler/devices.cc:66] Number of eligible GPUs (core count >= 8, compute capability >= 0.0): 0\n",
      "2024-07-28 22:26:29.581127: I tensorflow/core/grappler/clusters/single_machine.cc:361] Starting new session\n",
      "2024-07-28 22:26:29.586296: I tensorflow/core/grappler/devices.cc:66] Number of eligible GPUs (core count >= 8, compute capability >= 0.0): 0\n",
      "2024-07-28 22:26:29.586361: I tensorflow/core/grappler/clusters/single_machine.cc:361] Starting new session\n",
      "2024-07-28 22:26:29.592547: I tensorflow/core/grappler/devices.cc:66] Number of eligible GPUs (core count >= 8, compute capability >= 0.0): 0\n",
      "2024-07-28 22:26:29.592607: I tensorflow/core/grappler/clusters/single_machine.cc:361] Starting new session\n",
      "2024-07-28 22:26:29.605038: I tensorflow/core/grappler/devices.cc:66] Number of eligible GPUs (core count >= 8, compute capability >= 0.0): 0\n",
      "2024-07-28 22:26:29.605124: I tensorflow/core/grappler/clusters/single_machine.cc:361] Starting new session\n",
      "2024-07-28 22:26:29.610507: I tensorflow/core/grappler/devices.cc:66] Number of eligible GPUs (core count >= 8, compute capability >= 0.0): 0\n",
      "2024-07-28 22:26:29.610558: I tensorflow/core/grappler/clusters/single_machine.cc:361] Starting new session\n",
      "2024-07-28 22:26:29.626576: I tensorflow/core/grappler/devices.cc:66] Number of eligible GPUs (core count >= 8, compute capability >= 0.0): 0\n",
      "2024-07-28 22:26:29.626652: I tensorflow/core/grappler/clusters/single_machine.cc:361] Starting new session\n",
      "2024-07-28 22:26:29.630745: I tensorflow/core/grappler/devices.cc:66] Number of eligible GPUs (core count >= 8, compute capability >= 0.0): 0\n",
      "2024-07-28 22:26:29.630817: I tensorflow/core/grappler/clusters/single_machine.cc:361] Starting new session\n",
      "2024-07-28 22:26:29.634900: I tensorflow/core/grappler/devices.cc:66] Number of eligible GPUs (core count >= 8, compute capability >= 0.0): 0\n",
      "2024-07-28 22:26:29.634970: I tensorflow/core/grappler/clusters/single_machine.cc:361] Starting new session\n",
      "2024-07-28 22:26:29.637615: I tensorflow/core/grappler/devices.cc:66] Number of eligible GPUs (core count >= 8, compute capability >= 0.0): 0\n",
      "2024-07-28 22:26:29.637671: I tensorflow/core/grappler/clusters/single_machine.cc:361] Starting new session\n",
      "2024-07-28 22:26:29.640720: I tensorflow/core/grappler/devices.cc:66] Number of eligible GPUs (core count >= 8, compute capability >= 0.0): 0\n",
      "2024-07-28 22:26:29.640771: I tensorflow/core/grappler/clusters/single_machine.cc:361] Starting new session\n",
      "2024-07-28 22:26:29.644187: I tensorflow/core/grappler/devices.cc:66] Number of eligible GPUs (core count >= 8, compute capability >= 0.0): 0\n",
      "2024-07-28 22:26:29.644232: I tensorflow/core/grappler/clusters/single_machine.cc:361] Starting new session\n",
      "2024-07-28 22:26:29.649035: I tensorflow/core/grappler/devices.cc:66] Number of eligible GPUs (core count >= 8, compute capability >= 0.0): 0\n",
      "2024-07-28 22:26:29.649095: I tensorflow/core/grappler/clusters/single_machine.cc:361] Starting new session\n",
      "2024-07-28 22:26:29.655387: I tensorflow/core/grappler/devices.cc:66] Number of eligible GPUs (core count >= 8, compute capability >= 0.0): 0\n",
      "2024-07-28 22:26:29.655446: I tensorflow/core/grappler/clusters/single_machine.cc:361] Starting new session\n",
      "2024-07-28 22:26:29.666570: I tensorflow/core/grappler/devices.cc:66] Number of eligible GPUs (core count >= 8, compute capability >= 0.0): 0\n",
      "2024-07-28 22:26:29.666661: I tensorflow/core/grappler/clusters/single_machine.cc:361] Starting new session\n",
      "2024-07-28 22:26:29.673769: I tensorflow/core/grappler/devices.cc:66] Number of eligible GPUs (core count >= 8, compute capability >= 0.0): 0\n",
      "2024-07-28 22:26:29.673844: I tensorflow/core/grappler/clusters/single_machine.cc:361] Starting new session\n",
      "2024-07-28 22:26:29.682878: I tensorflow/core/grappler/devices.cc:66] Number of eligible GPUs (core count >= 8, compute capability >= 0.0): 0\n",
      "2024-07-28 22:26:29.682970: I tensorflow/core/grappler/clusters/single_machine.cc:361] Starting new session\n",
      "2024-07-28 22:26:29.694271: I tensorflow/core/grappler/devices.cc:66] Number of eligible GPUs (core count >= 8, compute capability >= 0.0): 0\n",
      "2024-07-28 22:26:29.694338: I tensorflow/core/grappler/clusters/single_machine.cc:361] Starting new session\n",
      "2024-07-28 22:26:29.708926: I tensorflow/core/grappler/devices.cc:66] Number of eligible GPUs (core count >= 8, compute capability >= 0.0): 0\n",
      "2024-07-28 22:26:29.708989: I tensorflow/core/grappler/clusters/single_machine.cc:361] Starting new session\n",
      "2024-07-28 22:26:29.713180: I tensorflow/core/grappler/devices.cc:66] Number of eligible GPUs (core count >= 8, compute capability >= 0.0): 0\n",
      "2024-07-28 22:26:29.713241: I tensorflow/core/grappler/clusters/single_machine.cc:361] Starting new session\n",
      "2024-07-28 22:26:29.716626: I tensorflow/core/grappler/devices.cc:66] Number of eligible GPUs (core count >= 8, compute capability >= 0.0): 0\n",
      "2024-07-28 22:26:29.716696: I tensorflow/core/grappler/clusters/single_machine.cc:361] Starting new session\n",
      "2024-07-28 22:26:29.718668: I tensorflow/core/grappler/devices.cc:66] Number of eligible GPUs (core count >= 8, compute capability >= 0.0): 0\n",
      "2024-07-28 22:26:29.718736: I tensorflow/core/grappler/clusters/single_machine.cc:361] Starting new session\n",
      "2024-07-28 22:26:29.721656: I tensorflow/core/grappler/devices.cc:66] Number of eligible GPUs (core count >= 8, compute capability >= 0.0): 0\n",
      "2024-07-28 22:26:29.721712: I tensorflow/core/grappler/clusters/single_machine.cc:361] Starting new session\n",
      "2024-07-28 22:26:29.731798: I tensorflow/core/grappler/devices.cc:66] Number of eligible GPUs (core count >= 8, compute capability >= 0.0): 0\n",
      "2024-07-28 22:26:29.731863: I tensorflow/core/grappler/clusters/single_machine.cc:361] Starting new session\n",
      "2024-07-28 22:26:48.321198: I tensorflow/core/grappler/devices.cc:66] Number of eligible GPUs (core count >= 8, compute capability >= 0.0): 0\n",
      "2024-07-28 22:26:48.321296: I tensorflow/core/grappler/clusters/single_machine.cc:361] Starting new session\n"
     ]
    },
    {
     "name": "stdout",
     "output_type": "stream",
     "text": [
      "313/313 - 1s - loss: 2.2999 - categorical_accuracy: 0.1019 - 661ms/epoch - 2ms/step\n",
      "Round 1, Metrics=OrderedDict([('distributor', ()), ('client_work', OrderedDict([('train', OrderedDict([('categorical_accuracy', 0.2874), ('loss', 1.9209325), ('num_examples', 50000), ('num_batches', 2500)]))])), ('aggregator', OrderedDict([('zeroing', OrderedDict([('dp_query_metrics', OrderedDict([('clip', 0.1105171)])), ('dp', ())])), ('zeroing_norm', 21.0), ('zeroed_count', 0)])), ('finalizer', OrderedDict([('update_non_finite', 0)]))]), Val_Metrics=[2.299900770187378, 0.10189999639987946]\n",
      "313/313 - 1s - loss: 2.2987 - categorical_accuracy: 0.1037 - 597ms/epoch - 2ms/step\n",
      "Round 2, Metrics=OrderedDict([('distributor', ()), ('client_work', OrderedDict([('train', OrderedDict([('categorical_accuracy', 0.29096), ('loss', 1.9127438), ('num_examples', 50000), ('num_batches', 2500)]))])), ('aggregator', OrderedDict([('zeroing', OrderedDict([('dp_query_metrics', OrderedDict([('clip', 0.12214029)])), ('dp', ())])), ('zeroing_norm', 20.099854), ('zeroed_count', 0)])), ('finalizer', OrderedDict([('update_non_finite', 0)]))]), Val_Metrics=[2.298666000366211, 0.10369999706745148]\n",
      "313/313 - 1s - loss: 2.2972 - categorical_accuracy: 0.1076 - 508ms/epoch - 2ms/step\n",
      "Round 3, Metrics=OrderedDict([('distributor', ()), ('client_work', OrderedDict([('train', OrderedDict([('categorical_accuracy', 0.29622), ('loss', 1.9027907), ('num_examples', 50000), ('num_batches', 2500)]))])), ('aggregator', OrderedDict([('zeroing', OrderedDict([('dp_query_metrics', OrderedDict([('clip', 0.1349859)])), ('dp', ())])), ('zeroing_norm', 19.24022), ('zeroed_count', 0)])), ('finalizer', OrderedDict([('update_non_finite', 0)]))]), Val_Metrics=[2.2972023487091064, 0.10760000348091125]\n",
      "313/313 - 1s - loss: 2.2956 - categorical_accuracy: 0.1102 - 533ms/epoch - 2ms/step\n",
      "Round 4, Metrics=OrderedDict([('distributor', ()), ('client_work', OrderedDict([('train', OrderedDict([('categorical_accuracy', 0.298), ('loss', 1.896861), ('num_examples', 50000), ('num_batches', 2500)]))])), ('aggregator', OrderedDict([('zeroing', OrderedDict([('dp_query_metrics', OrderedDict([('clip', 0.14918248)])), ('dp', ())])), ('zeroing_norm', 18.419275), ('zeroed_count', 0)])), ('finalizer', OrderedDict([('update_non_finite', 0)]))]), Val_Metrics=[2.2955620288848877, 0.11020000278949738]\n",
      "313/313 - 1s - loss: 2.2936 - categorical_accuracy: 0.1107 - 522ms/epoch - 2ms/step\n",
      "Round 5, Metrics=OrderedDict([('distributor', ()), ('client_work', OrderedDict([('train', OrderedDict([('categorical_accuracy', 0.30292), ('loss', 1.8860172), ('num_examples', 50000), ('num_batches', 2500)]))])), ('aggregator', OrderedDict([('zeroing', OrderedDict([('dp_query_metrics', OrderedDict([('clip', 0.16294618)])), ('dp', ())])), ('zeroing_norm', 17.63528), ('zeroed_count', 0)])), ('finalizer', OrderedDict([('update_non_finite', 0)]))]), Val_Metrics=[2.293600082397461, 0.11069999635219574]\n",
      "313/313 - 0s - loss: 2.2910 - categorical_accuracy: 0.1211 - 487ms/epoch - 2ms/step\n",
      "Round 6, Metrics=OrderedDict([('distributor', ()), ('client_work', OrderedDict([('train', OrderedDict([('categorical_accuracy', 0.3068), ('loss', 1.8777964), ('num_examples', 50000), ('num_batches', 2500)]))])), ('aggregator', OrderedDict([('zeroing', OrderedDict([('dp_query_metrics', OrderedDict([('clip', 0.18008338)])), ('dp', ())])), ('zeroing_norm', 16.88657), ('zeroed_count', 0)])), ('finalizer', OrderedDict([('update_non_finite', 0)]))]), Val_Metrics=[2.2910497188568115, 0.12110000103712082]\n",
      "313/313 - 0s - loss: 2.2882 - categorical_accuracy: 0.1276 - 484ms/epoch - 2ms/step\n",
      "Round 7, Metrics=OrderedDict([('distributor', ()), ('client_work', OrderedDict([('train', OrderedDict([('categorical_accuracy', 0.31004), ('loss', 1.8674449), ('num_examples', 50000), ('num_batches', 2500)]))])), ('aggregator', OrderedDict([('zeroing', OrderedDict([('dp_query_metrics', OrderedDict([('clip', 0.19491653)])), ('dp', ())])), ('zeroing_norm', 16.171558), ('zeroed_count', 0)])), ('finalizer', OrderedDict([('update_non_finite', 0)]))]), Val_Metrics=[2.288240909576416, 0.12759999930858612]\n",
      "313/313 - 0s - loss: 2.2843 - categorical_accuracy: 0.1406 - 481ms/epoch - 2ms/step\n",
      "Round 8, Metrics=OrderedDict([('distributor', ()), ('client_work', OrderedDict([('train', OrderedDict([('categorical_accuracy', 0.31392), ('loss', 1.8593031), ('num_examples', 50000), ('num_batches', 2500)]))])), ('aggregator', OrderedDict([('zeroing', OrderedDict([('dp_query_metrics', OrderedDict([('clip', 0.21541609)])), ('dp', ())])), ('zeroing_norm', 15.488727), ('zeroed_count', 0)])), ('finalizer', OrderedDict([('update_non_finite', 0)]))]), Val_Metrics=[2.2842793464660645, 0.14059999585151672]\n",
      "313/313 - 0s - loss: 2.2803 - categorical_accuracy: 0.1651 - 488ms/epoch - 2ms/step\n",
      "Round 9, Metrics=OrderedDict([('distributor', ()), ('client_work', OrderedDict([('train', OrderedDict([('categorical_accuracy', 0.32074), ('loss', 1.8402988), ('num_examples', 50000), ('num_batches', 2500)]))])), ('aggregator', OrderedDict([('zeroing', OrderedDict([('dp_query_metrics', OrderedDict([('clip', 0.2380716)])), ('dp', ())])), ('zeroing_norm', 14.836627), ('zeroed_count', 0)])), ('finalizer', OrderedDict([('update_non_finite', 0)]))]), Val_Metrics=[2.2802798748016357, 0.16509999334812164]\n",
      "313/313 - 0s - loss: 2.2752 - categorical_accuracy: 0.1764 - 485ms/epoch - 2ms/step\n",
      "Round 10, Metrics=OrderedDict([('distributor', ()), ('client_work', OrderedDict([('train', OrderedDict([('categorical_accuracy', 0.32694), ('loss', 1.8288059), ('num_examples', 50000), ('num_batches', 2500)]))])), ('aggregator', OrderedDict([('zeroing', OrderedDict([('dp_query_metrics', OrderedDict([('clip', 0.26002932)])), ('dp', ())])), ('zeroing_norm', 14.213877), ('zeroed_count', 0)])), ('finalizer', OrderedDict([('update_non_finite', 0)]))]), Val_Metrics=[2.275198221206665, 0.17640000581741333]\n",
      "313/313 - 0s - loss: 2.2673 - categorical_accuracy: 0.2202 - 482ms/epoch - 2ms/step\n",
      "Round 11, Metrics=OrderedDict([('distributor', ()), ('client_work', OrderedDict([('train', OrderedDict([('categorical_accuracy', 0.32812), ('loss', 1.8178091), ('num_examples', 50000), ('num_batches', 2500)]))])), ('aggregator', OrderedDict([('zeroing', OrderedDict([('dp_query_metrics', OrderedDict([('clip', 0.28737685)])), ('dp', ())])), ('zeroing_norm', 13.619155), ('zeroed_count', 0)])), ('finalizer', OrderedDict([('update_non_finite', 0)]))]), Val_Metrics=[2.267272710800171, 0.22020000219345093]\n",
      "313/313 - 0s - loss: 2.2570 - categorical_accuracy: 0.2271 - 484ms/epoch - 2ms/step\n",
      "Round 12, Metrics=OrderedDict([('distributor', ()), ('client_work', OrderedDict([('train', OrderedDict([('categorical_accuracy', 0.33558), ('loss', 1.8054594), ('num_examples', 50000), ('num_batches', 2500)]))])), ('aggregator', OrderedDict([('zeroing', OrderedDict([('dp_query_metrics', OrderedDict([('clip', 0.3171449)])), ('dp', ())])), ('zeroing_norm', 13.0512), ('zeroed_count', 0)])), ('finalizer', OrderedDict([('update_non_finite', 0)]))]), Val_Metrics=[2.2569565773010254, 0.22709999978542328]\n",
      "313/313 - 1s - loss: 2.2481 - categorical_accuracy: 0.2437 - 559ms/epoch - 2ms/step\n",
      "Round 13, Metrics=OrderedDict([('distributor', ()), ('client_work', OrderedDict([('train', OrderedDict([('categorical_accuracy', 0.3383), ('loss', 1.793706), ('num_examples', 50000), ('num_batches', 2500)]))])), ('aggregator', OrderedDict([('zeroing', OrderedDict([('dp_query_metrics', OrderedDict([('clip', 0.34740457)])), ('dp', ())])), ('zeroing_norm', 12.508807), ('zeroed_count', 0)])), ('finalizer', OrderedDict([('update_non_finite', 0)]))]), Val_Metrics=[2.2481489181518555, 0.24369999766349792]\n",
      "313/313 - 1s - loss: 2.2319 - categorical_accuracy: 0.2984 - 528ms/epoch - 2ms/step\n",
      "Round 14, Metrics=OrderedDict([('distributor', ()), ('client_work', OrderedDict([('train', OrderedDict([('categorical_accuracy', 0.34236), ('loss', 1.7814832), ('num_examples', 50000), ('num_batches', 2500)]))])), ('aggregator', OrderedDict([('zeroing', OrderedDict([('dp_query_metrics', OrderedDict([('clip', 0.38394144)])), ('dp', ())])), ('zeroing_norm', 11.990827), ('zeroed_count', 0)])), ('finalizer', OrderedDict([('update_non_finite', 0)]))]), Val_Metrics=[2.2318508625030518, 0.29840001463890076]\n",
      "313/313 - 1s - loss: 2.2129 - categorical_accuracy: 0.3372 - 532ms/epoch - 2ms/step\n",
      "Round 15, Metrics=OrderedDict([('distributor', ()), ('client_work', OrderedDict([('train', OrderedDict([('categorical_accuracy', 0.34854), ('loss', 1.7680504), ('num_examples', 50000), ('num_batches', 2500)]))])), ('aggregator', OrderedDict([('zeroing', OrderedDict([('dp_query_metrics', OrderedDict([('clip', 0.42390567)])), ('dp', ())])), ('zeroing_norm', 11.496159), ('zeroed_count', 0)])), ('finalizer', OrderedDict([('update_non_finite', 0)]))]), Val_Metrics=[2.212933301925659, 0.33719998598098755]\n",
      "313/313 - 1s - loss: 2.1960 - categorical_accuracy: 0.3299 - 566ms/epoch - 2ms/step\n",
      "Round 16, Metrics=OrderedDict([('distributor', ()), ('client_work', OrderedDict([('train', OrderedDict([('categorical_accuracy', 0.35664), ('loss', 1.7505329), ('num_examples', 50000), ('num_batches', 2500)]))])), ('aggregator', OrderedDict([('zeroing', OrderedDict([('dp_query_metrics', OrderedDict([('clip', 0.46848825)])), ('dp', ())])), ('zeroing_norm', 11.023754), ('zeroed_count', 0)])), ('finalizer', OrderedDict([('update_non_finite', 0)]))]), Val_Metrics=[2.1960201263427734, 0.32989999651908875]\n",
      "313/313 - 0s - loss: 2.1818 - categorical_accuracy: 0.3206 - 479ms/epoch - 2ms/step\n",
      "Round 17, Metrics=OrderedDict([('distributor', ()), ('client_work', OrderedDict([('train', OrderedDict([('categorical_accuracy', 0.36076), ('loss', 1.7378916), ('num_examples', 50000), ('num_batches', 2500)]))])), ('aggregator', OrderedDict([('zeroing', OrderedDict([('dp_query_metrics', OrderedDict([('clip', 0.51564246)])), ('dp', ())])), ('zeroing_norm', 10.572612), ('zeroed_count', 0)])), ('finalizer', OrderedDict([('update_non_finite', 0)]))]), Val_Metrics=[2.1817898750305176, 0.3206000030040741]\n",
      "313/313 - 0s - loss: 2.1397 - categorical_accuracy: 0.3403 - 487ms/epoch - 2ms/step\n",
      "Round 18, Metrics=OrderedDict([('distributor', ()), ('client_work', OrderedDict([('train', OrderedDict([('categorical_accuracy', 0.37038), ('loss', 1.7188426), ('num_examples', 50000), ('num_batches', 2500)]))])), ('aggregator', OrderedDict([('zeroing', OrderedDict([('dp_query_metrics', OrderedDict([('clip', 0.5698731)])), ('dp', ())])), ('zeroing_norm', 10.141774), ('zeroed_count', 0)])), ('finalizer', OrderedDict([('update_non_finite', 0)]))]), Val_Metrics=[2.1397016048431396, 0.3402999937534332]\n",
      "313/313 - 0s - loss: 2.1137 - categorical_accuracy: 0.3561 - 484ms/epoch - 2ms/step\n",
      "Round 19, Metrics=OrderedDict([('distributor', ()), ('client_work', OrderedDict([('train', OrderedDict([('categorical_accuracy', 0.37698), ('loss', 1.7003208), ('num_examples', 50000), ('num_batches', 2500)]))])), ('aggregator', OrderedDict([('zeroing', OrderedDict([('dp_query_metrics', OrderedDict([('clip', 0.62619084)])), ('dp', ())])), ('zeroing_norm', 9.730328), ('zeroed_count', 0)])), ('finalizer', OrderedDict([('update_non_finite', 0)]))]), Val_Metrics=[2.113657236099243, 0.3560999929904938]\n",
      "313/313 - 1s - loss: 2.0726 - categorical_accuracy: 0.3573 - 518ms/epoch - 2ms/step\n",
      "Round 20, Metrics=OrderedDict([('distributor', ()), ('client_work', OrderedDict([('train', OrderedDict([('categorical_accuracy', 0.38274), ('loss', 1.6849531), ('num_examples', 50000), ('num_batches', 2500)]))])), ('aggregator', OrderedDict([('zeroing', OrderedDict([('dp_query_metrics', OrderedDict([('clip', 0.6883778)])), ('dp', ())])), ('zeroing_norm', 9.337399), ('zeroed_count', 0)])), ('finalizer', OrderedDict([('update_non_finite', 0)]))]), Val_Metrics=[2.0726184844970703, 0.3573000133037567]\n",
      "313/313 - 0s - loss: 2.0276 - categorical_accuracy: 0.3856 - 483ms/epoch - 2ms/step\n",
      "Round 21, Metrics=OrderedDict([('distributor', ()), ('client_work', OrderedDict([('train', OrderedDict([('categorical_accuracy', 0.38964), ('loss', 1.6683692), ('num_examples', 50000), ('num_batches', 2500)]))])), ('aggregator', OrderedDict([('zeroing', OrderedDict([('dp_query_metrics', OrderedDict([('clip', 0.7576318)])), ('dp', ())])), ('zeroing_norm', 8.962154), ('zeroed_count', 0)])), ('finalizer', OrderedDict([('update_non_finite', 0)]))]), Val_Metrics=[2.0275988578796387, 0.3856000006198883]\n",
      "313/313 - 0s - loss: 1.9990 - categorical_accuracy: 0.3672 - 480ms/epoch - 2ms/step\n",
      "Round 22, Metrics=OrderedDict([('distributor', ()), ('client_work', OrderedDict([('train', OrderedDict([('categorical_accuracy', 0.39704), ('loss', 1.6502595), ('num_examples', 50000), ('num_batches', 2500)]))])), ('aggregator', OrderedDict([('zeroing', OrderedDict([('dp_query_metrics', OrderedDict([('clip', 0.83731264)])), ('dp', ())])), ('zeroing_norm', 8.603799), ('zeroed_count', 0)])), ('finalizer', OrderedDict([('update_non_finite', 0)]))]), Val_Metrics=[1.9990460872650146, 0.36719998717308044]\n",
      "313/313 - 1s - loss: 1.9653 - categorical_accuracy: 0.3514 - 543ms/epoch - 2ms/step\n",
      "Round 23, Metrics=OrderedDict([('distributor', ()), ('client_work', OrderedDict([('train', OrderedDict([('categorical_accuracy', 0.40286), ('loss', 1.6368535), ('num_examples', 50000), ('num_batches', 2500)]))])), ('aggregator', OrderedDict([('zeroing', OrderedDict([('dp_query_metrics', OrderedDict([('clip', 0.9253736)])), ('dp', ())])), ('zeroing_norm', 8.261572), ('zeroed_count', 0)])), ('finalizer', OrderedDict([('update_non_finite', 0)]))]), Val_Metrics=[1.9653446674346924, 0.3513999879360199]\n",
      "313/313 - 0s - loss: 1.9682 - categorical_accuracy: 0.3145 - 489ms/epoch - 2ms/step\n",
      "Round 24, Metrics=OrderedDict([('distributor', ()), ('client_work', OrderedDict([('train', OrderedDict([('categorical_accuracy', 0.41198), ('loss', 1.6130211), ('num_examples', 50000), ('num_batches', 2500)]))])), ('aggregator', OrderedDict([('zeroing', OrderedDict([('dp_query_metrics', OrderedDict([('clip', 1.022696)])), ('dp', ())])), ('zeroing_norm', 7.9347477), ('zeroed_count', 0)])), ('finalizer', OrderedDict([('update_non_finite', 0)]))]), Val_Metrics=[1.9681693315505981, 0.31450000405311584]\n",
      "313/313 - 0s - loss: 1.8465 - categorical_accuracy: 0.3654 - 488ms/epoch - 2ms/step\n",
      "Round 25, Metrics=OrderedDict([('distributor', ()), ('client_work', OrderedDict([('train', OrderedDict([('categorical_accuracy', 0.41878), ('loss', 1.5967044), ('num_examples', 50000), ('num_batches', 2500)]))])), ('aggregator', OrderedDict([('zeroing', OrderedDict([('dp_query_metrics', OrderedDict([('clip', 1.1159976)])), ('dp', ())])), ('zeroing_norm', 7.622633), ('zeroed_count', 0)])), ('finalizer', OrderedDict([('update_non_finite', 0)]))]), Val_Metrics=[1.846461296081543, 0.3653999865055084]\n",
      "313/313 - 0s - loss: 1.8872 - categorical_accuracy: 0.3176 - 489ms/epoch - 2ms/step\n",
      "Round 26, Metrics=OrderedDict([('distributor', ()), ('client_work', OrderedDict([('train', OrderedDict([('categorical_accuracy', 0.42604), ('loss', 1.5788351), ('num_examples', 50000), ('num_batches', 2500)]))])), ('aggregator', OrderedDict([('zeroing', OrderedDict([('dp_query_metrics', OrderedDict([('clip', 1.233368)])), ('dp', ())])), ('zeroing_norm', 7.324566), ('zeroed_count', 0)])), ('finalizer', OrderedDict([('update_non_finite', 0)]))]), Val_Metrics=[1.8871614933013916, 0.3176000118255615]\n",
      "313/313 - 1s - loss: 1.9800 - categorical_accuracy: 0.2694 - 501ms/epoch - 2ms/step\n",
      "Round 27, Metrics=OrderedDict([('distributor', ()), ('client_work', OrderedDict([('train', OrderedDict([('categorical_accuracy', 0.4322), ('loss', 1.5656172), ('num_examples', 50000), ('num_batches', 2500)]))])), ('aggregator', OrderedDict([('zeroing', OrderedDict([('dp_query_metrics', OrderedDict([('clip', 1.3499641)])), ('dp', ())])), ('zeroing_norm', 7.039914), ('zeroed_count', 0)])), ('finalizer', OrderedDict([('update_non_finite', 0)]))]), Val_Metrics=[1.979968786239624, 0.2694000005722046]\n",
      "313/313 - 0s - loss: 1.8388 - categorical_accuracy: 0.3187 - 490ms/epoch - 2ms/step\n",
      "Round 28, Metrics=OrderedDict([('distributor', ()), ('client_work', OrderedDict([('train', OrderedDict([('categorical_accuracy', 0.43714), ('loss', 1.5523634), ('num_examples', 50000), ('num_batches', 2500)]))])), ('aggregator', OrderedDict([('zeroing', OrderedDict([('dp_query_metrics', OrderedDict([('clip', 1.4753823)])), ('dp', ())])), ('zeroing_norm', 6.7680736), ('zeroed_count', 0)])), ('finalizer', OrderedDict([('update_non_finite', 0)]))]), Val_Metrics=[1.8387986421585083, 0.31869998574256897]\n",
      "313/313 - 1s - loss: 1.7649 - categorical_accuracy: 0.3486 - 559ms/epoch - 2ms/step\n",
      "Round 29, Metrics=OrderedDict([('distributor', ()), ('client_work', OrderedDict([('train', OrderedDict([('categorical_accuracy', 0.44768), ('loss', 1.5312374), ('num_examples', 50000), ('num_batches', 2500)]))])), ('aggregator', OrderedDict([('zeroing', OrderedDict([('dp_query_metrics', OrderedDict([('clip', 1.6305497)])), ('dp', ())])), ('zeroing_norm', 6.5084677), ('zeroed_count', 0)])), ('finalizer', OrderedDict([('update_non_finite', 0)]))]), Val_Metrics=[1.7649058103561401, 0.34860000014305115]\n",
      "313/313 - 1s - loss: 1.8596 - categorical_accuracy: 0.3317 - 508ms/epoch - 2ms/step\n",
      "Round 30, Metrics=OrderedDict([('distributor', ()), ('client_work', OrderedDict([('train', OrderedDict([('categorical_accuracy', 0.45642), ('loss', 1.5099306), ('num_examples', 50000), ('num_batches', 2500)]))])), ('aggregator', OrderedDict([('zeroing', OrderedDict([('dp_query_metrics', OrderedDict([('clip', 1.8020362)])), ('dp', ())])), ('zeroing_norm', 6.260546), ('zeroed_count', 0)])), ('finalizer', OrderedDict([('update_non_finite', 0)]))]), Val_Metrics=[1.859633445739746, 0.33169999718666077]\n",
      "313/313 - 0s - loss: 1.8291 - categorical_accuracy: 0.3258 - 490ms/epoch - 2ms/step\n",
      "Round 31, Metrics=OrderedDict([('distributor', ()), ('client_work', OrderedDict([('train', OrderedDict([('categorical_accuracy', 0.46042), ('loss', 1.4997193), ('num_examples', 50000), ('num_batches', 2500)]))])), ('aggregator', OrderedDict([('zeroing', OrderedDict([('dp_query_metrics', OrderedDict([('clip', 1.9915581)])), ('dp', ())])), ('zeroing_norm', 6.023783), ('zeroed_count', 0)])), ('finalizer', OrderedDict([('update_non_finite', 0)]))]), Val_Metrics=[1.8291109800338745, 0.32580000162124634]\n",
      "313/313 - 0s - loss: 1.8230 - categorical_accuracy: 0.3299 - 483ms/epoch - 2ms/step\n",
      "Round 32, Metrics=OrderedDict([('distributor', ()), ('client_work', OrderedDict([('train', OrderedDict([('categorical_accuracy', 0.46864), ('loss', 1.481315), ('num_examples', 50000), ('num_batches', 2500)]))])), ('aggregator', OrderedDict([('zeroing', OrderedDict([('dp_query_metrics', OrderedDict([('clip', 2.2010121)])), ('dp', ())])), ('zeroing_norm', 5.797676), ('zeroed_count', 0)])), ('finalizer', OrderedDict([('update_non_finite', 0)]))]), Val_Metrics=[1.8230286836624146, 0.32989999651908875]\n",
      "313/313 - 0s - loss: 1.8700 - categorical_accuracy: 0.3220 - 491ms/epoch - 2ms/step\n",
      "Round 33, Metrics=OrderedDict([('distributor', ()), ('client_work', OrderedDict([('train', OrderedDict([('categorical_accuracy', 0.47238), ('loss', 1.467761), ('num_examples', 50000), ('num_batches', 2500)]))])), ('aggregator', OrderedDict([('zeroing', OrderedDict([('dp_query_metrics', OrderedDict([('clip', 2.383823)])), ('dp', ())])), ('zeroing_norm', 5.5817456), ('zeroed_count', 0)])), ('finalizer', OrderedDict([('update_non_finite', 0)]))]), Val_Metrics=[1.869964838027954, 0.32199999690055847]\n",
      "313/313 - 0s - loss: 1.7195 - categorical_accuracy: 0.3665 - 484ms/epoch - 2ms/step\n",
      "Round 34, Metrics=OrderedDict([('distributor', ()), ('client_work', OrderedDict([('train', OrderedDict([('categorical_accuracy', 0.47848), ('loss', 1.4531988), ('num_examples', 50000), ('num_batches', 2500)]))])), ('aggregator', OrderedDict([('zeroing', OrderedDict([('dp_query_metrics', OrderedDict([('clip', 2.614159)])), ('dp', ())])), ('zeroing_norm', 5.3755336), ('zeroed_count', 0)])), ('finalizer', OrderedDict([('update_non_finite', 0)]))]), Val_Metrics=[1.7195031642913818, 0.36649999022483826]\n",
      "313/313 - 0s - loss: 1.6555 - categorical_accuracy: 0.3971 - 479ms/epoch - 2ms/step\n",
      "Round 35, Metrics=OrderedDict([('distributor', ()), ('client_work', OrderedDict([('train', OrderedDict([('categorical_accuracy', 0.4882), ('loss', 1.4351344), ('num_examples', 50000), ('num_batches', 2500)]))])), ('aggregator', OrderedDict([('zeroing', OrderedDict([('dp_query_metrics', OrderedDict([('clip', 2.887581)])), ('dp', ())])), ('zeroing_norm', 5.178602), ('zeroed_count', 0)])), ('finalizer', OrderedDict([('update_non_finite', 0)]))]), Val_Metrics=[1.6554676294326782, 0.3971000015735626]\n",
      "313/313 - 0s - loss: 1.6460 - categorical_accuracy: 0.4223 - 483ms/epoch - 2ms/step\n",
      "Round 36, Metrics=OrderedDict([('distributor', ()), ('client_work', OrderedDict([('train', OrderedDict([('categorical_accuracy', 0.48976), ('loss', 1.4251578), ('num_examples', 50000), ('num_batches', 2500)]))])), ('aggregator', OrderedDict([('zeroing', OrderedDict([('dp_query_metrics', OrderedDict([('clip', 3.1912708)])), ('dp', ())])), ('zeroing_norm', 4.9905343), ('zeroed_count', 0)])), ('finalizer', OrderedDict([('update_non_finite', 0)]))]), Val_Metrics=[1.6459988355636597, 0.4223000109195709]\n",
      "313/313 - 0s - loss: 2.2897 - categorical_accuracy: 0.3146 - 423ms/epoch - 1ms/step\n",
      "Round 37, Metrics=OrderedDict([('distributor', ()), ('client_work', OrderedDict([('train', OrderedDict([('categorical_accuracy', 0.49528), ('loss', 1.4164904), ('num_examples', 50000), ('num_batches', 2500)]))])), ('aggregator', OrderedDict([('zeroing', OrderedDict([('dp_query_metrics', OrderedDict([('clip', 3.5268998)])), ('dp', ())])), ('zeroing_norm', 4.810931), ('zeroed_count', 0)])), ('finalizer', OrderedDict([('update_non_finite', 0)]))]), Val_Metrics=[2.2896597385406494, 0.31459999084472656]\n",
      "313/313 - 0s - loss: 4.3293 - categorical_accuracy: 0.1581 - 424ms/epoch - 1ms/step\n",
      "Round 38, Metrics=OrderedDict([('distributor', ()), ('client_work', OrderedDict([('train', OrderedDict([('categorical_accuracy', 0.498), ('loss', 1.4085823), ('num_examples', 50000), ('num_batches', 2500)]))])), ('aggregator', OrderedDict([('zeroing', OrderedDict([('dp_query_metrics', OrderedDict([('clip', 3.8978274)])), ('dp', ())])), ('zeroing_norm', 4.639411), ('zeroed_count', 0)])), ('finalizer', OrderedDict([('update_non_finite', 0)]))]), Val_Metrics=[4.329314231872559, 0.15809999406337738]\n",
      "313/313 - 0s - loss: 2.2664 - categorical_accuracy: 0.2795 - 442ms/epoch - 1ms/step\n",
      "Round 39, Metrics=OrderedDict([('distributor', ()), ('client_work', OrderedDict([('train', OrderedDict([('categorical_accuracy', 0.4862), ('loss', 1.4522294), ('num_examples', 50000), ('num_batches', 2500)]))])), ('aggregator', OrderedDict([('zeroing', OrderedDict([('dp_query_metrics', OrderedDict([('clip', 4.3077655)])), ('dp', ())])), ('zeroing_norm', 4.4756107), ('zeroed_count', 0)])), ('finalizer', OrderedDict([('update_non_finite', 0)]))]), Val_Metrics=[2.26635479927063, 0.27950000762939453]\n",
      "313/313 - 0s - loss: 2.1522 - categorical_accuracy: 0.2772 - 416ms/epoch - 1ms/step\n",
      "Round 40, Metrics=OrderedDict([('distributor', ()), ('client_work', OrderedDict([('train', OrderedDict([('categorical_accuracy', 0.49368), ('loss', 1.4188014), ('num_examples', 50000), ('num_batches', 2500)]))])), ('aggregator', OrderedDict([('zeroing', OrderedDict([('dp_query_metrics', OrderedDict([('clip', 4.73649)])), ('dp', ())])), ('zeroing_norm', 4.3191824), ('zeroed_count', 0)])), ('finalizer', OrderedDict([('update_non_finite', 0)]))]), Val_Metrics=[2.1521661281585693, 0.27720001339912415]\n",
      "313/313 - 0s - loss: 2.4111 - categorical_accuracy: 0.3117 - 417ms/epoch - 1ms/step\n",
      "Round 41, Metrics=OrderedDict([('distributor', ()), ('client_work', OrderedDict([('train', OrderedDict([('categorical_accuracy', 0.49096), ('loss', 1.43314), ('num_examples', 50000), ('num_batches', 2500)]))])), ('aggregator', OrderedDict([('zeroing', OrderedDict([('dp_query_metrics', OrderedDict([('clip', 5.2173758)])), ('dp', ())])), ('zeroing_norm', 4.169795), ('zeroed_count', 0)])), ('finalizer', OrderedDict([('update_non_finite', 0)]))]), Val_Metrics=[2.411066770553589, 0.3116999864578247]\n",
      "313/313 - 1s - loss: 2.3957 - categorical_accuracy: 0.2711 - 528ms/epoch - 2ms/step\n",
      "Round 42, Metrics=OrderedDict([('distributor', ()), ('client_work', OrderedDict([('train', OrderedDict([('categorical_accuracy', 0.48264), ('loss', 1.4587177), ('num_examples', 50000), ('num_batches', 2500)]))])), ('aggregator', OrderedDict([('zeroing', OrderedDict([('dp_query_metrics', OrderedDict([('clip', 5.7401023)])), ('dp', ())])), ('zeroing_norm', 4.027131), ('zeroed_count', 0)])), ('finalizer', OrderedDict([('update_non_finite', 0)]))]), Val_Metrics=[2.3957486152648926, 0.2711000144481659]\n",
      "313/313 - 0s - loss: 2.2139 - categorical_accuracy: 0.3077 - 419ms/epoch - 1ms/step\n",
      "Round 43, Metrics=OrderedDict([('distributor', ()), ('client_work', OrderedDict([('train', OrderedDict([('categorical_accuracy', 0.46826), ('loss', 1.5211529), ('num_examples', 50000), ('num_batches', 2500)]))])), ('aggregator', OrderedDict([('zeroing', OrderedDict([('dp_query_metrics', OrderedDict([('clip', 6.3437943)])), ('dp', ())])), ('zeroing_norm', 3.890888), ('zeroed_count', 0)])), ('finalizer', OrderedDict([('update_non_finite', 0)]))]), Val_Metrics=[2.2138843536376953, 0.3077000081539154]\n",
      "313/313 - 0s - loss: 2.7075 - categorical_accuracy: 0.3202 - 407ms/epoch - 1ms/step\n",
      "Round 44, Metrics=OrderedDict([('distributor', ()), ('client_work', OrderedDict([('train', OrderedDict([('categorical_accuracy', 0.457), ('loss', 1.5556458), ('num_examples', 50000), ('num_batches', 2500)]))])), ('aggregator', OrderedDict([('zeroing', OrderedDict([('dp_query_metrics', OrderedDict([('clip', 7.0109773)])), ('dp', ())])), ('zeroing_norm', 3.7607768), ('zeroed_count', 0)])), ('finalizer', OrderedDict([('update_non_finite', 0)]))]), Val_Metrics=[2.7074899673461914, 0.32019999623298645]\n",
      "313/313 - 0s - loss: 7.8043 - categorical_accuracy: 0.1204 - 420ms/epoch - 1ms/step\n",
      "Round 45, Metrics=OrderedDict([('distributor', ()), ('client_work', OrderedDict([('train', OrderedDict([('categorical_accuracy', 0.43914), ('loss', 1.6302207), ('num_examples', 50000), ('num_batches', 2500)]))])), ('aggregator', OrderedDict([('zeroing', OrderedDict([('dp_query_metrics', OrderedDict([('clip', 7.6490593)])), ('dp', ())])), ('zeroing_norm', 3.6365216), ('zeroed_count', 0)])), ('finalizer', OrderedDict([('update_non_finite', 0)]))]), Val_Metrics=[7.804277420043945, 0.12039999663829803]\n",
      "313/313 - 0s - loss: 4.7091 - categorical_accuracy: 0.2010 - 442ms/epoch - 1ms/step\n",
      "Round 46, Metrics=OrderedDict([('distributor', ()), ('client_work', OrderedDict([('train', OrderedDict([('categorical_accuracy', 0.39364), ('loss', 1.8146584), ('num_examples', 50000), ('num_batches', 2500)]))])), ('aggregator', OrderedDict([('zeroing', OrderedDict([('dp_query_metrics', OrderedDict([('clip', 8.394943)])), ('dp', ())])), ('zeroing_norm', 3.5178587), ('zeroed_count', 0)])), ('finalizer', OrderedDict([('update_non_finite', 0)]))]), Val_Metrics=[4.709143161773682, 0.20100000500679016]\n",
      "313/313 - 0s - loss: 3.8226 - categorical_accuracy: 0.2056 - 415ms/epoch - 1ms/step\n",
      "Round 47, Metrics=OrderedDict([('distributor', ()), ('client_work', OrderedDict([('train', OrderedDict([('categorical_accuracy', 0.35812), ('loss', 1.91731), ('num_examples', 50000), ('num_batches', 2500)]))])), ('aggregator', OrderedDict([('zeroing', OrderedDict([('dp_query_metrics', OrderedDict([('clip', 9.277847)])), ('dp', ())])), ('zeroing_norm', 3.4045365), ('zeroed_count', 0)])), ('finalizer', OrderedDict([('update_non_finite', 0)]))]), Val_Metrics=[3.822550058364868, 0.20559999346733093]\n",
      "313/313 - 0s - loss: 3.5620 - categorical_accuracy: 0.2125 - 424ms/epoch - 1ms/step\n",
      "Round 48, Metrics=OrderedDict([('distributor', ()), ('client_work', OrderedDict([('train', OrderedDict([('categorical_accuracy', 0.33618), ('loss', 1.967441), ('num_examples', 50000), ('num_batches', 2500)]))])), ('aggregator', OrderedDict([('zeroing', OrderedDict([('dp_query_metrics', OrderedDict([('clip', 10.101352)])), ('dp', ())])), ('zeroing_norm', 3.2963147), ('zeroed_count', 0)])), ('finalizer', OrderedDict([('update_non_finite', 0)]))]), Val_Metrics=[3.561957359313965, 0.21250000596046448]\n",
      "313/313 - 0s - loss: 5.1035 - categorical_accuracy: 0.2169 - 469ms/epoch - 1ms/step\n",
      "Round 49, Metrics=OrderedDict([('distributor', ()), ('client_work', OrderedDict([('train', OrderedDict([('categorical_accuracy', 0.25404), ('loss', 2.1227388), ('num_examples', 50000), ('num_batches', 2500)]))])), ('aggregator', OrderedDict([('zeroing', OrderedDict([('dp_query_metrics', OrderedDict([('clip', 9.140081)])), ('dp', ())])), ('zeroing_norm', 3.1929636), ('zeroed_count', 0)])), ('finalizer', OrderedDict([('update_non_finite', 0)]))]), Val_Metrics=[5.103469371795654, 0.21690000593662262]\n",
      "313/313 - 0s - loss: 7.1798 - categorical_accuracy: 0.1326 - 418ms/epoch - 1ms/step\n",
      "Round 50, Metrics=OrderedDict([('distributor', ()), ('client_work', OrderedDict([('train', OrderedDict([('categorical_accuracy', 0.22964), ('loss', 2.1777809), ('num_examples', 50000), ('num_batches', 2500)]))])), ('aggregator', OrderedDict([('zeroing', OrderedDict([('dp_query_metrics', OrderedDict([('clip', 8.370953)])), ('dp', ())])), ('zeroing_norm', 3.094264), ('zeroed_count', 0)])), ('finalizer', OrderedDict([('update_non_finite', 0)]))]), Val_Metrics=[7.1798272132873535, 0.13259999454021454]\n"
     ]
    },
    {
     "data": {
      "text/html": [
       "<style>\n",
       "    table.wandb td:nth-child(1) { padding: 0 10px; text-align: left ; width: auto;} td:nth-child(2) {text-align: left ; width: 100%}\n",
       "    .wandb-row { display: flex; flex-direction: row; flex-wrap: wrap; justify-content: flex-start; width: 100% }\n",
       "    .wandb-col { display: flex; flex-direction: column; flex-basis: 100%; flex: 1; padding: 10px; }\n",
       "    </style>\n",
       "<div class=\"wandb-row\"><div class=\"wandb-col\"><h3>Run history:</h3><br/><table class=\"wandb\"><tr><td>categorical_accuracy</td><td>▃▃▃▃▃▃▃▃▄▄▄▄▄▄▅▅▅▅▆▆▆▆▆▇▇▇▇▇██████▇▇▅▄▄▁</td></tr><tr><td>loss</td><td>▆▆▅▅▅▅▅▅▅▅▅▄▄▄▄▄▃▃▃▃▃▂▂▂▂▂▂▁▁▁▁▁▁▁▂▂▅▆▆█</td></tr><tr><td>round</td><td>▁▁▁▁▂▂▂▂▂▃▃▃▃▃▃▄▄▄▄▄▅▅▅▅▅▅▆▆▆▆▆▆▇▇▇▇▇███</td></tr><tr><td>val_categorical_accuracy</td><td>▁▁▁▁▁▂▂▂▄▄▄▅▆▆▆▇▇▇▆▆▆▅▆▆▆▆▆▇█▆▂▅▆▅▅▆▃▃▃▂</td></tr><tr><td>val_loss</td><td>▂▂▂▂▂▂▂▂▂▂▂▂▂▂▂▂▁▁▁▁▁▁▁▁▁▁▁▁▁▂▄▂▂▂▂▂▅▄▃█</td></tr></table><br/></div><div class=\"wandb-col\"><h3>Run summary:</h3><br/><table class=\"wandb\"><tr><td>categorical_accuracy</td><td>0.22964</td></tr><tr><td>loss</td><td>2.17778</td></tr><tr><td>round</td><td>50</td></tr><tr><td>val_categorical_accuracy</td><td>0.1326</td></tr><tr><td>val_loss</td><td>7.17983</td></tr></table><br/></div></div>"
      ],
      "text/plain": [
       "<IPython.core.display.HTML object>"
      ]
     },
     "metadata": {},
     "output_type": "display_data"
    },
    {
     "data": {
      "text/html": [
       " View run <strong style=\"color:#cdcd00\">tf_federated_differential_privacy_10clients_50rounds_20batchsize</strong> at: <a href='https://wandb.ai/speml/federated_learning/runs/5feo8opi' target=\"_blank\">https://wandb.ai/speml/federated_learning/runs/5feo8opi</a><br/> View project at: <a href='https://wandb.ai/speml/federated_learning' target=\"_blank\">https://wandb.ai/speml/federated_learning</a><br/>Synced 5 W&B file(s), 0 media file(s), 1 artifact file(s) and 0 other file(s)"
      ],
      "text/plain": [
       "<IPython.core.display.HTML object>"
      ]
     },
     "metadata": {},
     "output_type": "display_data"
    },
    {
     "data": {
      "text/html": [
       "Find logs at: <code>./wandb/run-20240728_222618-5feo8opi/logs</code>"
      ],
      "text/plain": [
       "<IPython.core.display.HTML object>"
      ]
     },
     "metadata": {},
     "output_type": "display_data"
    },
    {
     "data": {
      "text/html": [
       "The new W&B backend becomes opt-out in version 0.18.0; try it out with `wandb.require(\"core\")`! See https://wandb.me/wandb-core for more information."
      ],
      "text/plain": [
       "<IPython.core.display.HTML object>"
      ]
     },
     "metadata": {},
     "output_type": "display_data"
    }
   ],
   "source": [
    "if USE_WANDB:\n",
    "    wandb.init(project=\"federated_learning\", group=\"group_1\", name=f\"tf_federated_differential_privacy_{NUM_CLIENTS}clients_{NUM_ROUNDS}rounds_{BATCH_SIZE}batchsize\")\n",
    "    \n",
    "# Create a function that returns a compiled Keras model\n",
    "def create_keras_model():\n",
    "    model = tf.keras.Sequential([\n",
    "        tf.keras.layers.Conv2D(20, (5, 5), activation='relu', input_shape=(32, 32, 3)),\n",
    "        tf.keras.layers.MaxPooling2D((2, 2)),\n",
    "\n",
    "        tf.keras.layers.Conv2D(50, (5, 5), activation='relu'),\n",
    "        tf.keras.layers.MaxPooling2D((2, 2)),\n",
    "\n",
    "        tf.keras.layers.Flatten(),\n",
    "        tf.keras.layers.Dense(500, activation='relu'),\n",
    "        tf.keras.layers.Dense(10, activation='softmax')\n",
    "    ])\n",
    "    return model\n",
    "\n",
    "# Wrap the Keras model for use with TFF\n",
    "def model_fn():\n",
    "    keras_model = create_keras_model()\n",
    "    return tff.learning.models.from_keras_model(\n",
    "        keras_model,\n",
    "        input_spec=(tf.TensorSpec(shape=[None, 32, 32, 3], dtype=tf.float32),\n",
    "                    tf.TensorSpec(shape=[None, 10], dtype=tf.float32)),\n",
    "        loss=tf.keras.losses.CategoricalCrossentropy(),\n",
    "        metrics=[tf.keras.metrics.CategoricalAccuracy()])\n",
    "\n",
    "### Step 3: Create Federated Data\n",
    "# Convert the dataset to a federated dataset\n",
    "def preprocess(dataset):\n",
    "    def batch_format_fn(element):\n",
    "        return (tf.reshape(element['x'], [-1, 32, 32, 3]), tf.reshape(element['y'], [-1, 10]))\n",
    "    return dataset.batch(BATCH_SIZE).map(batch_format_fn)\n",
    "\n",
    "# Create a federated dataset\n",
    "client_data = np.array_split(x_train, NUM_CLIENTS)\n",
    "client_labels = np.array_split(y_train, NUM_CLIENTS)\n",
    "\n",
    "federated_train_data = [\n",
    "    preprocess(tf.data.Dataset.from_tensor_slices({'x': client_data[i], 'y': client_labels[i]}))\n",
    "    for i in range(NUM_CLIENTS)\n",
    "]\n",
    "\n",
    "### Step 4: Define the Federated Learning Process\n",
    "# Create a federated averaging process\n",
    "iterative_process = tff.learning.algorithms.build_unweighted_fed_avg(\n",
    "    model_fn,\n",
    "    client_optimizer_fn=lambda: tf.keras.optimizers.Adam(),\n",
    "    # client_optimizer_fn=lambda: tf.keras.optimizers.SGD(learning_rate=0.1),\n",
    "    server_optimizer_fn=lambda: tf.keras.optimizers.SGD(learning_rate=1.0),\n",
    "    # model_aggregator=tff.learning.model_update_aggregator.dp_aggregator(noise_multiplier=0.1, clients_per_round=NUM_CLIENTS),\n",
    "    # model_aggregator=tff.learning.compression_aggregator()\n",
    ")\n",
    "\n",
    "state = iterative_process.initialize()\n",
    "\n",
    "eval_model = create_keras_model()\n",
    "eval_model.compile(\n",
    "loss=tf.keras.losses.CategoricalCrossentropy(),\n",
    "        metrics=[tf.keras.metrics.CategoricalAccuracy()])\n",
    "\n",
    "full_path = os.path.join(\"./\", \"model.keras\")\n",
    "eval_model.save(filepath=full_path)\n",
    "if USE_WANDB:\n",
    "    wandb.log_model(path=full_path, name=\"CIFAR10_CNN\")\n",
    "\n",
    "# Train the model for a few rounds\n",
    "for round_num in range(1, NUM_ROUNDS + 1):\n",
    "    state, metrics = iterative_process.next(state, federated_train_data)\n",
    "    \n",
    "    model_weights = iterative_process.get_model_weights(state)\n",
    "    model_weights.assign_weights_to(eval_model)\n",
    "    eval_metrics = eval_model.evaluate(x_test, y_test, verbose=2)\n",
    "    \n",
    "    print(f'Round {round_num}, Metrics={metrics}, Val_Metrics={eval_metrics}')\n",
    "    \n",
    "    if USE_WANDB:\n",
    "        wandb.log({\n",
    "            'round': round_num,\n",
    "            'loss': metrics['client_work']['train']['loss'],\n",
    "            'categorical_accuracy': metrics['client_work']['train']['categorical_accuracy'],\n",
    "            'val_loss': eval_metrics[0],\n",
    "            'val_categorical_accuracy': eval_metrics[1]\n",
    "        })\n",
    "    \n",
    "if USE_WANDB:\n",
    "    wandb.finish()"
   ]
  },
  {
   "cell_type": "code",
   "execution_count": 9,
   "metadata": {},
   "outputs": [],
   "source": [
    "if USE_WANDB:\n",
    "    wandb.finish()"
   ]
  },
  {
   "cell_type": "code",
   "execution_count": 10,
   "metadata": {},
   "outputs": [
    {
     "data": {
      "text/plain": [
       "[<_MapDataset element_spec=(TensorSpec(shape=(None, 32, 32, 3), dtype=tf.float32, name=None), TensorSpec(shape=(None, 10), dtype=tf.float32, name=None))>,\n",
       " <_MapDataset element_spec=(TensorSpec(shape=(None, 32, 32, 3), dtype=tf.float32, name=None), TensorSpec(shape=(None, 10), dtype=tf.float32, name=None))>,\n",
       " <_MapDataset element_spec=(TensorSpec(shape=(None, 32, 32, 3), dtype=tf.float32, name=None), TensorSpec(shape=(None, 10), dtype=tf.float32, name=None))>,\n",
       " <_MapDataset element_spec=(TensorSpec(shape=(None, 32, 32, 3), dtype=tf.float32, name=None), TensorSpec(shape=(None, 10), dtype=tf.float32, name=None))>,\n",
       " <_MapDataset element_spec=(TensorSpec(shape=(None, 32, 32, 3), dtype=tf.float32, name=None), TensorSpec(shape=(None, 10), dtype=tf.float32, name=None))>,\n",
       " <_MapDataset element_spec=(TensorSpec(shape=(None, 32, 32, 3), dtype=tf.float32, name=None), TensorSpec(shape=(None, 10), dtype=tf.float32, name=None))>,\n",
       " <_MapDataset element_spec=(TensorSpec(shape=(None, 32, 32, 3), dtype=tf.float32, name=None), TensorSpec(shape=(None, 10), dtype=tf.float32, name=None))>,\n",
       " <_MapDataset element_spec=(TensorSpec(shape=(None, 32, 32, 3), dtype=tf.float32, name=None), TensorSpec(shape=(None, 10), dtype=tf.float32, name=None))>,\n",
       " <_MapDataset element_spec=(TensorSpec(shape=(None, 32, 32, 3), dtype=tf.float32, name=None), TensorSpec(shape=(None, 10), dtype=tf.float32, name=None))>,\n",
       " <_MapDataset element_spec=(TensorSpec(shape=(None, 32, 32, 3), dtype=tf.float32, name=None), TensorSpec(shape=(None, 10), dtype=tf.float32, name=None))>]"
      ]
     },
     "execution_count": 10,
     "metadata": {},
     "output_type": "execute_result"
    }
   ],
   "source": [
    "federated_train_data"
   ]
  }
 ],
 "metadata": {
  "kernelspec": {
   "display_name": "myenv",
   "language": "python",
   "name": "python3"
  },
  "language_info": {
   "codemirror_mode": {
    "name": "ipython",
    "version": 3
   },
   "file_extension": ".py",
   "mimetype": "text/x-python",
   "name": "python",
   "nbconvert_exporter": "python",
   "pygments_lexer": "ipython3",
   "version": "3.11.9"
  }
 },
 "nbformat": 4,
 "nbformat_minor": 0
}
