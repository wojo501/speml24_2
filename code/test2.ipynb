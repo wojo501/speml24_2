{
 "cells": [
  {
   "cell_type": "code",
   "execution_count": 8,
   "metadata": {},
   "outputs": [
    {
     "name": "stdout",
     "output_type": "stream",
     "text": [
      "✅ The installed version of syft==0.8.7 matches the requirement >=0.8.2b0 and the requirement <0.9\n"
     ]
    }
   ],
   "source": [
    "import torch\n",
    "import torchvision\n",
    "import torchvision.transforms as transforms\n",
    "from torch.utils.data import DataLoader\n",
    "from torchvision.datasets import CIFAR10\n",
    "import torch.nn as nn\n",
    "import torch.optim as optim\n",
    "\n",
    "import syft as sy\n",
    "\n",
    "SYFT_VERSION = \">=0.8.2.b0,<0.9\"\n",
    "sy.requires(SYFT_VERSION)"
   ]
  },
  {
   "cell_type": "code",
   "execution_count": 9,
   "metadata": {},
   "outputs": [
    {
     "name": "stdout",
     "output_type": "stream",
     "text": [
      "Files already downloaded and verified\n",
      "Files already downloaded and verified\n"
     ]
    }
   ],
   "source": [
    "transform = transforms.Compose([\n",
    "    transforms.ToTensor(),\n",
    "    transforms.Normalize((0.5, 0.5, 0.5), (0.5, 0.5, 0.5))  # Normalize the images\n",
    "])\n",
    "\n",
    "batch_size = 32\n",
    "\n",
    "trainset = CIFAR10(root='./data', train=True, download=True, transform=transform)\n",
    "trainloader = DataLoader(trainset, batch_size=batch_size, shuffle=True, num_workers=2)\n",
    "\n",
    "testset = CIFAR10(root='./data', train=False, download=True, transform=transform)\n",
    "testloader = DataLoader(testset, batch_size=batch_size, shuffle=False, num_workers=2)\n"
   ]
  },
  {
   "cell_type": "code",
   "execution_count": 10,
   "metadata": {},
   "outputs": [
    {
     "data": {
      "text/html": [
       "<div class=\"alert-info\" style=\"padding:5px;\"><strong>SyftInfo</strong>: <pre class=\"alert-info\" style=\"display:inline; font-family:inherit;\">You have launched a development server at http://0.0.0.0:None.It is intended only for local use.</pre></div><br/>"
      ],
      "text/plain": [
       "SyftInfo: You have launched a development server at http://0.0.0.0:None.It is intended only for local use."
      ]
     },
     "metadata": {},
     "output_type": "display_data"
    },
    {
     "name": "stdout",
     "output_type": "stream",
     "text": [
      "Logged into <test-datasite-4: High side Datasite> as <info@openmined.org>\n"
     ]
    },
    {
     "data": {
      "text/html": [
       "<div class=\"alert-warning\" style=\"padding:5px;\"><strong>SyftWarning</strong>: <pre class=\"alert-warning\" style=\"display:inline; font-family:inherit;\">You are using a default password. Please change the password using `[your_client].me.set_password([new_password])`.</pre></div><br/>"
      ],
      "text/plain": [
       "SyftWarning: You are using a default password. Please change the password using `[your_client].me.set_password([new_password])`."
      ]
     },
     "metadata": {},
     "output_type": "display_data"
    }
   ],
   "source": [
    "server = sy.orchestra.launch(name=\"test-datasite-4\", dev_mode=True, reset=True)\n",
    "datasite_client = server.login(email=\"info@openmined.org\", password=\"changethis\")"
   ]
  },
  {
   "cell_type": "code",
   "execution_count": 11,
   "metadata": {},
   "outputs": [],
   "source": [
    "class SimpleCNN(nn.Module):\n",
    "    def __init__(self):\n",
    "        super(SimpleCNN, self).__init__()\n",
    "        self.conv1 = nn.Conv2d(3, 6, 5)\n",
    "        self.pool = nn.MaxPool2d(2, 2)\n",
    "        self.conv2 = nn.Conv2d(6, 16, 5)\n",
    "        self.fc1 = nn.Linear(16 * 5 * 5, 120)\n",
    "        self.fc2 = nn.Linear(120, 84)\n",
    "        self.fc3 = nn.Linear(84, 10)\n",
    "\n",
    "    def forward(self, x):\n",
    "        x = self.pool(nn.functional.relu(self.conv1(x)))\n",
    "        x = self.pool(nn.functional.relu(self.conv2(x)))\n",
    "        x = torch.flatten(x, 1)  # Flatten all dimensions except the batch dimension\n",
    "        x = nn.functional.relu(self.fc1(x))\n",
    "        x = nn.functional.relu(self.fc2(x))\n",
    "        x = self.fc3(x)\n",
    "        return x\n",
    "\n",
    "net = SimpleCNN()"
   ]
  },
  {
   "cell_type": "code",
   "execution_count": 29,
   "metadata": {},
   "outputs": [],
   "source": [
    "# third party\n",
    "from result import Err\n",
    "from result import Ok\n",
    "\n",
    "# syft absolute\n",
    "from syft.client.api import AuthedServiceContext\n",
    "from syft.client.api import ServerIdentity\n",
    "\n",
    "\n",
    "class CustomExactMatch(sy.CustomInputPolicy):\n",
    "    def __init__(self, *args: Any, **kwargs: Any) -> None:\n",
    "        pass\n",
    "\n",
    "    def filter_kwargs(self, kwargs, context, code_item_id):\n",
    "        # stdlib\n",
    "\n",
    "        try:\n",
    "            allowed_inputs = self.allowed_ids_only(\n",
    "                allowed_inputs=self.inputs, kwargs=kwargs, context=context\n",
    "            )\n",
    "            results = self.retrieve_from_db(\n",
    "                code_item_id=code_item_id,\n",
    "                allowed_inputs=allowed_inputs,\n",
    "                context=context,\n",
    "            )\n",
    "        except Exception as e:\n",
    "            return Err(str(e))\n",
    "        return results\n",
    "\n",
    "    def retrieve_from_db(self, code_item_id, allowed_inputs, context):\n",
    "        # syft absolute\n",
    "        from syft import ServerType\n",
    "        from syft.service.action.action_object import TwinMode\n",
    "\n",
    "        action_service = context.server.get_service(\"actionservice\")\n",
    "        code_inputs = {}\n",
    "\n",
    "        # When we are retrieving the code from the database, we need to use the server's\n",
    "        # verify key as the credentials. This is because when we approve the code, we\n",
    "        # we allow the private data to be used only for this specific code.\n",
    "        # but we are not modifying the permissions of the private data\n",
    "\n",
    "        root_context = AuthedServiceContext(\n",
    "            server=context.server, credentials=context.server.verify_key\n",
    "        )\n",
    "        if context.server.server_type == ServerType.DATASITE:\n",
    "            for var_name, arg_id in allowed_inputs.items():\n",
    "                kwarg_value = action_service._get(\n",
    "                    context=root_context,\n",
    "                    uid=arg_id,\n",
    "                    twin_mode=TwinMode.NONE,\n",
    "                    has_permission=True,\n",
    "                )\n",
    "                if kwarg_value.is_err():\n",
    "                    return Err(kwarg_value.err())\n",
    "                code_inputs[var_name] = kwarg_value.ok()\n",
    "        else:\n",
    "            raise Exception(\n",
    "                f\"Invalid Server Type for Code Submission:{context.server.server_type}\"\n",
    "            )\n",
    "        return Ok(code_inputs)\n",
    "\n",
    "    def allowed_ids_only(\n",
    "        self,\n",
    "        allowed_inputs,\n",
    "        kwargs,\n",
    "        context,\n",
    "    ):\n",
    "        # syft absolute\n",
    "        from syft import ServerType\n",
    "        from syft import UID\n",
    "\n",
    "        if context.server.server_type == ServerType.DATASITE:\n",
    "            server_identity = ServerIdentity(\n",
    "                server_name=context.server.name,\n",
    "                server_id=context.server.id,\n",
    "                verify_key=context.server.signing_key.verify_key,\n",
    "            )\n",
    "            allowed_inputs = allowed_inputs.get(server_identity, {})\n",
    "        else:\n",
    "            raise Exception(\n",
    "                f\"Invalid Server Type for Code Submission:{context.server.server_type}\"\n",
    "            )\n",
    "        filtered_kwargs = {}\n",
    "        for key in allowed_inputs.keys():\n",
    "            if key in kwargs:\n",
    "                value = kwargs[key]\n",
    "                uid = value\n",
    "                if not isinstance(uid, UID):\n",
    "                    uid = getattr(value, \"id\", None)\n",
    "\n",
    "                if uid != allowed_inputs[key]:\n",
    "                    raise Exception(\n",
    "                        f\"Input with uid: {uid} for `{key}` not in allowed inputs: {allowed_inputs}\"\n",
    "                    )\n",
    "                filtered_kwargs[key] = value\n",
    "        return filtered_kwargs\n",
    "\n",
    "    def _is_valid(\n",
    "        self,\n",
    "        context,\n",
    "        usr_input_kwargs,\n",
    "        code_item_id,\n",
    "    ):\n",
    "        return Ok(True)\n",
    "\n",
    "\n",
    "def allowed_ids_only(\n",
    "    self,\n",
    "    allowed_inputs,\n",
    "    kwargs,\n",
    "    context,\n",
    "):\n",
    "    # syft absolute\n",
    "    from syft import ServerType\n",
    "    from syft import UID\n",
    "    from syft.client.api import ServerIdentity\n",
    "\n",
    "    if context.server.server_type == ServerType.DATASITE:\n",
    "        server_identity = ServerIdentity(\n",
    "            server_name=context.server.name,\n",
    "            server_id=context.server.id,\n",
    "            verify_key=context.server.signing_key.verify_key,\n",
    "        )\n",
    "        allowed_inputs = allowed_inputs.get(server_identity, {})\n",
    "    else:\n",
    "        raise Exception(\n",
    "            f\"Invalid Server Type for Code Submission:{context.server.server_type}\"\n",
    "        )\n",
    "    filtered_kwargs = {}\n",
    "    for key in allowed_inputs.keys():\n",
    "        if key in kwargs:\n",
    "            value = kwargs[key]\n",
    "            uid = value\n",
    "            if not isinstance(uid, UID):\n",
    "                uid = getattr(value, \"id\", None)\n",
    "\n",
    "            if uid != allowed_inputs[key]:\n",
    "                raise Exception(\n",
    "                    f\"Input with uid: {uid} for `{key}` not in allowed inputs: {allowed_inputs}\"\n",
    "                )\n",
    "            filtered_kwargs[key] = value\n",
    "    return filtered_kwargs\n"
   ]
  },
  {
   "cell_type": "code",
   "execution_count": 44,
   "metadata": {},
   "outputs": [
    {
     "data": {
      "text/html": [
       "<div class=\"alert-success\" style=\"padding:5px;\"><strong>SyftSuccess</strong>: <pre class=\"alert-success\" style=\"display:inline; font-family:inherit;\">Syft function 'train_batch' successfully created. To add a code request, please create a project using `project = syft.Project(...)`, then use command `project.create_code_request`.</pre></div><br/>"
      ],
      "text/plain": [
       "SyftSuccess: Syft function 'train_batch' successfully created. To add a code request, please create a project using `project = syft.Project(...)`, then use command `project.create_code_request`."
      ]
     },
     "metadata": {},
     "output_type": "display_data"
    }
   ],
   "source": [
    "@sy.syft_function_single_use()\n",
    "def train_batch(*args, **kwargs):\n",
    "    print(\"Arguments received:\", args)\n",
    "    print(\"Keyword arguments received:\", kwargs)\n",
    "    return \"test\"\n",
    "    # # Zero the parameter gradients\n",
    "    # optimizer.zero_grad()\n",
    "\n",
    "    # # Forward + backward + optimize\n",
    "    # outputs = net(inputs)\n",
    "    # loss = criterion(outputs, labels)\n",
    "    # loss.backward()\n",
    "    # optimizer.step()\n",
    "\n",
    "    # return {\n",
    "    #     \"loss\": loss.item(),\n",
    "    #     \"gradients\": {name: param.grad for name, param in net.named_parameters()}\n",
    "    # }\n",
    "    \n",
    "criterion = nn.CrossEntropyLoss()\n",
    "optimizer = optim.SGD(net.parameters(), lr=0.001, momentum=0.9)"
   ]
  },
  {
   "cell_type": "code",
   "execution_count": 45,
   "metadata": {},
   "outputs": [
    {
     "name": "stdout",
     "output_type": "stream",
     "text": [
      "SyftInfo: Closing the server after time_alive=300 (the default value)\n"
     ]
    },
    {
     "data": {
      "text/html": [
       "<div class=\"alert-info\" style=\"padding:5px;\"><strong>SyftInfo</strong>: <pre class=\"alert-info\" style=\"display:inline; font-family:inherit;\">You have launched a development server at http://0.0.0.0:None.It is intended only for local use.</pre></div><br/>"
      ],
      "text/plain": [
       "SyftInfo: You have launched a development server at http://0.0.0.0:None.It is intended only for local use."
      ]
     },
     "metadata": {},
     "output_type": "display_data"
    },
    {
     "name": "stdout",
     "output_type": "stream",
     "text": [
      "Logged into <ephemeral_server_train_batch_3379: High side Datasite> as <info@openmined.org>\n"
     ]
    },
    {
     "data": {
      "text/html": [
       "<div class=\"alert-warning\" style=\"padding:5px;\"><strong>SyftWarning</strong>: <pre class=\"alert-warning\" style=\"display:inline; font-family:inherit;\">You are using a default password. Please change the password using `[your_client].me.set_password([new_password])`.</pre></div><br/>"
      ],
      "text/plain": [
       "SyftWarning: You are using a default password. Please change the password using `[your_client].me.set_password([new_password])`."
      ]
     },
     "metadata": {},
     "output_type": "display_data"
    },
    {
     "name": "stdout",
     "output_type": "stream",
     "text": [
      "Approving request on change train_batch for datasite ephemeral_server_train_batch_3379\n",
      "SyftInfo: Landing the ephmeral server...\n",
      "Approving request on change train_batch for datasite test-datasite-4\n"
     ]
    },
    {
     "data": {
      "text/html": [
       "<div class=\"alert-danger\" style=\"padding:5px;\"><strong>SyftError</strong>: <pre class=\"alert-danger\" style=\"display:inline; font-family:inherit;\">Failed to run. 'NoneType' object has no attribute 'items', Traceback (most recent call last):\n",
       "  File \"/opt/conda/envs/myenv/lib/python3.11/site-packages/syft/service/code/user_code_service.py\", line 590, in _call\n",
       "    action_service._user_code_execute(\n",
       "  File \"/opt/conda/envs/myenv/lib/python3.11/site-packages/syft/service/action/action_service.py\", line 437, in _user_code_execute\n",
       "    for key, kwarg_value in filtered_kwargs.items():\n",
       "                            ^^^^^^^^^^^^^^^^^^^^^\n",
       "AttributeError: 'NoneType' object has no attribute 'items'\n",
       "</pre></div><br/>"
      ],
      "text/plain": [
       "SyftError: Failed to run. 'NoneType' object has no attribute 'items', Traceback (most recent call last):\n",
       "  File \"/opt/conda/envs/myenv/lib/python3.11/site-packages/syft/service/code/user_code_service.py\", line 590, in _call\n",
       "    action_service._user_code_execute(\n",
       "  File \"/opt/conda/envs/myenv/lib/python3.11/site-packages/syft/service/action/action_service.py\", line 437, in _user_code_execute\n",
       "    for key, kwarg_value in filtered_kwargs.items():\n",
       "                            ^^^^^^^^^^^^^^^^^^^^^\n",
       "AttributeError: 'NoneType' object has no attribute 'items'"
      ]
     },
     "metadata": {},
     "output_type": "display_data"
    },
    {
     "ename": "AttributeError",
     "evalue": "You have tried accessing `get` on a SyftError with message: Failed to run. 'NoneType' object has no attribute 'items', Traceback (most recent call last):\n  File \"/opt/conda/envs/myenv/lib/python3.11/site-packages/syft/service/code/user_code_service.py\", line 590, in _call\n    action_service._user_code_execute(\n  File \"/opt/conda/envs/myenv/lib/python3.11/site-packages/syft/service/action/action_service.py\", line 437, in _user_code_execute\n    for key, kwarg_value in filtered_kwargs.items():\n                            ^^^^^^^^^^^^^^^^^^^^^\nAttributeError: 'NoneType' object has no attribute 'items'\n",
     "output_type": "error",
     "traceback": [
      "\u001b[0;31m---------------------------------------------------------------------------\u001b[0m",
      "\u001b[0;31mAttributeError\u001b[0m                            Traceback (most recent call last)",
      "Cell \u001b[0;32mIn[45], line 11\u001b[0m\n\u001b[1;32m      9\u001b[0m         request\u001b[38;5;241m.\u001b[39mapprove()\n\u001b[1;32m     10\u001b[0m         result_ptr \u001b[38;5;241m=\u001b[39m datasite_client\u001b[38;5;241m.\u001b[39mcode\u001b[38;5;241m.\u001b[39mtrain_batch(weights\u001b[38;5;241m=\u001b[39minputs_sy\u001b[38;5;241m.\u001b[39mid, data\u001b[38;5;241m=\u001b[39mlabels_sy\u001b[38;5;241m.\u001b[39mid)\n\u001b[0;32m---> 11\u001b[0m         batch_result \u001b[38;5;241m=\u001b[39m \u001b[43mresult_ptr\u001b[49m\u001b[38;5;241;43m.\u001b[39;49m\u001b[43mget\u001b[49m()\n\u001b[1;32m     14\u001b[0m         running_loss \u001b[38;5;241m+\u001b[39m\u001b[38;5;241m=\u001b[39m batch_result[\u001b[38;5;124m\"\u001b[39m\u001b[38;5;124mloss\u001b[39m\u001b[38;5;124m\"\u001b[39m]\n\u001b[1;32m     17\u001b[0m \u001b[38;5;28mprint\u001b[39m(\u001b[38;5;124m'\u001b[39m\u001b[38;5;124mFinished Training\u001b[39m\u001b[38;5;124m'\u001b[39m)\n",
      "File \u001b[0;32m/opt/conda/envs/myenv/lib/python3.11/site-packages/syft/service/response.py:40\u001b[0m, in \u001b[0;36mSyftResponseMessage.__getattr__\u001b[0;34m(self, name)\u001b[0m\n\u001b[1;32m     38\u001b[0m     \u001b[38;5;28;01mreturn\u001b[39;00m \u001b[38;5;28msuper\u001b[39m()\u001b[38;5;241m.\u001b[39m\u001b[38;5;21m__getattr__\u001b[39m(name)\n\u001b[1;32m     39\u001b[0m display(\u001b[38;5;28mself\u001b[39m)\n\u001b[0;32m---> 40\u001b[0m \u001b[38;5;28;01mraise\u001b[39;00m \u001b[38;5;167;01mAttributeError\u001b[39;00m(\n\u001b[1;32m     41\u001b[0m     \u001b[38;5;124mf\u001b[39m\u001b[38;5;124m\"\u001b[39m\u001b[38;5;124mYou have tried accessing `\u001b[39m\u001b[38;5;132;01m{\u001b[39;00mname\u001b[38;5;132;01m}\u001b[39;00m\u001b[38;5;124m` on a \u001b[39m\u001b[38;5;132;01m{\u001b[39;00m\u001b[38;5;28mtype\u001b[39m(\u001b[38;5;28mself\u001b[39m)\u001b[38;5;241m.\u001b[39m\u001b[38;5;18m__name__\u001b[39m\u001b[38;5;132;01m}\u001b[39;00m\u001b[38;5;124m with message: \u001b[39m\u001b[38;5;132;01m{\u001b[39;00m\u001b[38;5;28mself\u001b[39m\u001b[38;5;241m.\u001b[39mmessage\u001b[38;5;132;01m}\u001b[39;00m\u001b[38;5;124m\"\u001b[39m\n\u001b[1;32m     42\u001b[0m )\n",
      "\u001b[0;31mAttributeError\u001b[0m: You have tried accessing `get` on a SyftError with message: Failed to run. 'NoneType' object has no attribute 'items', Traceback (most recent call last):\n  File \"/opt/conda/envs/myenv/lib/python3.11/site-packages/syft/service/code/user_code_service.py\", line 590, in _call\n    action_service._user_code_execute(\n  File \"/opt/conda/envs/myenv/lib/python3.11/site-packages/syft/service/action/action_service.py\", line 437, in _user_code_execute\n    for key, kwarg_value in filtered_kwargs.items():\n                            ^^^^^^^^^^^^^^^^^^^^^\nAttributeError: 'NoneType' object has no attribute 'items'\n"
     ]
    },
    {
     "name": "stdout",
     "output_type": "stream",
     "text": [
      "SyftInfo: Server Landed!\n"
     ]
    }
   ],
   "source": [
    "for epoch in range(1):  # Loop over the dataset multiple times\n",
    "    running_loss = 0.0\n",
    "    for i, data in enumerate(trainloader, 0):\n",
    "        inputs_sy = sy.ActionObject.from_obj(data)\n",
    "        \n",
    "        pointer = train_batch(inputs_sy)\n",
    "        \n",
    "        request = datasite_client.code.request_code_execution(train_batch)\n",
    "        request.approve()\n",
    "        result_ptr = datasite_client.code.train_batch(weights=inputs_sy.id, data=labels_sy.id)\n",
    "        batch_result = result_ptr.get()\n",
    "\n",
    "        \n",
    "        running_loss += batch_result[\"loss\"]\n",
    "\n",
    "\n",
    "print('Finished Training')"
   ]
  },
  {
   "cell_type": "code",
   "execution_count": null,
   "metadata": {},
   "outputs": [
    {
     "ename": "ValueError",
     "evalue": "too many values to unpack (expected 2)",
     "output_type": "error",
     "traceback": [
      "\u001b[0;31m---------------------------------------------------------------------------\u001b[0m\n",
      "\u001b[0;31mValueError\u001b[0m                                Traceback (most recent call last)\n",
      "Cell \u001b[0;32mIn[26], line 1\u001b[0m\n",
      "\u001b[0;32m----> 1\u001b[0m \u001b[38;5;28;01mfor\u001b[39;00m inputs, labels \u001b[38;5;129;01min\u001b[39;00m train_data:\n",
      "\u001b[1;32m      2\u001b[0m     \u001b[38;5;28mprint\u001b[39m(inputs\u001b[38;5;241m.\u001b[39mshape, labels\u001b[38;5;241m.\u001b[39mshape)\n",
      "\n",
      "\u001b[0;31mValueError\u001b[0m: too many values to unpack (expected 2)"
     ]
    }
   ],
   "source": [
    "for inputs, labels in train_data:\n",
    "    print(inputs.shape, labels.shape)"
   ]
  },
  {
   "cell_type": "code",
   "execution_count": 6,
   "metadata": {},
   "outputs": [
    {
     "name": "stdout",
     "output_type": "stream",
     "text": [
      "Accuracy of the network on the 10000 test images: 59.73%\n"
     ]
    }
   ],
   "source": [
    "correct = 0\n",
    "total = 0\n",
    "with torch.no_grad():\n",
    "    for data in testloader:\n",
    "        images, labels = data\n",
    "        outputs = net(images)\n",
    "        _, predicted = torch.max(outputs.data, 1)\n",
    "        total += labels.size(0)\n",
    "        correct += (predicted == labels).sum().item()\n",
    "\n",
    "print(f'Accuracy of the network on the 10000 test images: {100 * correct / total:.2f}%')"
   ]
  }
 ],
 "metadata": {
  "kernelspec": {
   "display_name": "myenv",
   "language": "python",
   "name": "python3"
  },
  "language_info": {
   "codemirror_mode": {
    "name": "ipython",
    "version": 3
   },
   "file_extension": ".py",
   "mimetype": "text/x-python",
   "name": "python",
   "nbconvert_exporter": "python",
   "pygments_lexer": "ipython3",
   "version": "3.11.9"
  }
 },
 "nbformat": 4,
 "nbformat_minor": 2
}
