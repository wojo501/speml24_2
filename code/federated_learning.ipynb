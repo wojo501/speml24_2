{
 "cells": [
  {
   "cell_type": "code",
   "execution_count": 21,
   "metadata": {},
   "outputs": [
    {
     "name": "stdout",
     "output_type": "stream",
     "text": [
      "✅ The installed version of syft==0.8.7 matches the requirement >=0.8.2b0 and the requirement <0.9\n"
     ]
    }
   ],
   "source": [
    "import torch\n",
    "import torchvision\n",
    "import torchvision.transforms as transforms\n",
    "import torch.nn as nn\n",
    "import torch.nn.functional as F\n",
    "\n",
    "import syft as sy\n",
    "\n",
    "SYFT_VERSION = \">=0.8.2.b0,<0.9\"\n",
    "sy.requires(SYFT_VERSION)"
   ]
  },
  {
   "cell_type": "code",
   "execution_count": 22,
   "metadata": {},
   "outputs": [
    {
     "name": "stdout",
     "output_type": "stream",
     "text": [
      "Files already downloaded and verified\n"
     ]
    },
    {
     "data": {
      "text/html": [
       "<div class=\"alert-info\" style=\"padding:5px;\"><strong>SyftInfo</strong>: <pre class=\"alert-info\" style=\"display:inline; font-family:inherit;\">You have launched a development server at http://0.0.0.0:None.It is intended only for local use.</pre></div><br/>"
      ],
      "text/plain": [
       "SyftInfo: You have launched a development server at http://0.0.0.0:None.It is intended only for local use."
      ]
     },
     "metadata": {},
     "output_type": "display_data"
    },
    {
     "name": "stdout",
     "output_type": "stream",
     "text": [
      "Logged into <test-datasite-1: High side Datasite> as <info@openmined.org>\n"
     ]
    },
    {
     "data": {
      "text/html": [
       "<div class=\"alert-warning\" style=\"padding:5px;\"><strong>SyftWarning</strong>: <pre class=\"alert-warning\" style=\"display:inline; font-family:inherit;\">You are using a default password. Please change the password using `[your_client].me.set_password([new_password])`.</pre></div><br/>"
      ],
      "text/plain": [
       "SyftWarning: You are using a default password. Please change the password using `[your_client].me.set_password([new_password])`."
      ]
     },
     "metadata": {},
     "output_type": "display_data"
    },
    {
     "name": "stdout",
     "output_type": "stream",
     "text": [
      "Logged into <test-datasite-1: High side Datasite> as <w1@student.tuwien.ac.at>\n"
     ]
    },
    {
     "data": {
      "text/plain": [
       "<UID: ab67e453d9c54acea581b87537c2d106>"
      ]
     },
     "metadata": {},
     "output_type": "display_data"
    }
   ],
   "source": [
    "# Transformations for the CIFAR10 data\n",
    "transform = transforms.Compose([\n",
    "    transforms.ToTensor(),\n",
    "    transforms.Normalize((0.5, 0.5, 0.5), (0.5, 0.5, 0.5))\n",
    "])\n",
    "\n",
    "# Load CIFAR10 training data\n",
    "trainset = torchvision.datasets.CIFAR10(root='./data', train=True,\n",
    "                                        download=True, transform=transform)\n",
    "\n",
    "# Split the dataset between two workers\n",
    "trainloader = torch.utils.data.DataLoader(trainset, batch_size=len(trainset)//20, shuffle=True)\n",
    "\n",
    "# Initialize the server and two workers\n",
    "server = sy.orchestra.launch(name=\"test-datasite-1\", dev_mode=True, reset=True)\n",
    "datasite_client = server.login(email=\"info@openmined.org\", password=\"changethis\")\n",
    "datasite_client.register(\n",
    "    name=\"Worker 1\",\n",
    "    email=\"w1@student.tuwien.ac.at\",\n",
    "    password=\"abc123\",\n",
    "    password_verify=\"abc123\",\n",
    "    institution=\"TU Wien\",\n",
    "    website=\"https://www.tuwien.ac.at/\",\n",
    ")\n",
    "\n",
    "\n",
    "worker1 = server.login(email=\"w1@student.tuwien.ac.at\", password=\"abc123\")\n",
    "\n",
    "# Distribute the data to the two workers\n",
    "data_batches = iter(trainloader)\n",
    "train1 = sy.ActionObject.from_obj(next(data_batches))\n",
    "train_data_worker1 = train1.send(datasite_client)\n",
    "display(train_data_worker1.id)"
   ]
  },
  {
   "cell_type": "code",
   "execution_count": 23,
   "metadata": {},
   "outputs": [
    {
     "data": {
      "text/plain": [
       "collections.OrderedDict"
      ]
     },
     "metadata": {},
     "output_type": "display_data"
    },
    {
     "data": {
      "text/plain": [
       "<UID: f704cda451014c87bdf435b2f16f7ecd>"
      ]
     },
     "metadata": {},
     "output_type": "display_data"
    },
    {
     "data": {
      "text/plain": [
       "<UID: f704cda451014c87bdf435b2f16f7ecd>"
      ]
     },
     "metadata": {},
     "output_type": "display_data"
    }
   ],
   "source": [
    "class CNN(nn.Module):\n",
    "    def __init__(self):\n",
    "        super(CNN, self).__init__()\n",
    "        self.conv1 = nn.Conv2d(3, 6, 5)\n",
    "        self.pool = nn.MaxPool2d(2, 2)\n",
    "        self.conv2 = nn.Conv2d(6, 16, 5)\n",
    "        self.fc1 = nn.Linear(16 * 5 * 5, 120)\n",
    "        self.fc2 = nn.Linear(120, 84)\n",
    "        self.fc3 = nn.Linear(84, 10)\n",
    "\n",
    "    def forward(self, x):\n",
    "        x = self.pool(F.relu(self.conv1(x)))\n",
    "        x = self.pool(F.relu(self.conv2(x)))\n",
    "        x = x.view(-1, 16 * 5 * 5)\n",
    "        x = F.relu(self.fc1(x))\n",
    "        x = F.relu(self.fc2(x))\n",
    "        return self.fc3(x)\n",
    "\n",
    "model = CNN()\n",
    "weights = model.state_dict()\n",
    "w = sy.ActionObject.from_obj(weights)\n",
    "display(type(w.syft_action_data), w.id)\n",
    "weight_datasite_obj1 = w.send(datasite_client)\n",
    "display(weight_datasite_obj1.id)"
   ]
  },
  {
   "cell_type": "code",
   "execution_count": 24,
   "metadata": {},
   "outputs": [
    {
     "data": {
      "text/html": [
       "<div class=\"alert-success\" style=\"padding:5px;\"><strong>SyftSuccess</strong>: <pre class=\"alert-success\" style=\"display:inline; font-family:inherit;\">Syft function 'train_cnn_epoch_w1' successfully created. To add a code request, please create a project using `project = syft.Project(...)`, then use command `project.create_code_request`.</pre></div><br/>"
      ],
      "text/plain": [
       "SyftSuccess: Syft function 'train_cnn_epoch_w1' successfully created. To add a code request, please create a project using `project = syft.Project(...)`, then use command `project.create_code_request`."
      ]
     },
     "metadata": {},
     "output_type": "display_data"
    }
   ],
   "source": [
    "@sy.syft_function(\n",
    "    input_policy=sy.ExactMatch(weights=weight_datasite_obj1.id, data=train_data_worker1.id),\n",
    "    output_policy=sy.SingleExecutionExactOutput(),\n",
    ")\n",
    "def train_cnn_epoch_w1(weights, data):\n",
    "    # Load model weights\n",
    "    model.load_state_dict(weights)\n",
    "    model.train()\n",
    "\n",
    "    # Training logic (simplified for example)\n",
    "    for inputs, labels in data:\n",
    "        optimizer.zero_grad()\n",
    "        outputs = model(inputs)\n",
    "        loss = criterion(outputs, labels)\n",
    "        loss.backward()\n",
    "        optimizer.step()\n",
    "    return model.state_dict()\n",
    "\n",
    "# Initialize optimizer and loss function here (not shown for brevity)\n",
    "optimizer = torch.optim.SGD(model.parameters(), lr=0.001, momentum=0.9)\n",
    "criterion = nn.CrossEntropyLoss()\n",
    "\n",
    "def average_weights(weights1, weights2):\n",
    "    average_weights = {}\n",
    "    for key in weights1.keys():\n",
    "        # Ensure the weights are on the same device (CPU in this case)\n",
    "        average_weights[key] = (weights1[key].cpu() + weights2[key].cpu()) / 2\n",
    "    return average_weights\n"
   ]
  },
  {
   "cell_type": "code",
   "execution_count": 25,
   "metadata": {},
   "outputs": [
    {
     "data": {
      "text/plain": [
       "<UID: f704cda451014c87bdf435b2f16f7ecd>"
      ]
     },
     "metadata": {},
     "output_type": "display_data"
    },
    {
     "data": {
      "text/plain": [
       "<UID: ab67e453d9c54acea581b87537c2d106>"
      ]
     },
     "metadata": {},
     "output_type": "display_data"
    },
    {
     "name": "stdout",
     "output_type": "stream",
     "text": [
      "SyftInfo: Closing the server after time_alive=300 (the default value)\n"
     ]
    },
    {
     "data": {
      "text/html": [
       "<div class=\"alert-info\" style=\"padding:5px;\"><strong>SyftInfo</strong>: <pre class=\"alert-info\" style=\"display:inline; font-family:inherit;\">You have launched a development server at http://0.0.0.0:None.It is intended only for local use.</pre></div><br/>"
      ],
      "text/plain": [
       "SyftInfo: You have launched a development server at http://0.0.0.0:None.It is intended only for local use."
      ]
     },
     "metadata": {},
     "output_type": "display_data"
    },
    {
     "name": "stdout",
     "output_type": "stream",
     "text": [
      "Logged into <ephemeral_server_train_cnn_epoch_w1_7968: High side Datasite> as <info@openmined.org>\n"
     ]
    },
    {
     "data": {
      "text/html": [
       "<div class=\"alert-warning\" style=\"padding:5px;\"><strong>SyftWarning</strong>: <pre class=\"alert-warning\" style=\"display:inline; font-family:inherit;\">You are using a default password. Please change the password using `[your_client].me.set_password([new_password])`.</pre></div><br/>"
      ],
      "text/plain": [
       "SyftWarning: You are using a default password. Please change the password using `[your_client].me.set_password([new_password])`."
      ]
     },
     "metadata": {},
     "output_type": "display_data"
    },
    {
     "ename": "AttributeError",
     "evalue": "'str' object has no attribute 'id'",
     "output_type": "error",
     "traceback": [
      "\u001b[0;31m---------------------------------------------------------------------------\u001b[0m",
      "\u001b[0;31mAttributeError\u001b[0m                            Traceback (most recent call last)",
      "Cell \u001b[0;32mIn[25], line 3\u001b[0m\n\u001b[1;32m      1\u001b[0m \u001b[38;5;66;03m# Assuming the model and data pointers are already set up\u001b[39;00m\n\u001b[1;32m      2\u001b[0m display(weight_datasite_obj1\u001b[38;5;241m.\u001b[39mid, train_data_worker1\u001b[38;5;241m.\u001b[39mid)\n\u001b[0;32m----> 3\u001b[0m pointer_w1 \u001b[38;5;241m=\u001b[39m \u001b[43mtrain_cnn_epoch_w1\u001b[49m\u001b[43m(\u001b[49m\u001b[43mweights\u001b[49m\u001b[38;5;241;43m=\u001b[39;49m\u001b[43mweight_datasite_obj1\u001b[49m\u001b[43m,\u001b[49m\u001b[43m \u001b[49m\u001b[43mdata\u001b[49m\u001b[38;5;241;43m=\u001b[39;49m\u001b[43mtrain_data_worker1\u001b[49m\u001b[43m)\u001b[49m\n\u001b[1;32m      4\u001b[0m weights_worker1 \u001b[38;5;241m=\u001b[39m pointer_w1\u001b[38;5;241m.\u001b[39mget()\n\u001b[1;32m      5\u001b[0m \u001b[38;5;66;03m# Aggregate the updates from both workers (simplified example)\u001b[39;00m\n",
      "File \u001b[0;32m/opt/conda/envs/myenv/lib/python3.11/site-packages/syft/service/code/user_code.py:1059\u001b[0m, in \u001b[0;36mSubmitUserCode.__call__\u001b[0;34m(self, syft_no_server, blocking, time_alive, n_consumers, *args, **kwargs)\u001b[0m\n\u001b[1;32m   1057\u001b[0m \u001b[38;5;28;01mif\u001b[39;00m syft_no_server:\n\u001b[1;32m   1058\u001b[0m     \u001b[38;5;28;01mreturn\u001b[39;00m \u001b[38;5;28mself\u001b[39m\u001b[38;5;241m.\u001b[39mlocal_call(\u001b[38;5;241m*\u001b[39margs, \u001b[38;5;241m*\u001b[39m\u001b[38;5;241m*\u001b[39mkwargs)\n\u001b[0;32m-> 1059\u001b[0m \u001b[38;5;28;01mreturn\u001b[39;00m \u001b[38;5;28;43mself\u001b[39;49m\u001b[38;5;241;43m.\u001b[39;49m\u001b[43m_ephemeral_server_call\u001b[49m\u001b[43m(\u001b[49m\n\u001b[1;32m   1060\u001b[0m \u001b[43m    \u001b[49m\u001b[38;5;241;43m*\u001b[39;49m\u001b[43margs\u001b[49m\u001b[43m,\u001b[49m\n\u001b[1;32m   1061\u001b[0m \u001b[43m    \u001b[49m\u001b[43mtime_alive\u001b[49m\u001b[38;5;241;43m=\u001b[39;49m\u001b[43mtime_alive\u001b[49m\u001b[43m,\u001b[49m\n\u001b[1;32m   1062\u001b[0m \u001b[43m    \u001b[49m\u001b[43mn_consumers\u001b[49m\u001b[38;5;241;43m=\u001b[39;49m\u001b[43mn_consumers\u001b[49m\u001b[43m,\u001b[49m\n\u001b[1;32m   1063\u001b[0m \u001b[43m    \u001b[49m\u001b[43mblocking\u001b[49m\u001b[38;5;241;43m=\u001b[39;49m\u001b[43mblocking\u001b[49m\u001b[43m,\u001b[49m\n\u001b[1;32m   1064\u001b[0m \u001b[43m    \u001b[49m\u001b[38;5;241;43m*\u001b[39;49m\u001b[38;5;241;43m*\u001b[39;49m\u001b[43mkwargs\u001b[49m\u001b[43m,\u001b[49m\n\u001b[1;32m   1065\u001b[0m \u001b[43m\u001b[49m\u001b[43m)\u001b[49m\n",
      "File \u001b[0;32m/opt/conda/envs/myenv/lib/python3.11/site-packages/syft/service/code/user_code.py:1148\u001b[0m, in \u001b[0;36mSubmitUserCode._ephemeral_server_call\u001b[0;34m(self, time_alive, n_consumers, blocking, *args, **kwargs)\u001b[0m\n\u001b[1;32m   1146\u001b[0m \u001b[38;5;28;01melse\u001b[39;00m:\n\u001b[1;32m   1147\u001b[0m     data_obj \u001b[38;5;241m=\u001b[39m mock_obj\n\u001b[0;32m-> 1148\u001b[0m \u001b[43mdata_obj\u001b[49m\u001b[38;5;241;43m.\u001b[39;49m\u001b[43mid\u001b[49m \u001b[38;5;241m=\u001b[39m \u001b[38;5;28mid\u001b[39m\n\u001b[1;32m   1149\u001b[0m new_obj \u001b[38;5;241m=\u001b[39m ActionObject\u001b[38;5;241m.\u001b[39mfrom_obj(\n\u001b[1;32m   1150\u001b[0m     data_obj\u001b[38;5;241m.\u001b[39msyft_action_data,\n\u001b[1;32m   1151\u001b[0m     \u001b[38;5;28mid\u001b[39m\u001b[38;5;241m=\u001b[39m\u001b[38;5;28mid\u001b[39m,\n\u001b[1;32m   1152\u001b[0m     syft_server_location\u001b[38;5;241m=\u001b[39mserver_id\u001b[38;5;241m.\u001b[39mserver_id,\n\u001b[1;32m   1153\u001b[0m     syft_client_verify_key\u001b[38;5;241m=\u001b[39mserver_id\u001b[38;5;241m.\u001b[39mverify_key,\n\u001b[1;32m   1154\u001b[0m )\n\u001b[1;32m   1155\u001b[0m res \u001b[38;5;241m=\u001b[39m new_obj\u001b[38;5;241m.\u001b[39msend(ep_client)\n",
      "\u001b[0;31mAttributeError\u001b[0m: 'str' object has no attribute 'id'"
     ]
    }
   ],
   "source": [
    "# Assuming the model and data pointers are already set up\n",
    "display(weight_datasite_obj1.id, train_data_worker1.id)\n",
    "pointer_w1 = train_cnn_epoch_w1(weights=weight_datasite_obj1, data=train_data_worker1)\n",
    "weights_worker1 = pointer_w1.get()\n",
    "# Aggregate the updates from both workers (simplified example)\n",
    "display(weights_worker1)"
   ]
  },
  {
   "cell_type": "code",
   "execution_count": 24,
   "metadata": {},
   "outputs": [],
   "source": [
    "if server.server_type.value == \"python\":\n",
    "    server.land()\n"
   ]
  }
 ],
 "metadata": {
  "kernelspec": {
   "display_name": "myenv",
   "language": "python",
   "name": "python3"
  },
  "language_info": {
   "codemirror_mode": {
    "name": "ipython",
    "version": 3
   },
   "file_extension": ".py",
   "mimetype": "text/x-python",
   "name": "python",
   "nbconvert_exporter": "python",
   "pygments_lexer": "ipython3",
   "version": "3.11.9"
  }
 },
 "nbformat": 4,
 "nbformat_minor": 2
}
