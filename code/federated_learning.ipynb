{
  "cells": [
    {
      "cell_type": "markdown",
      "metadata": {
        "id": "AftvNA5VMemJ"
      },
      "source": [
        "# Federated Learning for Image Classification"
      ]
    },
    {
      "cell_type": "markdown",
      "metadata": {
        "id": "MnUwFbCAKB2r"
      },
      "source": [
        "## Before we start\n",
        "\n",
        "Before we start, please run the following to make sure that your environment is\n",
        "correctly setup. If you don't see a greeting, please refer to the\n",
        "[Installation](../install.md) guide for instructions. "
      ]
    },
    {
      "cell_type": "code",
      "execution_count": 1,
      "metadata": {
        "id": "8BKyHkMxKHfV"
      },
      "outputs": [
        {
          "name": "stderr",
          "output_type": "stream",
          "text": [
            "2024-07-22 10:09:56.899612: I tensorflow/core/util/port.cc:111] oneDNN custom operations are on. You may see slightly different numerical results due to floating-point round-off errors from different computation orders. To turn them off, set the environment variable `TF_ENABLE_ONEDNN_OPTS=0`.\n",
            "2024-07-22 10:09:56.901376: I tensorflow/tsl/cuda/cudart_stub.cc:28] Could not find cuda drivers on your machine, GPU will not be used.\n",
            "2024-07-22 10:09:56.924910: E tensorflow/compiler/xla/stream_executor/cuda/cuda_dnn.cc:9342] Unable to register cuDNN factory: Attempting to register factory for plugin cuDNN when one has already been registered\n",
            "2024-07-22 10:09:56.924951: E tensorflow/compiler/xla/stream_executor/cuda/cuda_fft.cc:609] Unable to register cuFFT factory: Attempting to register factory for plugin cuFFT when one has already been registered\n",
            "2024-07-22 10:09:56.924973: E tensorflow/compiler/xla/stream_executor/cuda/cuda_blas.cc:1518] Unable to register cuBLAS factory: Attempting to register factory for plugin cuBLAS when one has already been registered\n",
            "2024-07-22 10:09:56.930241: I tensorflow/tsl/cuda/cudart_stub.cc:28] Could not find cuda drivers on your machine, GPU will not be used.\n",
            "2024-07-22 10:09:56.930656: I tensorflow/core/platform/cpu_feature_guard.cc:182] This TensorFlow binary is optimized to use available CPU instructions in performance-critical operations.\n",
            "To enable the following instructions: AVX2 AVX512F AVX512_VNNI AVX512_BF16 FMA, in other operations, rebuild TensorFlow with the appropriate compiler flags.\n",
            "2024-07-22 10:09:57.545807: W tensorflow/compiler/tf2tensorrt/utils/py_utils.cc:38] TF-TRT Warning: Could not find TensorRT\n",
            "WARNING: All log messages before absl::InitializeLog() is called are written to STDERR\n",
            "I0000 00:00:1721642999.184802  648489 config.cc:230] gRPC experiments enabled: call_status_override_on_cancellation, event_engine_dns, event_engine_listener, http2_stats_fix, monitoring_experiment, pick_first_new, trace_record_callops, work_serializer_clears_time_cache\n",
            "I0000 00:00:1721642999.187249  648491 subchannel.cc:806] subchannel 0x7fea600015d0 {address=ipv6:%5B::1%5D:46543, args={grpc.client_channel_factory=0x7feae00141f0, grpc.default_authority=localhost:46543, grpc.internal.channel_credentials=0x7feae00141d0, grpc.internal.client_channel_call_destination=0x7feae6ce93d0, grpc.internal.event_engine=0x7fea60013be0, grpc.internal.security_connector=0x7fea60013980, grpc.internal.subchannel_pool=0x7feae0016db0, grpc.max_message_length=2000000000, grpc.max_receive_message_length=2000000000, grpc.max_send_message_length=2000000000, grpc.primary_user_agent=grpc-python/1.65.1, grpc.resource_quota=0x7feae00165c0, grpc.server_uri=dns:///localhost:46543}}: connect failed (UNKNOWN:Failed to connect to remote host: connect: Connection refused (111) {created_time:\"2024-07-22T10:09:59.187144042+00:00\"}), backing off for 1000 ms\n",
            "I0000 00:00:1721642999.187394  648491 subchannel.cc:806] subchannel 0x7fea60002270 {address=ipv4:127.0.0.1:46543, args={grpc.client_channel_factory=0x7feae00141f0, grpc.default_authority=localhost:46543, grpc.internal.channel_credentials=0x7feae00141d0, grpc.internal.client_channel_call_destination=0x7feae6ce93d0, grpc.internal.event_engine=0x7fea600021a0, grpc.internal.security_connector=0x7fea60001da0, grpc.internal.subchannel_pool=0x7feae0016db0, grpc.max_message_length=2000000000, grpc.max_receive_message_length=2000000000, grpc.max_send_message_length=2000000000, grpc.primary_user_agent=grpc-python/1.65.1, grpc.resource_quota=0x7feae00165c0, grpc.server_uri=dns:///localhost:46543}}: connect failed (UNKNOWN:Failed to connect to remote host: connect: Connection refused (111) {created_time:\"2024-07-22T10:09:59.18733041+00:00\"}), backing off for 1000 ms\n",
            "I0000 00:00:1721643000.188071  648503 subchannel.cc:761] subchannel 0x7fea600015d0 {address=ipv6:%5B::1%5D:46543, args={grpc.client_channel_factory=0x7feae00141f0, grpc.default_authority=localhost:46543, grpc.internal.channel_credentials=0x7feae00141d0, grpc.internal.client_channel_call_destination=0x7feae6ce93d0, grpc.internal.event_engine=0x7fea60013be0, grpc.internal.security_connector=0x7fea60013980, grpc.internal.subchannel_pool=0x7feae0016db0, grpc.max_message_length=2000000000, grpc.max_receive_message_length=2000000000, grpc.max_send_message_length=2000000000, grpc.primary_user_agent=grpc-python/1.65.1, grpc.resource_quota=0x7feae00165c0, grpc.server_uri=dns:///localhost:46543}}: backoff delay elapsed, reporting IDLE\n"
          ]
        },
        {
          "data": {
            "text/plain": [
              "b'Hello, World!'"
            ]
          },
          "execution_count": 1,
          "metadata": {},
          "output_type": "execute_result"
        }
      ],
      "source": [
        "import collections\n",
        "import numpy as np\n",
        "import tensorflow as tf\n",
        "import tensorflow_federated as tff\n",
        "from matplotlib import pyplot as plt\n",
        "\n",
        "np.random.seed(0)\n",
        "\n",
        "tff.federated_computation(lambda: 'Hello, World!')()"
      ]
    },
    {
      "cell_type": "markdown",
      "metadata": {
        "id": "5Cyy2AWbLMKj"
      },
      "source": [
        "## Preparing the input data\n"
      ]
    },
    {
      "cell_type": "code",
      "execution_count": 2,
      "metadata": {
        "id": "NayDhCX6SjwE"
      },
      "outputs": [],
      "source": [
        "cifar100_train, cifar100_test = tff.simulation.datasets.cifar100.load_data()\n",
        "# display(cifar100_train.client_ids)\n",
        "# display(cifar100_test.element_type_structure)"
      ]
    },
    {
      "cell_type": "markdown",
      "metadata": {
        "id": "yeX8BKgPfeFw"
      },
      "source": [
        "Inspect the dataset, of simulated client nr 0"
      ]
    },
    {
      "cell_type": "code",
      "execution_count": 3,
      "metadata": {
        "id": "EsvSXGEMgd9G"
      },
      "outputs": [
        {
          "data": {
            "image/png": "[encoded data removed]",
            "text/plain": [
              "<Figure size 640x480 with 1 Axes>"
            ]
          },
          "metadata": {},
          "output_type": "display_data"
        }
      ],
      "source": [
        "example_dataset = cifar100_train.create_tf_dataset_for_client(cifar100_train.client_ids[0])\n",
        "\n",
        "example_element = next(iter(example_dataset))\n",
        "plt.imshow(example_element['image'].numpy(), cmap='gray', aspect='equal')\n",
        "plt.grid(False)\n",
        "_ = plt.show()"
      ]
    },
    {
      "cell_type": "markdown",
      "metadata": {
        "id": "c6wB6PggHO3g"
      },
      "source": [
        "Now let's visualize the number of examples on each client for each MNIST digit label. In the federated environment, the number of examples on each client can vary quite a bit, depending on user behavior."
      ]
    },
    {
      "cell_type": "markdown",
      "metadata": {
        "id": "U0pwnQZUKea2"
      },
      "source": [
        "### Preprocessing the input data"
      ]
    },
    {
      "cell_type": "markdown",
      "metadata": {
        "id": "lMd01egqy9we"
      },
      "source": [
        "Since the data is already a `tf.data.Dataset`,  preprocessing can be accomplished using Dataset transformations. Here, we flatten the `28x28` images\n",
        "into `784`-element arrays, shuffle the individual examples, organize them into batches, and rename the features\n",
        "from `pixels` and `label` to `x` and `y` for use with Keras. We also throw in a\n",
        "`repeat` over the data set to run several epochs."
      ]
    },
    {
      "cell_type": "code",
      "execution_count": 4,
      "metadata": {
        "id": "cyG_BMraSuu_"
      },
      "outputs": [],
      "source": [
        "NUM_CLIENTS = 10\n",
        "NUM_EPOCHS = 5\n",
        "BATCH_SIZE = 50\n",
        "SHUFFLE_BUFFER = 250\n",
        "PREFETCH_BUFFER = 25 # half of batch size\n",
        "\n",
        "def preprocess(dataset):\n",
        "    def batch_format_fn(element):\n",
        "        \"\"\"Adjust the function for CIFAR100's 32x32x3 images.\"\"\"\n",
        "        # Reshape and normalize CIFAR100 images\n",
        "        return collections.OrderedDict(\n",
        "            x=tf.reshape(element['image'], [-1, 32, 32, 3]),  # Normalize images to [0,1]\n",
        "            y=tf.reshape(element['label'], [-1, 1]))\n",
        "\n",
        "    return dataset.repeat(NUM_EPOCHS).shuffle(SHUFFLE_BUFFER, seed=1).batch(\n",
        "        BATCH_SIZE).map(batch_format_fn).prefetch(PREFETCH_BUFFER)\n",
        "\n",
        "# Here's a simple helper function that will construct a list of datasets from the given set of users as an input to a round of training or evaluation.\n",
        "def make_federated_data(client_data, client_ids):\\\n",
        "  return [\n",
        "      preprocess(client_data.create_tf_dataset_for_client(x))\n",
        "      for x in client_ids\n",
        "  ]"
      ]
    },
    {
      "cell_type": "markdown",
      "metadata": {
        "id": "0M9PfjOtAVqw"
      },
      "source": [
        "Sample the set of clients once, andreuse the same set across rounds to speed up convergence (intentionally over-fitting to these few user's data)."
      ]
    },
    {
      "cell_type": "code",
      "execution_count": 5,
      "metadata": {
        "id": "GZ6NYHxB8xer"
      },
      "outputs": [
        {
          "name": "stdout",
          "output_type": "stream",
          "text": [
            "Number of client datasets: 10\n",
            "First dataset: <_PrefetchDataset element_spec=OrderedDict([('x', TensorSpec(shape=(None, 32, 32, 3), dtype=tf.uint8, name=None)), ('y', TensorSpec(shape=(None, 1), dtype=tf.int64, name=None))])>\n"
          ]
        }
      ],
      "source": [
        "sample_clients = cifar100_train.client_ids[0:NUM_CLIENTS]\n",
        "\n",
        "federated_train_data = make_federated_data(cifar100_train, sample_clients)\n",
        "\n",
        "print(f'Number of client datasets: {len(federated_train_data)}')\n",
        "print(f'First dataset: {federated_train_data[0]}')\n",
        "\n",
        "preprocessed_example_dataset = preprocess(example_dataset)"
      ]
    },
    {
      "cell_type": "markdown",
      "metadata": {
        "id": "HOxq4tbi9m8-"
      },
      "source": [
        "## Creating a model with Keras"
      ]
    },
    {
      "cell_type": "code",
      "execution_count": 6,
      "metadata": {
        "id": "LYCsJGJFWbqt"
      },
      "outputs": [],
      "source": [
        "def create_keras_model():\n",
        "    return tf.keras.Sequential([\n",
        "        tf.keras.layers.Conv2D(32, kernel_size=(3, 3), activation='relu', input_shape=(32, 32, 3)),\n",
        "        tf.keras.layers.MaxPooling2D(pool_size=(2, 2)),\n",
        "        tf.keras.layers.Conv2D(64, (3, 3), activation='relu'),\n",
        "        tf.keras.layers.MaxPooling2D(pool_size=(2, 2)),\n",
        "        tf.keras.layers.Conv2D(128, (3, 3), activation='relu'),\n",
        "        tf.keras.layers.MaxPooling2D(pool_size=(2, 2)),\n",
        "        tf.keras.layers.Flatten(),\n",
        "        tf.keras.layers.Dense(256, activation='relu'),\n",
        "        tf.keras.layers.Dropout(0.5),\n",
        "        tf.keras.layers.Dense(128, activation='relu'),\n",
        "        tf.keras.layers.Dropout(0.5),\n",
        "        tf.keras.layers.Dense(100, activation='softmax')\n",
        "    ])"
      ]
    },
    {
      "cell_type": "markdown",
      "metadata": {
        "id": "NHdraKFH4OU2"
      },
      "source": [
        "**Note:** we do not compile the model yet. The loss, metrics, and optimizers are introduced later.\n",
        "\n",
        "In order to use any model with TFF, it needs to be wrapped in an instance of the\n",
        "`tff.learning.models.VariableModel` interface, which exposes methods to stamp the model's\n",
        "forward pass, metadata properties, etc., similarly to Keras, but also introduces\n",
        "additional elements, such as ways to control the process of computing federated\n",
        "metrics. Let's not worry about this for now; if you have a Keras model like the\n",
        "one we've just defined above, you can have TFF wrap it for you by invoking\n",
        "`tff.learning.models.from_keras_model`, passing the model and a sample data batch as\n",
        "arguments, as shown below."
      ]
    },
    {
      "cell_type": "code",
      "execution_count": 7,
      "metadata": {
        "id": "Q3ynrxd53HzY"
      },
      "outputs": [],
      "source": [
        "def model_fn():\n",
        "  # We _must_ create a new model here, and _not_ capture it from an external\n",
        "  # scope. TFF will call this within different graph contexts.\n",
        "  keras_model = create_keras_model()\n",
        "  return tff.learning.models.from_keras_model(\n",
        "      keras_model,\n",
        "      input_spec=preprocessed_example_dataset.element_spec,\n",
        "      loss=tf.keras.losses.SparseCategoricalCrossentropy(),\n",
        "      metrics=[tf.keras.metrics.SparseCategoricalAccuracy()])"
      ]
    },
    {
      "cell_type": "markdown",
      "metadata": {
        "id": "XJ5E3O18_JZ6"
      },
      "source": [
        "## Training the model on federated data\n",
        "\n",
        "Now that we have a model wrapped as `tff.learning.models.VariableModel` for use with TFF, we\n",
        "can let TFF construct a Federated Averaging algorithm by invoking the helper\n",
        "function `tff.learning.algorithms.build_weighted_fed_avg`, as follows.\n",
        "\n",
        "Keep in mind that the argument needs to be a constructor (such as `model_fn`\n",
        "above), not an already-constructed instance, so that the construction of your\n",
        "model can happen in a context controlled by TFF (if you're curious about the\n",
        "reasons for this, we encourage you to read the follow-up tutorial on\n",
        "[custom algorithms](custom_federated_algorithms_1.ipynb)).\n",
        "\n",
        "One critical note on the Federated Averaging algorithm below, there are **2**\n",
        "optimizers: a _client_optimizer_ and a _server_optimizer_. The\n",
        "_client_optimizer_ is only used to compute local model updates on each client.\n",
        "The _server_optimizer_ applies the averaged update to the global model at the\n",
        "server. In particular, this means that the choice of optimizer and learning rate\n",
        "used may need to be different than the ones you have used to train the model on\n",
        "a standard i.i.d. dataset. We recommend starting with regular SGD, possibly with\n",
        "a smaller learning rate than usual. The learning rate we use has not been\n",
        "carefully tuned, feel free to experiment."
      ]
    },
    {
      "cell_type": "code",
      "execution_count": 8,
      "metadata": {
        "id": "sk6mjOfycX5N"
      },
      "outputs": [],
      "source": [
        "training_process = tff.learning.algorithms.build_weighted_fed_avg(\n",
        "    model_fn,\n",
        "    client_optimizer_fn=lambda: tf.keras.optimizers.Adam(learning_rate=0.0005),\n",
        "    server_optimizer_fn=lambda: tf.keras.optimizers.Adam(learning_rate=0.005))"
      ]
    },
    {
      "cell_type": "markdown",
      "metadata": {
        "id": "v1gbHQ_7BiyT"
      },
      "source": [
        "Let's invoke the `initialize` computation to construct the server state."
      ]
    },
    {
      "cell_type": "code",
      "execution_count": 9,
      "metadata": {
        "id": "6cagCWlZmcch"
      },
      "outputs": [
        {
          "name": "stderr",
          "output_type": "stream",
          "text": [
            "2024-07-22 10:10:04.302936: I tensorflow/core/grappler/devices.cc:66] Number of eligible GPUs (core count >= 8, compute capability >= 0.0): 0\n",
            "2024-07-22 10:10:04.303039: I tensorflow/core/grappler/clusters/single_machine.cc:361] Starting new session\n",
            "2024-07-22 10:10:04.331965: I tensorflow/core/grappler/devices.cc:66] Number of eligible GPUs (core count >= 8, compute capability >= 0.0): 0\n",
            "2024-07-22 10:10:04.332215: I tensorflow/core/grappler/clusters/single_machine.cc:361] Starting new session\n"
          ]
        }
      ],
      "source": [
        "train_state = training_process.initialize()"
      ]
    },
    {
      "cell_type": "markdown",
      "metadata": {
        "id": "TjjxTx9e_rMd"
      },
      "source": [
        "The second of the pair of federated computations, `next`, represents a single\n",
        "round of Federated Averaging, which consists of pushing the server state\n",
        "(including the model parameters) to the clients, on-device training on their\n",
        "local data, collecting and averaging model updates, and producing a new updated\n",
        "model at the server.\n",
        "\n",
        "Conceptually, you can think of `next` as having a functional type signature that\n",
        "looks as follows.\n",
        "\n",
        "```\n",
        "SERVER_STATE, FEDERATED_DATA -> SERVER_STATE, TRAINING_METRICS\n",
        "```\n",
        "\n",
        "In particular, one should think about `next()` not as being a function that runs on a server, but rather being a declarative functional representation of the entire decentralized computation - some of the inputs are provided by the server (`SERVER_STATE`), but each participating device contributes its own local dataset.\n",
        "\n",
        "Let's run a single round of training and visualize the results. We can use the\n",
        "federated data we've already generated above for a sample of users."
      ]
    },
    {
      "cell_type": "code",
      "execution_count": 10,
      "metadata": {
        "id": "F3M_W9dDE6Tm"
      },
      "outputs": [
        {
          "name": "stderr",
          "output_type": "stream",
          "text": [
            "2024-07-22 10:10:04.655693: I tensorflow/core/grappler/devices.cc:66] Number of eligible GPUs (core count >= 8, compute capability >= 0.0): 0\n",
            "2024-07-22 10:10:04.655881: I tensorflow/core/grappler/clusters/single_machine.cc:361] Starting new session\n",
            "2024-07-22 10:10:04.784852: I tensorflow/core/grappler/devices.cc:66] Number of eligible GPUs (core count >= 8, compute capability >= 0.0): 0\n",
            "2024-07-22 10:10:04.784936: I tensorflow/core/grappler/clusters/single_machine.cc:361] Starting new session\n",
            "2024-07-22 10:10:04.789455: I tensorflow/core/grappler/devices.cc:66] Number of eligible GPUs (core count >= 8, compute capability >= 0.0): 0\n",
            "2024-07-22 10:10:04.789574: I tensorflow/core/grappler/clusters/single_machine.cc:361] Starting new session\n",
            "2024-07-22 10:10:04.795700: I tensorflow/core/grappler/devices.cc:66] Number of eligible GPUs (core count >= 8, compute capability >= 0.0): 0\n",
            "2024-07-22 10:10:04.795787: I tensorflow/core/grappler/clusters/single_machine.cc:361] Starting new session\n",
            "2024-07-22 10:10:04.803898: I tensorflow/core/grappler/devices.cc:66] Number of eligible GPUs (core count >= 8, compute capability >= 0.0): 0\n",
            "2024-07-22 10:10:04.803973: I tensorflow/core/grappler/clusters/single_machine.cc:361] Starting new session\n",
            "2024-07-22 10:10:04.816063: I tensorflow/core/grappler/devices.cc:66] Number of eligible GPUs (core count >= 8, compute capability >= 0.0): 0\n",
            "2024-07-22 10:10:04.816150: I tensorflow/core/grappler/clusters/single_machine.cc:361] Starting new session\n",
            "2024-07-22 10:10:04.823488: I tensorflow/core/grappler/devices.cc:66] Number of eligible GPUs (core count >= 8, compute capability >= 0.0): 0\n",
            "2024-07-22 10:10:04.823564: I tensorflow/core/grappler/clusters/single_machine.cc:361] Starting new session\n",
            "2024-07-22 10:10:04.830401: I tensorflow/core/grappler/devices.cc:66] Number of eligible GPUs (core count >= 8, compute capability >= 0.0): 0\n",
            "2024-07-22 10:10:04.830490: I tensorflow/core/grappler/clusters/single_machine.cc:361] Starting new session\n",
            "2024-07-22 10:10:04.840002: I tensorflow/core/grappler/devices.cc:66] Number of eligible GPUs (core count >= 8, compute capability >= 0.0): 0\n",
            "2024-07-22 10:10:04.840076: I tensorflow/core/grappler/clusters/single_machine.cc:361] Starting new session\n",
            "2024-07-22 10:10:04.847755: I tensorflow/core/grappler/devices.cc:66] Number of eligible GPUs (core count >= 8, compute capability >= 0.0): 0\n",
            "2024-07-22 10:10:04.847832: I tensorflow/core/grappler/clusters/single_machine.cc:361] Starting new session\n",
            "2024-07-22 10:10:04.849625: I tensorflow/core/grappler/devices.cc:66] Number of eligible GPUs (core count >= 8, compute capability >= 0.0): 0\n",
            "2024-07-22 10:10:04.849689: I tensorflow/core/grappler/clusters/single_machine.cc:361] Starting new session\n",
            "2024-07-22 10:10:04.852909: I tensorflow/core/grappler/devices.cc:66] Number of eligible GPUs (core count >= 8, compute capability >= 0.0): 0\n",
            "2024-07-22 10:10:04.852967: I tensorflow/core/grappler/clusters/single_machine.cc:361] Starting new session\n",
            "2024-07-22 10:10:04.857245: I tensorflow/core/grappler/devices.cc:66] Number of eligible GPUs (core count >= 8, compute capability >= 0.0): 0\n",
            "2024-07-22 10:10:04.857360: I tensorflow/core/grappler/clusters/single_machine.cc:361] Starting new session\n",
            "2024-07-22 10:10:04.884369: I tensorflow/core/grappler/devices.cc:66] Number of eligible GPUs (core count >= 8, compute capability >= 0.0): 0\n",
            "2024-07-22 10:10:04.884500: I tensorflow/core/grappler/clusters/single_machine.cc:361] Starting new session\n"
          ]
        },
        {
          "name": "stdout",
          "output_type": "stream",
          "text": [
            "round  1, metrics=OrderedDict([('distributor', ()), ('client_work', OrderedDict([('train', OrderedDict([('sparse_categorical_accuracy', 0.031), ('loss', 15.344856), ('num_examples', 5000), ('num_batches', 100)]))])), ('aggregator', OrderedDict([('mean_value', ()), ('mean_weight', ())])), ('finalizer', OrderedDict([('update_non_finite', 0)]))])\n",
            "round  1, metrics=OrderedDict([('distributor', ()), ('client_work', OrderedDict([('train', OrderedDict([('sparse_categorical_accuracy', 0.0324), ('loss', 15.4170685), ('num_examples', 5000), ('num_batches', 100)]))])), ('aggregator', OrderedDict([('mean_value', ()), ('mean_weight', ())])), ('finalizer', OrderedDict([('update_non_finite', 0)]))])\n"
          ]
        }
      ],
      "source": [
        "result = training_process.next(train_state, federated_train_data)\n",
        "train_state = result.state\n",
        "train_metrics = result.metrics\n",
        "print('round  1, metrics={}'.format(train_metrics))\n",
        "result = training_process.next(train_state, federated_train_data)\n",
        "train_state = result.state\n",
        "train_metrics = result.metrics\n",
        "print('round  1, metrics={}'.format(train_metrics))"
      ]
    },
    {
      "cell_type": "markdown",
      "metadata": {
        "id": "UmhReXt9G4A5"
      },
      "source": [
        "Let's run a few more rounds. As noted earlier, typically at this point you would\n",
        "pick a subset of your simulation data from a new randomly selected sample of\n",
        "users for each round in order to simulate a realistic deployment in which users\n",
        "continuously come and go, but in this interactive notebook, for the sake of\n",
        "demonstration we'll just reuse the same users, so that the system converges\n",
        "quickly."
      ]
    },
    {
      "cell_type": "code",
      "execution_count": 11,
      "metadata": {
        "id": "qrJkQuCRJP9C"
      },
      "outputs": [
        {
          "name": "stdout",
          "output_type": "stream",
          "text": [
            "round  2, metrics=OrderedDict([('distributor', ()), ('client_work', OrderedDict([('train', OrderedDict([('sparse_categorical_accuracy', 0.0322), ('loss', 15.441472), ('num_examples', 5000), ('num_batches', 100)]))])), ('aggregator', OrderedDict([('mean_value', ()), ('mean_weight', ())])), ('finalizer', OrderedDict([('update_non_finite', 0)]))])\n",
            "round  3, metrics=OrderedDict([('distributor', ()), ('client_work', OrderedDict([('train', OrderedDict([('sparse_categorical_accuracy', 0.0386), ('loss', 15.290486), ('num_examples', 5000), ('num_batches', 100)]))])), ('aggregator', OrderedDict([('mean_value', ()), ('mean_weight', ())])), ('finalizer', OrderedDict([('update_non_finite', 0)]))])\n",
            "round  4, metrics=OrderedDict([('distributor', ()), ('client_work', OrderedDict([('train', OrderedDict([('sparse_categorical_accuracy', 0.0398), ('loss', 15.166097), ('num_examples', 5000), ('num_batches', 100)]))])), ('aggregator', OrderedDict([('mean_value', ()), ('mean_weight', ())])), ('finalizer', OrderedDict([('update_non_finite', 0)]))])\n",
            "round  5, metrics=OrderedDict([('distributor', ()), ('client_work', OrderedDict([('train', OrderedDict([('sparse_categorical_accuracy', 0.0372), ('loss', 13.843217), ('num_examples', 5000), ('num_batches', 100)]))])), ('aggregator', OrderedDict([('mean_value', ()), ('mean_weight', ())])), ('finalizer', OrderedDict([('update_non_finite', 0)]))])\n",
            "round  6, metrics=OrderedDict([('distributor', ()), ('client_work', OrderedDict([('train', OrderedDict([('sparse_categorical_accuracy', 0.0342), ('loss', 6.415729), ('num_examples', 5000), ('num_batches', 100)]))])), ('aggregator', OrderedDict([('mean_value', ()), ('mean_weight', ())])), ('finalizer', OrderedDict([('update_non_finite', 0)]))])\n",
            "round  7, metrics=OrderedDict([('distributor', ()), ('client_work', OrderedDict([('train', OrderedDict([('sparse_categorical_accuracy', 0.04), ('loss', 4.4781017), ('num_examples', 5000), ('num_batches', 100)]))])), ('aggregator', OrderedDict([('mean_value', ()), ('mean_weight', ())])), ('finalizer', OrderedDict([('update_non_finite', 0)]))])\n",
            "round  8, metrics=OrderedDict([('distributor', ()), ('client_work', OrderedDict([('train', OrderedDict([('sparse_categorical_accuracy', 0.04), ('loss', 4.4520698), ('num_examples', 5000), ('num_batches', 100)]))])), ('aggregator', OrderedDict([('mean_value', ()), ('mean_weight', ())])), ('finalizer', OrderedDict([('update_non_finite', 0)]))])\n",
            "round  9, metrics=OrderedDict([('distributor', ()), ('client_work', OrderedDict([('train', OrderedDict([('sparse_categorical_accuracy', 0.044), ('loss', 4.438981), ('num_examples', 5000), ('num_batches', 100)]))])), ('aggregator', OrderedDict([('mean_value', ()), ('mean_weight', ())])), ('finalizer', OrderedDict([('update_non_finite', 0)]))])\n",
            "round 10, metrics=OrderedDict([('distributor', ()), ('client_work', OrderedDict([('train', OrderedDict([('sparse_categorical_accuracy', 0.0408), ('loss', 4.428002), ('num_examples', 5000), ('num_batches', 100)]))])), ('aggregator', OrderedDict([('mean_value', ()), ('mean_weight', ())])), ('finalizer', OrderedDict([('update_non_finite', 0)]))])\n",
            "round 11, metrics=OrderedDict([('distributor', ()), ('client_work', OrderedDict([('train', OrderedDict([('sparse_categorical_accuracy', 0.0426), ('loss', 4.421071), ('num_examples', 5000), ('num_batches', 100)]))])), ('aggregator', OrderedDict([('mean_value', ()), ('mean_weight', ())])), ('finalizer', OrderedDict([('update_non_finite', 0)]))])\n",
            "round 12, metrics=OrderedDict([('distributor', ()), ('client_work', OrderedDict([('train', OrderedDict([('sparse_categorical_accuracy', 0.0516), ('loss', 4.375891), ('num_examples', 5000), ('num_batches', 100)]))])), ('aggregator', OrderedDict([('mean_value', ()), ('mean_weight', ())])), ('finalizer', OrderedDict([('update_non_finite', 0)]))])\n",
            "round 13, metrics=OrderedDict([('distributor', ()), ('client_work', OrderedDict([('train', OrderedDict([('sparse_categorical_accuracy', 0.0556), ('loss', 4.3709326), ('num_examples', 5000), ('num_batches', 100)]))])), ('aggregator', OrderedDict([('mean_value', ()), ('mean_weight', ())])), ('finalizer', OrderedDict([('update_non_finite', 0)]))])\n",
            "round 14, metrics=OrderedDict([('distributor', ()), ('client_work', OrderedDict([('train', OrderedDict([('sparse_categorical_accuracy', 0.0556), ('loss', 4.342565), ('num_examples', 5000), ('num_batches', 100)]))])), ('aggregator', OrderedDict([('mean_value', ()), ('mean_weight', ())])), ('finalizer', OrderedDict([('update_non_finite', 0)]))])\n",
            "round 15, metrics=OrderedDict([('distributor', ()), ('client_work', OrderedDict([('train', OrderedDict([('sparse_categorical_accuracy', 0.0522), ('loss', 4.324664), ('num_examples', 5000), ('num_batches', 100)]))])), ('aggregator', OrderedDict([('mean_value', ()), ('mean_weight', ())])), ('finalizer', OrderedDict([('update_non_finite', 0)]))])\n",
            "round 16, metrics=OrderedDict([('distributor', ()), ('client_work', OrderedDict([('train', OrderedDict([('sparse_categorical_accuracy', 0.0546), ('loss', 4.326068), ('num_examples', 5000), ('num_batches', 100)]))])), ('aggregator', OrderedDict([('mean_value', ()), ('mean_weight', ())])), ('finalizer', OrderedDict([('update_non_finite', 0)]))])\n",
            "round 17, metrics=OrderedDict([('distributor', ()), ('client_work', OrderedDict([('train', OrderedDict([('sparse_categorical_accuracy', 0.058), ('loss', 4.3070555), ('num_examples', 5000), ('num_batches', 100)]))])), ('aggregator', OrderedDict([('mean_value', ()), ('mean_weight', ())])), ('finalizer', OrderedDict([('update_non_finite', 0)]))])\n",
            "round 18, metrics=OrderedDict([('distributor', ()), ('client_work', OrderedDict([('train', OrderedDict([('sparse_categorical_accuracy', 0.0636), ('loss', 4.2748904), ('num_examples', 5000), ('num_batches', 100)]))])), ('aggregator', OrderedDict([('mean_value', ()), ('mean_weight', ())])), ('finalizer', OrderedDict([('update_non_finite', 0)]))])\n",
            "round 19, metrics=OrderedDict([('distributor', ()), ('client_work', OrderedDict([('train', OrderedDict([('sparse_categorical_accuracy', 0.0654), ('loss', 4.2630777), ('num_examples', 5000), ('num_batches', 100)]))])), ('aggregator', OrderedDict([('mean_value', ()), ('mean_weight', ())])), ('finalizer', OrderedDict([('update_non_finite', 0)]))])\n",
            "round 20, metrics=OrderedDict([('distributor', ()), ('client_work', OrderedDict([('train', OrderedDict([('sparse_categorical_accuracy', 0.0746), ('loss', 4.2273955), ('num_examples', 5000), ('num_batches', 100)]))])), ('aggregator', OrderedDict([('mean_value', ()), ('mean_weight', ())])), ('finalizer', OrderedDict([('update_non_finite', 0)]))])\n",
            "round 21, metrics=OrderedDict([('distributor', ()), ('client_work', OrderedDict([('train', OrderedDict([('sparse_categorical_accuracy', 0.0734), ('loss', 4.207786), ('num_examples', 5000), ('num_batches', 100)]))])), ('aggregator', OrderedDict([('mean_value', ()), ('mean_weight', ())])), ('finalizer', OrderedDict([('update_non_finite', 0)]))])\n",
            "round 22, metrics=OrderedDict([('distributor', ()), ('client_work', OrderedDict([('train', OrderedDict([('sparse_categorical_accuracy', 0.0776), ('loss', 4.1630707), ('num_examples', 5000), ('num_batches', 100)]))])), ('aggregator', OrderedDict([('mean_value', ()), ('mean_weight', ())])), ('finalizer', OrderedDict([('update_non_finite', 0)]))])\n",
            "round 23, metrics=OrderedDict([('distributor', ()), ('client_work', OrderedDict([('train', OrderedDict([('sparse_categorical_accuracy', 0.0804), ('loss', 4.1304345), ('num_examples', 5000), ('num_batches', 100)]))])), ('aggregator', OrderedDict([('mean_value', ()), ('mean_weight', ())])), ('finalizer', OrderedDict([('update_non_finite', 0)]))])\n",
            "round 24, metrics=OrderedDict([('distributor', ()), ('client_work', OrderedDict([('train', OrderedDict([('sparse_categorical_accuracy', 0.0928), ('loss', 4.093931), ('num_examples', 5000), ('num_batches', 100)]))])), ('aggregator', OrderedDict([('mean_value', ()), ('mean_weight', ())])), ('finalizer', OrderedDict([('update_non_finite', 0)]))])\n",
            "round 25, metrics=OrderedDict([('distributor', ()), ('client_work', OrderedDict([('train', OrderedDict([('sparse_categorical_accuracy', 0.0892), ('loss', 4.053854), ('num_examples', 5000), ('num_batches', 100)]))])), ('aggregator', OrderedDict([('mean_value', ()), ('mean_weight', ())])), ('finalizer', OrderedDict([('update_non_finite', 0)]))])\n",
            "round 26, metrics=OrderedDict([('distributor', ()), ('client_work', OrderedDict([('train', OrderedDict([('sparse_categorical_accuracy', 0.1052), ('loss', 4.0183234), ('num_examples', 5000), ('num_batches', 100)]))])), ('aggregator', OrderedDict([('mean_value', ()), ('mean_weight', ())])), ('finalizer', OrderedDict([('update_non_finite', 0)]))])\n",
            "round 27, metrics=OrderedDict([('distributor', ()), ('client_work', OrderedDict([('train', OrderedDict([('sparse_categorical_accuracy', 0.1022), ('loss', 4.007202), ('num_examples', 5000), ('num_batches', 100)]))])), ('aggregator', OrderedDict([('mean_value', ()), ('mean_weight', ())])), ('finalizer', OrderedDict([('update_non_finite', 0)]))])\n",
            "round 28, metrics=OrderedDict([('distributor', ()), ('client_work', OrderedDict([('train', OrderedDict([('sparse_categorical_accuracy', 0.1086), ('loss', 3.9579155), ('num_examples', 5000), ('num_batches', 100)]))])), ('aggregator', OrderedDict([('mean_value', ()), ('mean_weight', ())])), ('finalizer', OrderedDict([('update_non_finite', 0)]))])\n",
            "round 29, metrics=OrderedDict([('distributor', ()), ('client_work', OrderedDict([('train', OrderedDict([('sparse_categorical_accuracy', 0.1174), ('loss', 3.9007692), ('num_examples', 5000), ('num_batches', 100)]))])), ('aggregator', OrderedDict([('mean_value', ()), ('mean_weight', ())])), ('finalizer', OrderedDict([('update_non_finite', 0)]))])\n",
            "round 30, metrics=OrderedDict([('distributor', ()), ('client_work', OrderedDict([('train', OrderedDict([('sparse_categorical_accuracy', 0.127), ('loss', 3.8557742), ('num_examples', 5000), ('num_batches', 100)]))])), ('aggregator', OrderedDict([('mean_value', ()), ('mean_weight', ())])), ('finalizer', OrderedDict([('update_non_finite', 0)]))])\n",
            "round 31, metrics=OrderedDict([('distributor', ()), ('client_work', OrderedDict([('train', OrderedDict([('sparse_categorical_accuracy', 0.1288), ('loss', 3.8308203), ('num_examples', 5000), ('num_batches', 100)]))])), ('aggregator', OrderedDict([('mean_value', ()), ('mean_weight', ())])), ('finalizer', OrderedDict([('update_non_finite', 0)]))])\n",
            "round 32, metrics=OrderedDict([('distributor', ()), ('client_work', OrderedDict([('train', OrderedDict([('sparse_categorical_accuracy', 0.1292), ('loss', 3.7910707), ('num_examples', 5000), ('num_batches', 100)]))])), ('aggregator', OrderedDict([('mean_value', ()), ('mean_weight', ())])), ('finalizer', OrderedDict([('update_non_finite', 0)]))])\n",
            "round 33, metrics=OrderedDict([('distributor', ()), ('client_work', OrderedDict([('train', OrderedDict([('sparse_categorical_accuracy', 0.1434), ('loss', 3.7459738), ('num_examples', 5000), ('num_batches', 100)]))])), ('aggregator', OrderedDict([('mean_value', ()), ('mean_weight', ())])), ('finalizer', OrderedDict([('update_non_finite', 0)]))])\n",
            "round 34, metrics=OrderedDict([('distributor', ()), ('client_work', OrderedDict([('train', OrderedDict([('sparse_categorical_accuracy', 0.1456), ('loss', 3.744807), ('num_examples', 5000), ('num_batches', 100)]))])), ('aggregator', OrderedDict([('mean_value', ()), ('mean_weight', ())])), ('finalizer', OrderedDict([('update_non_finite', 0)]))])\n",
            "round 35, metrics=OrderedDict([('distributor', ()), ('client_work', OrderedDict([('train', OrderedDict([('sparse_categorical_accuracy', 0.1462), ('loss', 3.698641), ('num_examples', 5000), ('num_batches', 100)]))])), ('aggregator', OrderedDict([('mean_value', ()), ('mean_weight', ())])), ('finalizer', OrderedDict([('update_non_finite', 0)]))])\n",
            "round 36, metrics=OrderedDict([('distributor', ()), ('client_work', OrderedDict([('train', OrderedDict([('sparse_categorical_accuracy', 0.1592), ('loss', 3.664866), ('num_examples', 5000), ('num_batches', 100)]))])), ('aggregator', OrderedDict([('mean_value', ()), ('mean_weight', ())])), ('finalizer', OrderedDict([('update_non_finite', 0)]))])\n",
            "round 37, metrics=OrderedDict([('distributor', ()), ('client_work', OrderedDict([('train', OrderedDict([('sparse_categorical_accuracy', 0.1634), ('loss', 3.598423), ('num_examples', 5000), ('num_batches', 100)]))])), ('aggregator', OrderedDict([('mean_value', ()), ('mean_weight', ())])), ('finalizer', OrderedDict([('update_non_finite', 0)]))])\n",
            "round 38, metrics=OrderedDict([('distributor', ()), ('client_work', OrderedDict([('train', OrderedDict([('sparse_categorical_accuracy', 0.168), ('loss', 3.5624132), ('num_examples', 5000), ('num_batches', 100)]))])), ('aggregator', OrderedDict([('mean_value', ()), ('mean_weight', ())])), ('finalizer', OrderedDict([('update_non_finite', 0)]))])\n",
            "round 39, metrics=OrderedDict([('distributor', ()), ('client_work', OrderedDict([('train', OrderedDict([('sparse_categorical_accuracy', 0.1878), ('loss', 3.5192986), ('num_examples', 5000), ('num_batches', 100)]))])), ('aggregator', OrderedDict([('mean_value', ()), ('mean_weight', ())])), ('finalizer', OrderedDict([('update_non_finite', 0)]))])\n",
            "round 40, metrics=OrderedDict([('distributor', ()), ('client_work', OrderedDict([('train', OrderedDict([('sparse_categorical_accuracy', 0.1902), ('loss', 3.486385), ('num_examples', 5000), ('num_batches', 100)]))])), ('aggregator', OrderedDict([('mean_value', ()), ('mean_weight', ())])), ('finalizer', OrderedDict([('update_non_finite', 0)]))])\n",
            "round 41, metrics=OrderedDict([('distributor', ()), ('client_work', OrderedDict([('train', OrderedDict([('sparse_categorical_accuracy', 0.1928), ('loss', 3.4647179), ('num_examples', 5000), ('num_batches', 100)]))])), ('aggregator', OrderedDict([('mean_value', ()), ('mean_weight', ())])), ('finalizer', OrderedDict([('update_non_finite', 0)]))])\n",
            "round 42, metrics=OrderedDict([('distributor', ()), ('client_work', OrderedDict([('train', OrderedDict([('sparse_categorical_accuracy', 0.2082), ('loss', 3.3940089), ('num_examples', 5000), ('num_batches', 100)]))])), ('aggregator', OrderedDict([('mean_value', ()), ('mean_weight', ())])), ('finalizer', OrderedDict([('update_non_finite', 0)]))])\n",
            "round 43, metrics=OrderedDict([('distributor', ()), ('client_work', OrderedDict([('train', OrderedDict([('sparse_categorical_accuracy', 0.222), ('loss', 3.3474917), ('num_examples', 5000), ('num_batches', 100)]))])), ('aggregator', OrderedDict([('mean_value', ()), ('mean_weight', ())])), ('finalizer', OrderedDict([('update_non_finite', 0)]))])\n",
            "round 44, metrics=OrderedDict([('distributor', ()), ('client_work', OrderedDict([('train', OrderedDict([('sparse_categorical_accuracy', 0.217), ('loss', 3.334114), ('num_examples', 5000), ('num_batches', 100)]))])), ('aggregator', OrderedDict([('mean_value', ()), ('mean_weight', ())])), ('finalizer', OrderedDict([('update_non_finite', 0)]))])\n",
            "round 45, metrics=OrderedDict([('distributor', ()), ('client_work', OrderedDict([('train', OrderedDict([('sparse_categorical_accuracy', 0.2312), ('loss', 3.2631874), ('num_examples', 5000), ('num_batches', 100)]))])), ('aggregator', OrderedDict([('mean_value', ()), ('mean_weight', ())])), ('finalizer', OrderedDict([('update_non_finite', 0)]))])\n",
            "round 46, metrics=OrderedDict([('distributor', ()), ('client_work', OrderedDict([('train', OrderedDict([('sparse_categorical_accuracy', 0.2438), ('loss', 3.236674), ('num_examples', 5000), ('num_batches', 100)]))])), ('aggregator', OrderedDict([('mean_value', ()), ('mean_weight', ())])), ('finalizer', OrderedDict([('update_non_finite', 0)]))])\n",
            "round 47, metrics=OrderedDict([('distributor', ()), ('client_work', OrderedDict([('train', OrderedDict([('sparse_categorical_accuracy', 0.2384), ('loss', 3.2202144), ('num_examples', 5000), ('num_batches', 100)]))])), ('aggregator', OrderedDict([('mean_value', ()), ('mean_weight', ())])), ('finalizer', OrderedDict([('update_non_finite', 0)]))])\n",
            "round 48, metrics=OrderedDict([('distributor', ()), ('client_work', OrderedDict([('train', OrderedDict([('sparse_categorical_accuracy', 0.2406), ('loss', 3.1597414), ('num_examples', 5000), ('num_batches', 100)]))])), ('aggregator', OrderedDict([('mean_value', ()), ('mean_weight', ())])), ('finalizer', OrderedDict([('update_non_finite', 0)]))])\n",
            "round 49, metrics=OrderedDict([('distributor', ()), ('client_work', OrderedDict([('train', OrderedDict([('sparse_categorical_accuracy', 0.27), ('loss', 3.097484), ('num_examples', 5000), ('num_batches', 100)]))])), ('aggregator', OrderedDict([('mean_value', ()), ('mean_weight', ())])), ('finalizer', OrderedDict([('update_non_finite', 0)]))])\n",
            "round 50, metrics=OrderedDict([('distributor', ()), ('client_work', OrderedDict([('train', OrderedDict([('sparse_categorical_accuracy', 0.2672), ('loss', 3.0472786), ('num_examples', 5000), ('num_batches', 100)]))])), ('aggregator', OrderedDict([('mean_value', ()), ('mean_weight', ())])), ('finalizer', OrderedDict([('update_non_finite', 0)]))])\n",
            "round 51, metrics=OrderedDict([('distributor', ()), ('client_work', OrderedDict([('train', OrderedDict([('sparse_categorical_accuracy', 0.2848), ('loss', 3.0325112), ('num_examples', 5000), ('num_batches', 100)]))])), ('aggregator', OrderedDict([('mean_value', ()), ('mean_weight', ())])), ('finalizer', OrderedDict([('update_non_finite', 0)]))])\n",
            "round 52, metrics=OrderedDict([('distributor', ()), ('client_work', OrderedDict([('train', OrderedDict([('sparse_categorical_accuracy', 0.294), ('loss', 2.9860327), ('num_examples', 5000), ('num_batches', 100)]))])), ('aggregator', OrderedDict([('mean_value', ()), ('mean_weight', ())])), ('finalizer', OrderedDict([('update_non_finite', 0)]))])\n",
            "round 53, metrics=OrderedDict([('distributor', ()), ('client_work', OrderedDict([('train', OrderedDict([('sparse_categorical_accuracy', 0.2992), ('loss', 2.9255672), ('num_examples', 5000), ('num_batches', 100)]))])), ('aggregator', OrderedDict([('mean_value', ()), ('mean_weight', ())])), ('finalizer', OrderedDict([('update_non_finite', 0)]))])\n",
            "round 54, metrics=OrderedDict([('distributor', ()), ('client_work', OrderedDict([('train', OrderedDict([('sparse_categorical_accuracy', 0.307), ('loss', 2.8646245), ('num_examples', 5000), ('num_batches', 100)]))])), ('aggregator', OrderedDict([('mean_value', ()), ('mean_weight', ())])), ('finalizer', OrderedDict([('update_non_finite', 0)]))])\n",
            "round 55, metrics=OrderedDict([('distributor', ()), ('client_work', OrderedDict([('train', OrderedDict([('sparse_categorical_accuracy', 0.329), ('loss', 2.8140788), ('num_examples', 5000), ('num_batches', 100)]))])), ('aggregator', OrderedDict([('mean_value', ()), ('mean_weight', ())])), ('finalizer', OrderedDict([('update_non_finite', 0)]))])\n",
            "round 56, metrics=OrderedDict([('distributor', ()), ('client_work', OrderedDict([('train', OrderedDict([('sparse_categorical_accuracy', 0.3282), ('loss', 2.7562752), ('num_examples', 5000), ('num_batches', 100)]))])), ('aggregator', OrderedDict([('mean_value', ()), ('mean_weight', ())])), ('finalizer', OrderedDict([('update_non_finite', 0)]))])\n",
            "round 57, metrics=OrderedDict([('distributor', ()), ('client_work', OrderedDict([('train', OrderedDict([('sparse_categorical_accuracy', 0.333), ('loss', 2.7576692), ('num_examples', 5000), ('num_batches', 100)]))])), ('aggregator', OrderedDict([('mean_value', ()), ('mean_weight', ())])), ('finalizer', OrderedDict([('update_non_finite', 0)]))])\n",
            "round 58, metrics=OrderedDict([('distributor', ()), ('client_work', OrderedDict([('train', OrderedDict([('sparse_categorical_accuracy', 0.3512), ('loss', 2.6889575), ('num_examples', 5000), ('num_batches', 100)]))])), ('aggregator', OrderedDict([('mean_value', ()), ('mean_weight', ())])), ('finalizer', OrderedDict([('update_non_finite', 0)]))])\n",
            "round 59, metrics=OrderedDict([('distributor', ()), ('client_work', OrderedDict([('train', OrderedDict([('sparse_categorical_accuracy', 0.3518), ('loss', 2.6675072), ('num_examples', 5000), ('num_batches', 100)]))])), ('aggregator', OrderedDict([('mean_value', ()), ('mean_weight', ())])), ('finalizer', OrderedDict([('update_non_finite', 0)]))])\n",
            "round 60, metrics=OrderedDict([('distributor', ()), ('client_work', OrderedDict([('train', OrderedDict([('sparse_categorical_accuracy', 0.3668), ('loss', 2.6042304), ('num_examples', 5000), ('num_batches', 100)]))])), ('aggregator', OrderedDict([('mean_value', ()), ('mean_weight', ())])), ('finalizer', OrderedDict([('update_non_finite', 0)]))])\n",
            "round 61, metrics=OrderedDict([('distributor', ()), ('client_work', OrderedDict([('train', OrderedDict([('sparse_categorical_accuracy', 0.3674), ('loss', 2.6051893), ('num_examples', 5000), ('num_batches', 100)]))])), ('aggregator', OrderedDict([('mean_value', ()), ('mean_weight', ())])), ('finalizer', OrderedDict([('update_non_finite', 0)]))])\n",
            "round 62, metrics=OrderedDict([('distributor', ()), ('client_work', OrderedDict([('train', OrderedDict([('sparse_categorical_accuracy', 0.3808), ('loss', 2.5354495), ('num_examples', 5000), ('num_batches', 100)]))])), ('aggregator', OrderedDict([('mean_value', ()), ('mean_weight', ())])), ('finalizer', OrderedDict([('update_non_finite', 0)]))])\n",
            "round 63, metrics=OrderedDict([('distributor', ()), ('client_work', OrderedDict([('train', OrderedDict([('sparse_categorical_accuracy', 0.387), ('loss', 2.507043), ('num_examples', 5000), ('num_batches', 100)]))])), ('aggregator', OrderedDict([('mean_value', ()), ('mean_weight', ())])), ('finalizer', OrderedDict([('update_non_finite', 0)]))])\n",
            "round 64, metrics=OrderedDict([('distributor', ()), ('client_work', OrderedDict([('train', OrderedDict([('sparse_categorical_accuracy', 0.404), ('loss', 2.4469106), ('num_examples', 5000), ('num_batches', 100)]))])), ('aggregator', OrderedDict([('mean_value', ()), ('mean_weight', ())])), ('finalizer', OrderedDict([('update_non_finite', 0)]))])\n",
            "round 65, metrics=OrderedDict([('distributor', ()), ('client_work', OrderedDict([('train', OrderedDict([('sparse_categorical_accuracy', 0.4082), ('loss', 2.390942), ('num_examples', 5000), ('num_batches', 100)]))])), ('aggregator', OrderedDict([('mean_value', ()), ('mean_weight', ())])), ('finalizer', OrderedDict([('update_non_finite', 0)]))])\n",
            "round 66, metrics=OrderedDict([('distributor', ()), ('client_work', OrderedDict([('train', OrderedDict([('sparse_categorical_accuracy', 0.4152), ('loss', 2.358901), ('num_examples', 5000), ('num_batches', 100)]))])), ('aggregator', OrderedDict([('mean_value', ()), ('mean_weight', ())])), ('finalizer', OrderedDict([('update_non_finite', 0)]))])\n",
            "round 67, metrics=OrderedDict([('distributor', ()), ('client_work', OrderedDict([('train', OrderedDict([('sparse_categorical_accuracy', 0.422), ('loss', 2.332386), ('num_examples', 5000), ('num_batches', 100)]))])), ('aggregator', OrderedDict([('mean_value', ()), ('mean_weight', ())])), ('finalizer', OrderedDict([('update_non_finite', 0)]))])\n",
            "round 68, metrics=OrderedDict([('distributor', ()), ('client_work', OrderedDict([('train', OrderedDict([('sparse_categorical_accuracy', 0.4316), ('loss', 2.292546), ('num_examples', 5000), ('num_batches', 100)]))])), ('aggregator', OrderedDict([('mean_value', ()), ('mean_weight', ())])), ('finalizer', OrderedDict([('update_non_finite', 0)]))])\n",
            "round 69, metrics=OrderedDict([('distributor', ()), ('client_work', OrderedDict([('train', OrderedDict([('sparse_categorical_accuracy', 0.4354), ('loss', 2.2700262), ('num_examples', 5000), ('num_batches', 100)]))])), ('aggregator', OrderedDict([('mean_value', ()), ('mean_weight', ())])), ('finalizer', OrderedDict([('update_non_finite', 0)]))])\n",
            "round 70, metrics=OrderedDict([('distributor', ()), ('client_work', OrderedDict([('train', OrderedDict([('sparse_categorical_accuracy', 0.4346), ('loss', 2.2379081), ('num_examples', 5000), ('num_batches', 100)]))])), ('aggregator', OrderedDict([('mean_value', ()), ('mean_weight', ())])), ('finalizer', OrderedDict([('update_non_finite', 0)]))])\n",
            "round 71, metrics=OrderedDict([('distributor', ()), ('client_work', OrderedDict([('train', OrderedDict([('sparse_categorical_accuracy', 0.451), ('loss', 2.194445), ('num_examples', 5000), ('num_batches', 100)]))])), ('aggregator', OrderedDict([('mean_value', ()), ('mean_weight', ())])), ('finalizer', OrderedDict([('update_non_finite', 0)]))])\n",
            "round 72, metrics=OrderedDict([('distributor', ()), ('client_work', OrderedDict([('train', OrderedDict([('sparse_categorical_accuracy', 0.4564), ('loss', 2.1758406), ('num_examples', 5000), ('num_batches', 100)]))])), ('aggregator', OrderedDict([('mean_value', ()), ('mean_weight', ())])), ('finalizer', OrderedDict([('update_non_finite', 0)]))])\n",
            "round 73, metrics=OrderedDict([('distributor', ()), ('client_work', OrderedDict([('train', OrderedDict([('sparse_categorical_accuracy', 0.469), ('loss', 2.1316724), ('num_examples', 5000), ('num_batches', 100)]))])), ('aggregator', OrderedDict([('mean_value', ()), ('mean_weight', ())])), ('finalizer', OrderedDict([('update_non_finite', 0)]))])\n",
            "round 74, metrics=OrderedDict([('distributor', ()), ('client_work', OrderedDict([('train', OrderedDict([('sparse_categorical_accuracy', 0.4776), ('loss', 2.0681958), ('num_examples', 5000), ('num_batches', 100)]))])), ('aggregator', OrderedDict([('mean_value', ()), ('mean_weight', ())])), ('finalizer', OrderedDict([('update_non_finite', 0)]))])\n",
            "round 75, metrics=OrderedDict([('distributor', ()), ('client_work', OrderedDict([('train', OrderedDict([('sparse_categorical_accuracy', 0.4814), ('loss', 2.0455203), ('num_examples', 5000), ('num_batches', 100)]))])), ('aggregator', OrderedDict([('mean_value', ()), ('mean_weight', ())])), ('finalizer', OrderedDict([('update_non_finite', 0)]))])\n",
            "round 76, metrics=OrderedDict([('distributor', ()), ('client_work', OrderedDict([('train', OrderedDict([('sparse_categorical_accuracy', 0.4882), ('loss', 2.0307157), ('num_examples', 5000), ('num_batches', 100)]))])), ('aggregator', OrderedDict([('mean_value', ()), ('mean_weight', ())])), ('finalizer', OrderedDict([('update_non_finite', 0)]))])\n",
            "round 77, metrics=OrderedDict([('distributor', ()), ('client_work', OrderedDict([('train', OrderedDict([('sparse_categorical_accuracy', 0.5032), ('loss', 1.9901049), ('num_examples', 5000), ('num_batches', 100)]))])), ('aggregator', OrderedDict([('mean_value', ()), ('mean_weight', ())])), ('finalizer', OrderedDict([('update_non_finite', 0)]))])\n",
            "round 78, metrics=OrderedDict([('distributor', ()), ('client_work', OrderedDict([('train', OrderedDict([('sparse_categorical_accuracy', 0.495), ('loss', 2.0210226), ('num_examples', 5000), ('num_batches', 100)]))])), ('aggregator', OrderedDict([('mean_value', ()), ('mean_weight', ())])), ('finalizer', OrderedDict([('update_non_finite', 0)]))])\n",
            "round 79, metrics=OrderedDict([('distributor', ()), ('client_work', OrderedDict([('train', OrderedDict([('sparse_categorical_accuracy', 0.5168), ('loss', 1.9260795), ('num_examples', 5000), ('num_batches', 100)]))])), ('aggregator', OrderedDict([('mean_value', ()), ('mean_weight', ())])), ('finalizer', OrderedDict([('update_non_finite', 0)]))])\n",
            "round 80, metrics=OrderedDict([('distributor', ()), ('client_work', OrderedDict([('train', OrderedDict([('sparse_categorical_accuracy', 0.5268), ('loss', 1.8961818), ('num_examples', 5000), ('num_batches', 100)]))])), ('aggregator', OrderedDict([('mean_value', ()), ('mean_weight', ())])), ('finalizer', OrderedDict([('update_non_finite', 0)]))])\n",
            "round 81, metrics=OrderedDict([('distributor', ()), ('client_work', OrderedDict([('train', OrderedDict([('sparse_categorical_accuracy', 0.5272), ('loss', 1.8667231), ('num_examples', 5000), ('num_batches', 100)]))])), ('aggregator', OrderedDict([('mean_value', ()), ('mean_weight', ())])), ('finalizer', OrderedDict([('update_non_finite', 0)]))])\n",
            "round 82, metrics=OrderedDict([('distributor', ()), ('client_work', OrderedDict([('train', OrderedDict([('sparse_categorical_accuracy', 0.5368), ('loss', 1.8586851), ('num_examples', 5000), ('num_batches', 100)]))])), ('aggregator', OrderedDict([('mean_value', ()), ('mean_weight', ())])), ('finalizer', OrderedDict([('update_non_finite', 0)]))])\n",
            "round 83, metrics=OrderedDict([('distributor', ()), ('client_work', OrderedDict([('train', OrderedDict([('sparse_categorical_accuracy', 0.5574), ('loss', 1.7446766), ('num_examples', 5000), ('num_batches', 100)]))])), ('aggregator', OrderedDict([('mean_value', ()), ('mean_weight', ())])), ('finalizer', OrderedDict([('update_non_finite', 0)]))])\n",
            "round 84, metrics=OrderedDict([('distributor', ()), ('client_work', OrderedDict([('train', OrderedDict([('sparse_categorical_accuracy', 0.5614), ('loss', 1.7564207), ('num_examples', 5000), ('num_batches', 100)]))])), ('aggregator', OrderedDict([('mean_value', ()), ('mean_weight', ())])), ('finalizer', OrderedDict([('update_non_finite', 0)]))])\n",
            "round 85, metrics=OrderedDict([('distributor', ()), ('client_work', OrderedDict([('train', OrderedDict([('sparse_categorical_accuracy', 0.561), ('loss', 1.7451402), ('num_examples', 5000), ('num_batches', 100)]))])), ('aggregator', OrderedDict([('mean_value', ()), ('mean_weight', ())])), ('finalizer', OrderedDict([('update_non_finite', 0)]))])\n",
            "round 86, metrics=OrderedDict([('distributor', ()), ('client_work', OrderedDict([('train', OrderedDict([('sparse_categorical_accuracy', 0.5688), ('loss', 1.702611), ('num_examples', 5000), ('num_batches', 100)]))])), ('aggregator', OrderedDict([('mean_value', ()), ('mean_weight', ())])), ('finalizer', OrderedDict([('update_non_finite', 0)]))])\n",
            "round 87, metrics=OrderedDict([('distributor', ()), ('client_work', OrderedDict([('train', OrderedDict([('sparse_categorical_accuracy', 0.5686), ('loss', 1.7238421), ('num_examples', 5000), ('num_batches', 100)]))])), ('aggregator', OrderedDict([('mean_value', ()), ('mean_weight', ())])), ('finalizer', OrderedDict([('update_non_finite', 0)]))])\n",
            "round 88, metrics=OrderedDict([('distributor', ()), ('client_work', OrderedDict([('train', OrderedDict([('sparse_categorical_accuracy', 0.58), ('loss', 1.6702477), ('num_examples', 5000), ('num_batches', 100)]))])), ('aggregator', OrderedDict([('mean_value', ()), ('mean_weight', ())])), ('finalizer', OrderedDict([('update_non_finite', 0)]))])\n",
            "round 89, metrics=OrderedDict([('distributor', ()), ('client_work', OrderedDict([('train', OrderedDict([('sparse_categorical_accuracy', 0.5796), ('loss', 1.6417487), ('num_examples', 5000), ('num_batches', 100)]))])), ('aggregator', OrderedDict([('mean_value', ()), ('mean_weight', ())])), ('finalizer', OrderedDict([('update_non_finite', 0)]))])\n",
            "round 90, metrics=OrderedDict([('distributor', ()), ('client_work', OrderedDict([('train', OrderedDict([('sparse_categorical_accuracy', 0.5866), ('loss', 1.6469578), ('num_examples', 5000), ('num_batches', 100)]))])), ('aggregator', OrderedDict([('mean_value', ()), ('mean_weight', ())])), ('finalizer', OrderedDict([('update_non_finite', 0)]))])\n",
            "round 91, metrics=OrderedDict([('distributor', ()), ('client_work', OrderedDict([('train', OrderedDict([('sparse_categorical_accuracy', 0.5922), ('loss', 1.5942155), ('num_examples', 5000), ('num_batches', 100)]))])), ('aggregator', OrderedDict([('mean_value', ()), ('mean_weight', ())])), ('finalizer', OrderedDict([('update_non_finite', 0)]))])\n",
            "round 92, metrics=OrderedDict([('distributor', ()), ('client_work', OrderedDict([('train', OrderedDict([('sparse_categorical_accuracy', 0.5998), ('loss', 1.5845367), ('num_examples', 5000), ('num_batches', 100)]))])), ('aggregator', OrderedDict([('mean_value', ()), ('mean_weight', ())])), ('finalizer', OrderedDict([('update_non_finite', 0)]))])\n",
            "round 93, metrics=OrderedDict([('distributor', ()), ('client_work', OrderedDict([('train', OrderedDict([('sparse_categorical_accuracy', 0.6026), ('loss', 1.578627), ('num_examples', 5000), ('num_batches', 100)]))])), ('aggregator', OrderedDict([('mean_value', ()), ('mean_weight', ())])), ('finalizer', OrderedDict([('update_non_finite', 0)]))])\n",
            "round 94, metrics=OrderedDict([('distributor', ()), ('client_work', OrderedDict([('train', OrderedDict([('sparse_categorical_accuracy', 0.6084), ('loss', 1.5709363), ('num_examples', 5000), ('num_batches', 100)]))])), ('aggregator', OrderedDict([('mean_value', ()), ('mean_weight', ())])), ('finalizer', OrderedDict([('update_non_finite', 0)]))])\n",
            "round 95, metrics=OrderedDict([('distributor', ()), ('client_work', OrderedDict([('train', OrderedDict([('sparse_categorical_accuracy', 0.6108), ('loss', 1.5625366), ('num_examples', 5000), ('num_batches', 100)]))])), ('aggregator', OrderedDict([('mean_value', ()), ('mean_weight', ())])), ('finalizer', OrderedDict([('update_non_finite', 0)]))])\n",
            "round 96, metrics=OrderedDict([('distributor', ()), ('client_work', OrderedDict([('train', OrderedDict([('sparse_categorical_accuracy', 0.6092), ('loss', 1.5403944), ('num_examples', 5000), ('num_batches', 100)]))])), ('aggregator', OrderedDict([('mean_value', ()), ('mean_weight', ())])), ('finalizer', OrderedDict([('update_non_finite', 0)]))])\n",
            "round 97, metrics=OrderedDict([('distributor', ()), ('client_work', OrderedDict([('train', OrderedDict([('sparse_categorical_accuracy', 0.6222), ('loss', 1.4785765), ('num_examples', 5000), ('num_batches', 100)]))])), ('aggregator', OrderedDict([('mean_value', ()), ('mean_weight', ())])), ('finalizer', OrderedDict([('update_non_finite', 0)]))])\n",
            "round 98, metrics=OrderedDict([('distributor', ()), ('client_work', OrderedDict([('train', OrderedDict([('sparse_categorical_accuracy', 0.6228), ('loss', 1.5021924), ('num_examples', 5000), ('num_batches', 100)]))])), ('aggregator', OrderedDict([('mean_value', ()), ('mean_weight', ())])), ('finalizer', OrderedDict([('update_non_finite', 0)]))])\n",
            "round 99, metrics=OrderedDict([('distributor', ()), ('client_work', OrderedDict([('train', OrderedDict([('sparse_categorical_accuracy', 0.6276), ('loss', 1.4692608), ('num_examples', 5000), ('num_batches', 100)]))])), ('aggregator', OrderedDict([('mean_value', ()), ('mean_weight', ())])), ('finalizer', OrderedDict([('update_non_finite', 0)]))])\n"
          ]
        }
      ],
      "source": [
        "NUM_ROUNDS = 100\n",
        "for round_num in range(2, NUM_ROUNDS):\n",
        "  result = training_process.next(train_state, federated_train_data)\n",
        "  train_state = result.state\n",
        "  train_metrics = result.metrics\n",
        "  print('round {:2d}, metrics={}'.format(round_num, train_metrics))"
      ]
    },
    {
      "cell_type": "markdown",
      "metadata": {
        "id": "joHYzn9jcs0Y"
      },
      "source": [
        "Training loss is decreasing after each round of federated training, indicating\n",
        "the model is converging. There are some important caveats with these training\n",
        "metrics, however, see the section on *Evaluation* later in this tutorial."
      ]
    },
    {
      "cell_type": "markdown",
      "metadata": {
        "id": "Iswqa2Uj7phq"
      },
      "source": [
        "To see these metrics within TensorBoard, refer to the steps listed above in \"Displaying model metrics in TensorBoard\"."
      ]
    },
    {
      "cell_type": "markdown",
      "metadata": {
        "id": "m7lz59lMJ0kj"
      },
      "source": [
        "## Evaluation\n",
        "\n",
        "All of our experiments so far presented only federated training metrics - the\n",
        "average metrics over all batches of data trained across all clients in the\n",
        "round. This introduces the normal concerns about overfitting, especially since\n",
        "we used the same set of clients on each round for simplicity, but there is an\n",
        "additional notion of overfitting in training metrics specific to the Federated\n",
        "Averaging algorithm. This is easiest to see if we imagine each client had a\n",
        "single batch of data, and we train on that batch for many iterations (epochs).\n",
        "In this case, the local model will quickly exactly fit to that one batch, and so\n",
        "the local accuracy metric we average will approach 1.0. Thus, these training\n",
        "metrics can be taken as a sign that training is progressing, but not much more.\n",
        "\n",
        "To perform evaluation on federated data, you can construct another *federated\n",
        "computation* designed for just this purpose, using the\n",
        "`tff.learning.build_federated_evaluation` function, and passing in your model\n",
        "constructor as an argument. Note that unlike with Federated Averaging, where\n",
        "we've used `MnistTrainableModel`, it suffices to pass the `MnistModel`.\n",
        "Evaluation doesn't perform gradient descent, and there's no need to construct\n",
        "optimizers.\n",
        "\n",
        "For experimentation and research, when a centralized test dataset is available,\n",
        "[Federated Learning for Text Generation](federated_learning_for_text_generation.ipynb)\n",
        "demonstrates another evaluation option: taking the trained weights from\n",
        "federated learning, applying them to a standard Keras model, and then simply\n",
        "calling `tf.keras.models.Model.evaluate()` on a centralized dataset."
      ]
    },
    {
      "cell_type": "code",
      "execution_count": 18,
      "metadata": {
        "id": "nRiXyqnXM2VO"
      },
      "outputs": [
        {
          "name": "stderr",
          "output_type": "stream",
          "text": [
            "2024-07-22 10:21:01.282661: I tensorflow/core/grappler/devices.cc:66] Number of eligible GPUs (core count >= 8, compute capability >= 0.0): 0\n",
            "2024-07-22 10:21:01.282787: I tensorflow/core/grappler/clusters/single_machine.cc:361] Starting new session\n",
            "2024-07-22 10:21:01.300751: I tensorflow/core/grappler/devices.cc:66] Number of eligible GPUs (core count >= 8, compute capability >= 0.0): 0\n",
            "2024-07-22 10:21:01.300827: I tensorflow/core/grappler/clusters/single_machine.cc:361] Starting new session\n",
            "2024-07-22 10:21:01.501860: I tensorflow/core/grappler/devices.cc:66] Number of eligible GPUs (core count >= 8, compute capability >= 0.0): 0\n",
            "2024-07-22 10:21:01.501988: I tensorflow/core/grappler/clusters/single_machine.cc:361] Starting new session\n",
            "2024-07-22 10:21:01.561492: I tensorflow/core/grappler/devices.cc:66] Number of eligible GPUs (core count >= 8, compute capability >= 0.0): 0\n",
            "2024-07-22 10:21:01.561686: I tensorflow/core/grappler/clusters/single_machine.cc:361] Starting new session\n",
            "2024-07-22 10:21:01.567456: I tensorflow/core/grappler/devices.cc:66] Number of eligible GPUs (core count >= 8, compute capability >= 0.0): 0\n",
            "2024-07-22 10:21:01.567571: I tensorflow/core/grappler/clusters/single_machine.cc:361] Starting new session\n",
            "2024-07-22 10:21:01.575994: I tensorflow/core/grappler/devices.cc:66] Number of eligible GPUs (core count >= 8, compute capability >= 0.0): 0\n",
            "2024-07-22 10:21:01.576108: I tensorflow/core/grappler/clusters/single_machine.cc:361] Starting new session\n",
            "2024-07-22 10:21:01.585077: I tensorflow/core/grappler/devices.cc:66] Number of eligible GPUs (core count >= 8, compute capability >= 0.0): 0\n",
            "2024-07-22 10:21:01.585223: I tensorflow/core/grappler/clusters/single_machine.cc:361] Starting new session\n",
            "2024-07-22 10:21:01.594674: I tensorflow/core/grappler/devices.cc:66] Number of eligible GPUs (core count >= 8, compute capability >= 0.0): 0\n",
            "2024-07-22 10:21:01.594778: I tensorflow/core/grappler/clusters/single_machine.cc:361] Starting new session\n",
            "2024-07-22 10:21:01.608454: I tensorflow/core/grappler/devices.cc:66] Number of eligible GPUs (core count >= 8, compute capability >= 0.0): 0\n",
            "2024-07-22 10:21:01.608561: I tensorflow/core/grappler/clusters/single_machine.cc:361] Starting new session\n"
          ]
        },
        {
          "name": "stdout",
          "output_type": "stream",
          "text": [
            "round  1, metrics=OrderedDict([('distributor', ()), ('client_work', OrderedDict([('eval', OrderedDict([('current_round_metrics', OrderedDict([('sparse_categorical_accuracy', 0.0), ('loss', 9.898775), ('num_examples', 500), ('num_batches', 10)])), ('total_rounds_metrics', OrderedDict([('sparse_categorical_accuracy', 0.0), ('loss', 9.898775), ('num_examples', 500), ('num_batches', 10)]))]))])), ('aggregator', OrderedDict([('mean_value', ()), ('mean_weight', ())])), ('finalizer', ())])\n",
            "round  2, metrics=OrderedDict([('distributor', ()), ('client_work', OrderedDict([('eval', OrderedDict([('current_round_metrics', OrderedDict([('sparse_categorical_accuracy', 0.0), ('loss', 9.898775), ('num_examples', 500), ('num_batches', 10)])), ('total_rounds_metrics', OrderedDict([('sparse_categorical_accuracy', 0.0), ('loss', 9.898775), ('num_examples', 500), ('num_batches', 10)]))]))])), ('aggregator', OrderedDict([('mean_value', ()), ('mean_weight', ())])), ('finalizer', ())])\n",
            "round  3, metrics=OrderedDict([('distributor', ()), ('client_work', OrderedDict([('eval', OrderedDict([('current_round_metrics', OrderedDict([('sparse_categorical_accuracy', 0.0), ('loss', 9.898775), ('num_examples', 500), ('num_batches', 10)])), ('total_rounds_metrics', OrderedDict([('sparse_categorical_accuracy', 0.0), ('loss', 9.898775), ('num_examples', 500), ('num_batches', 10)]))]))])), ('aggregator', OrderedDict([('mean_value', ()), ('mean_weight', ())])), ('finalizer', ())])\n",
            "round  4, metrics=OrderedDict([('distributor', ()), ('client_work', OrderedDict([('eval', OrderedDict([('current_round_metrics', OrderedDict([('sparse_categorical_accuracy', 0.0), ('loss', 9.898775), ('num_examples', 500), ('num_batches', 10)])), ('total_rounds_metrics', OrderedDict([('sparse_categorical_accuracy', 0.0), ('loss', 9.898775), ('num_examples', 500), ('num_batches', 10)]))]))])), ('aggregator', OrderedDict([('mean_value', ()), ('mean_weight', ())])), ('finalizer', ())])\n",
            "round  5, metrics=OrderedDict([('distributor', ()), ('client_work', OrderedDict([('eval', OrderedDict([('current_round_metrics', OrderedDict([('sparse_categorical_accuracy', 0.0), ('loss', 9.898775), ('num_examples', 500), ('num_batches', 10)])), ('total_rounds_metrics', OrderedDict([('sparse_categorical_accuracy', 0.0), ('loss', 9.898775), ('num_examples', 500), ('num_batches', 10)]))]))])), ('aggregator', OrderedDict([('mean_value', ()), ('mean_weight', ())])), ('finalizer', ())])\n",
            "round  6, metrics=OrderedDict([('distributor', ()), ('client_work', OrderedDict([('eval', OrderedDict([('current_round_metrics', OrderedDict([('sparse_categorical_accuracy', 0.0), ('loss', 9.898775), ('num_examples', 500), ('num_batches', 10)])), ('total_rounds_metrics', OrderedDict([('sparse_categorical_accuracy', 0.0), ('loss', 9.898775), ('num_examples', 500), ('num_batches', 10)]))]))])), ('aggregator', OrderedDict([('mean_value', ()), ('mean_weight', ())])), ('finalizer', ())])\n",
            "round  7, metrics=OrderedDict([('distributor', ()), ('client_work', OrderedDict([('eval', OrderedDict([('current_round_metrics', OrderedDict([('sparse_categorical_accuracy', 0.0), ('loss', 9.898775), ('num_examples', 500), ('num_batches', 10)])), ('total_rounds_metrics', OrderedDict([('sparse_categorical_accuracy', 0.0), ('loss', 9.898775), ('num_examples', 500), ('num_batches', 10)]))]))])), ('aggregator', OrderedDict([('mean_value', ()), ('mean_weight', ())])), ('finalizer', ())])\n",
            "round  8, metrics=OrderedDict([('distributor', ()), ('client_work', OrderedDict([('eval', OrderedDict([('current_round_metrics', OrderedDict([('sparse_categorical_accuracy', 0.0), ('loss', 9.898775), ('num_examples', 500), ('num_batches', 10)])), ('total_rounds_metrics', OrderedDict([('sparse_categorical_accuracy', 0.0), ('loss', 9.898775), ('num_examples', 500), ('num_batches', 10)]))]))])), ('aggregator', OrderedDict([('mean_value', ()), ('mean_weight', ())])), ('finalizer', ())])\n",
            "round  9, metrics=OrderedDict([('distributor', ()), ('client_work', OrderedDict([('eval', OrderedDict([('current_round_metrics', OrderedDict([('sparse_categorical_accuracy', 0.0), ('loss', 9.898775), ('num_examples', 500), ('num_batches', 10)])), ('total_rounds_metrics', OrderedDict([('sparse_categorical_accuracy', 0.0), ('loss', 9.898775), ('num_examples', 500), ('num_batches', 10)]))]))])), ('aggregator', OrderedDict([('mean_value', ()), ('mean_weight', ())])), ('finalizer', ())])\n",
            "round 10, metrics=OrderedDict([('distributor', ()), ('client_work', OrderedDict([('eval', OrderedDict([('current_round_metrics', OrderedDict([('sparse_categorical_accuracy', 0.0), ('loss', 9.898775), ('num_examples', 500), ('num_batches', 10)])), ('total_rounds_metrics', OrderedDict([('sparse_categorical_accuracy', 0.0), ('loss', 9.898775), ('num_examples', 500), ('num_batches', 10)]))]))])), ('aggregator', OrderedDict([('mean_value', ()), ('mean_weight', ())])), ('finalizer', ())])\n",
            "round 11, metrics=OrderedDict([('distributor', ()), ('client_work', OrderedDict([('eval', OrderedDict([('current_round_metrics', OrderedDict([('sparse_categorical_accuracy', 0.0), ('loss', 9.898775), ('num_examples', 500), ('num_batches', 10)])), ('total_rounds_metrics', OrderedDict([('sparse_categorical_accuracy', 0.0), ('loss', 9.898775), ('num_examples', 500), ('num_batches', 10)]))]))])), ('aggregator', OrderedDict([('mean_value', ()), ('mean_weight', ())])), ('finalizer', ())])\n",
            "round 12, metrics=OrderedDict([('distributor', ()), ('client_work', OrderedDict([('eval', OrderedDict([('current_round_metrics', OrderedDict([('sparse_categorical_accuracy', 0.0), ('loss', 9.898775), ('num_examples', 500), ('num_batches', 10)])), ('total_rounds_metrics', OrderedDict([('sparse_categorical_accuracy', 0.0), ('loss', 9.898775), ('num_examples', 500), ('num_batches', 10)]))]))])), ('aggregator', OrderedDict([('mean_value', ()), ('mean_weight', ())])), ('finalizer', ())])\n",
            "round 13, metrics=OrderedDict([('distributor', ()), ('client_work', OrderedDict([('eval', OrderedDict([('current_round_metrics', OrderedDict([('sparse_categorical_accuracy', 0.0), ('loss', 9.898775), ('num_examples', 500), ('num_batches', 10)])), ('total_rounds_metrics', OrderedDict([('sparse_categorical_accuracy', 0.0), ('loss', 9.898775), ('num_examples', 500), ('num_batches', 10)]))]))])), ('aggregator', OrderedDict([('mean_value', ()), ('mean_weight', ())])), ('finalizer', ())])\n",
            "round 14, metrics=OrderedDict([('distributor', ()), ('client_work', OrderedDict([('eval', OrderedDict([('current_round_metrics', OrderedDict([('sparse_categorical_accuracy', 0.0), ('loss', 9.898775), ('num_examples', 500), ('num_batches', 10)])), ('total_rounds_metrics', OrderedDict([('sparse_categorical_accuracy', 0.0), ('loss', 9.898775), ('num_examples', 500), ('num_batches', 10)]))]))])), ('aggregator', OrderedDict([('mean_value', ()), ('mean_weight', ())])), ('finalizer', ())])\n",
            "round 15, metrics=OrderedDict([('distributor', ()), ('client_work', OrderedDict([('eval', OrderedDict([('current_round_metrics', OrderedDict([('sparse_categorical_accuracy', 0.0), ('loss', 9.898775), ('num_examples', 500), ('num_batches', 10)])), ('total_rounds_metrics', OrderedDict([('sparse_categorical_accuracy', 0.0), ('loss', 9.898775), ('num_examples', 500), ('num_batches', 10)]))]))])), ('aggregator', OrderedDict([('mean_value', ()), ('mean_weight', ())])), ('finalizer', ())])\n",
            "round 16, metrics=OrderedDict([('distributor', ()), ('client_work', OrderedDict([('eval', OrderedDict([('current_round_metrics', OrderedDict([('sparse_categorical_accuracy', 0.0), ('loss', 9.898775), ('num_examples', 500), ('num_batches', 10)])), ('total_rounds_metrics', OrderedDict([('sparse_categorical_accuracy', 0.0), ('loss', 9.898775), ('num_examples', 500), ('num_batches', 10)]))]))])), ('aggregator', OrderedDict([('mean_value', ()), ('mean_weight', ())])), ('finalizer', ())])\n",
            "round 17, metrics=OrderedDict([('distributor', ()), ('client_work', OrderedDict([('eval', OrderedDict([('current_round_metrics', OrderedDict([('sparse_categorical_accuracy', 0.0), ('loss', 9.898775), ('num_examples', 500), ('num_batches', 10)])), ('total_rounds_metrics', OrderedDict([('sparse_categorical_accuracy', 0.0), ('loss', 9.898775), ('num_examples', 500), ('num_batches', 10)]))]))])), ('aggregator', OrderedDict([('mean_value', ()), ('mean_weight', ())])), ('finalizer', ())])\n",
            "round 18, metrics=OrderedDict([('distributor', ()), ('client_work', OrderedDict([('eval', OrderedDict([('current_round_metrics', OrderedDict([('sparse_categorical_accuracy', 0.0), ('loss', 9.898775), ('num_examples', 500), ('num_batches', 10)])), ('total_rounds_metrics', OrderedDict([('sparse_categorical_accuracy', 0.0), ('loss', 9.898775), ('num_examples', 500), ('num_batches', 10)]))]))])), ('aggregator', OrderedDict([('mean_value', ()), ('mean_weight', ())])), ('finalizer', ())])\n",
            "round 19, metrics=OrderedDict([('distributor', ()), ('client_work', OrderedDict([('eval', OrderedDict([('current_round_metrics', OrderedDict([('sparse_categorical_accuracy', 0.0), ('loss', 9.898775), ('num_examples', 500), ('num_batches', 10)])), ('total_rounds_metrics', OrderedDict([('sparse_categorical_accuracy', 0.0), ('loss', 9.898775), ('num_examples', 500), ('num_batches', 10)]))]))])), ('aggregator', OrderedDict([('mean_value', ()), ('mean_weight', ())])), ('finalizer', ())])\n",
            "round 20, metrics=OrderedDict([('distributor', ()), ('client_work', OrderedDict([('eval', OrderedDict([('current_round_metrics', OrderedDict([('sparse_categorical_accuracy', 0.0), ('loss', 9.898775), ('num_examples', 500), ('num_batches', 10)])), ('total_rounds_metrics', OrderedDict([('sparse_categorical_accuracy', 0.0), ('loss', 9.898775), ('num_examples', 500), ('num_batches', 10)]))]))])), ('aggregator', OrderedDict([('mean_value', ()), ('mean_weight', ())])), ('finalizer', ())])\n",
            "round 21, metrics=OrderedDict([('distributor', ()), ('client_work', OrderedDict([('eval', OrderedDict([('current_round_metrics', OrderedDict([('sparse_categorical_accuracy', 0.0), ('loss', 9.898775), ('num_examples', 500), ('num_batches', 10)])), ('total_rounds_metrics', OrderedDict([('sparse_categorical_accuracy', 0.0), ('loss', 9.898775), ('num_examples', 500), ('num_batches', 10)]))]))])), ('aggregator', OrderedDict([('mean_value', ()), ('mean_weight', ())])), ('finalizer', ())])\n",
            "round 22, metrics=OrderedDict([('distributor', ()), ('client_work', OrderedDict([('eval', OrderedDict([('current_round_metrics', OrderedDict([('sparse_categorical_accuracy', 0.0), ('loss', 9.898775), ('num_examples', 500), ('num_batches', 10)])), ('total_rounds_metrics', OrderedDict([('sparse_categorical_accuracy', 0.0), ('loss', 9.898775), ('num_examples', 500), ('num_batches', 10)]))]))])), ('aggregator', OrderedDict([('mean_value', ()), ('mean_weight', ())])), ('finalizer', ())])\n",
            "round 23, metrics=OrderedDict([('distributor', ()), ('client_work', OrderedDict([('eval', OrderedDict([('current_round_metrics', OrderedDict([('sparse_categorical_accuracy', 0.0), ('loss', 9.898775), ('num_examples', 500), ('num_batches', 10)])), ('total_rounds_metrics', OrderedDict([('sparse_categorical_accuracy', 0.0), ('loss', 9.898775), ('num_examples', 500), ('num_batches', 10)]))]))])), ('aggregator', OrderedDict([('mean_value', ()), ('mean_weight', ())])), ('finalizer', ())])\n",
            "round 24, metrics=OrderedDict([('distributor', ()), ('client_work', OrderedDict([('eval', OrderedDict([('current_round_metrics', OrderedDict([('sparse_categorical_accuracy', 0.0), ('loss', 9.898775), ('num_examples', 500), ('num_batches', 10)])), ('total_rounds_metrics', OrderedDict([('sparse_categorical_accuracy', 0.0), ('loss', 9.898775), ('num_examples', 500), ('num_batches', 10)]))]))])), ('aggregator', OrderedDict([('mean_value', ()), ('mean_weight', ())])), ('finalizer', ())])\n",
            "round 25, metrics=OrderedDict([('distributor', ()), ('client_work', OrderedDict([('eval', OrderedDict([('current_round_metrics', OrderedDict([('sparse_categorical_accuracy', 0.0), ('loss', 9.898775), ('num_examples', 500), ('num_batches', 10)])), ('total_rounds_metrics', OrderedDict([('sparse_categorical_accuracy', 0.0), ('loss', 9.898775), ('num_examples', 500), ('num_batches', 10)]))]))])), ('aggregator', OrderedDict([('mean_value', ()), ('mean_weight', ())])), ('finalizer', ())])\n",
            "round 26, metrics=OrderedDict([('distributor', ()), ('client_work', OrderedDict([('eval', OrderedDict([('current_round_metrics', OrderedDict([('sparse_categorical_accuracy', 0.0), ('loss', 9.898775), ('num_examples', 500), ('num_batches', 10)])), ('total_rounds_metrics', OrderedDict([('sparse_categorical_accuracy', 0.0), ('loss', 9.898775), ('num_examples', 500), ('num_batches', 10)]))]))])), ('aggregator', OrderedDict([('mean_value', ()), ('mean_weight', ())])), ('finalizer', ())])\n",
            "round 27, metrics=OrderedDict([('distributor', ()), ('client_work', OrderedDict([('eval', OrderedDict([('current_round_metrics', OrderedDict([('sparse_categorical_accuracy', 0.0), ('loss', 9.898775), ('num_examples', 500), ('num_batches', 10)])), ('total_rounds_metrics', OrderedDict([('sparse_categorical_accuracy', 0.0), ('loss', 9.898775), ('num_examples', 500), ('num_batches', 10)]))]))])), ('aggregator', OrderedDict([('mean_value', ()), ('mean_weight', ())])), ('finalizer', ())])\n",
            "round 28, metrics=OrderedDict([('distributor', ()), ('client_work', OrderedDict([('eval', OrderedDict([('current_round_metrics', OrderedDict([('sparse_categorical_accuracy', 0.0), ('loss', 9.898775), ('num_examples', 500), ('num_batches', 10)])), ('total_rounds_metrics', OrderedDict([('sparse_categorical_accuracy', 0.0), ('loss', 9.898775), ('num_examples', 500), ('num_batches', 10)]))]))])), ('aggregator', OrderedDict([('mean_value', ()), ('mean_weight', ())])), ('finalizer', ())])\n",
            "round 29, metrics=OrderedDict([('distributor', ()), ('client_work', OrderedDict([('eval', OrderedDict([('current_round_metrics', OrderedDict([('sparse_categorical_accuracy', 0.0), ('loss', 9.898775), ('num_examples', 500), ('num_batches', 10)])), ('total_rounds_metrics', OrderedDict([('sparse_categorical_accuracy', 0.0), ('loss', 9.898775), ('num_examples', 500), ('num_batches', 10)]))]))])), ('aggregator', OrderedDict([('mean_value', ()), ('mean_weight', ())])), ('finalizer', ())])\n",
            "round 30, metrics=OrderedDict([('distributor', ()), ('client_work', OrderedDict([('eval', OrderedDict([('current_round_metrics', OrderedDict([('sparse_categorical_accuracy', 0.0), ('loss', 9.898775), ('num_examples', 500), ('num_batches', 10)])), ('total_rounds_metrics', OrderedDict([('sparse_categorical_accuracy', 0.0), ('loss', 9.898775), ('num_examples', 500), ('num_batches', 10)]))]))])), ('aggregator', OrderedDict([('mean_value', ()), ('mean_weight', ())])), ('finalizer', ())])\n",
            "round 31, metrics=OrderedDict([('distributor', ()), ('client_work', OrderedDict([('eval', OrderedDict([('current_round_metrics', OrderedDict([('sparse_categorical_accuracy', 0.0), ('loss', 9.898775), ('num_examples', 500), ('num_batches', 10)])), ('total_rounds_metrics', OrderedDict([('sparse_categorical_accuracy', 0.0), ('loss', 9.898775), ('num_examples', 500), ('num_batches', 10)]))]))])), ('aggregator', OrderedDict([('mean_value', ()), ('mean_weight', ())])), ('finalizer', ())])\n",
            "round 32, metrics=OrderedDict([('distributor', ()), ('client_work', OrderedDict([('eval', OrderedDict([('current_round_metrics', OrderedDict([('sparse_categorical_accuracy', 0.0), ('loss', 9.898775), ('num_examples', 500), ('num_batches', 10)])), ('total_rounds_metrics', OrderedDict([('sparse_categorical_accuracy', 0.0), ('loss', 9.898775), ('num_examples', 500), ('num_batches', 10)]))]))])), ('aggregator', OrderedDict([('mean_value', ()), ('mean_weight', ())])), ('finalizer', ())])\n",
            "round 33, metrics=OrderedDict([('distributor', ()), ('client_work', OrderedDict([('eval', OrderedDict([('current_round_metrics', OrderedDict([('sparse_categorical_accuracy', 0.0), ('loss', 9.898775), ('num_examples', 500), ('num_batches', 10)])), ('total_rounds_metrics', OrderedDict([('sparse_categorical_accuracy', 0.0), ('loss', 9.898775), ('num_examples', 500), ('num_batches', 10)]))]))])), ('aggregator', OrderedDict([('mean_value', ()), ('mean_weight', ())])), ('finalizer', ())])\n",
            "round 34, metrics=OrderedDict([('distributor', ()), ('client_work', OrderedDict([('eval', OrderedDict([('current_round_metrics', OrderedDict([('sparse_categorical_accuracy', 0.0), ('loss', 9.898775), ('num_examples', 500), ('num_batches', 10)])), ('total_rounds_metrics', OrderedDict([('sparse_categorical_accuracy', 0.0), ('loss', 9.898775), ('num_examples', 500), ('num_batches', 10)]))]))])), ('aggregator', OrderedDict([('mean_value', ()), ('mean_weight', ())])), ('finalizer', ())])\n",
            "round 35, metrics=OrderedDict([('distributor', ()), ('client_work', OrderedDict([('eval', OrderedDict([('current_round_metrics', OrderedDict([('sparse_categorical_accuracy', 0.0), ('loss', 9.898775), ('num_examples', 500), ('num_batches', 10)])), ('total_rounds_metrics', OrderedDict([('sparse_categorical_accuracy', 0.0), ('loss', 9.898775), ('num_examples', 500), ('num_batches', 10)]))]))])), ('aggregator', OrderedDict([('mean_value', ()), ('mean_weight', ())])), ('finalizer', ())])\n",
            "round 36, metrics=OrderedDict([('distributor', ()), ('client_work', OrderedDict([('eval', OrderedDict([('current_round_metrics', OrderedDict([('sparse_categorical_accuracy', 0.0), ('loss', 9.898775), ('num_examples', 500), ('num_batches', 10)])), ('total_rounds_metrics', OrderedDict([('sparse_categorical_accuracy', 0.0), ('loss', 9.898775), ('num_examples', 500), ('num_batches', 10)]))]))])), ('aggregator', OrderedDict([('mean_value', ()), ('mean_weight', ())])), ('finalizer', ())])\n",
            "round 37, metrics=OrderedDict([('distributor', ()), ('client_work', OrderedDict([('eval', OrderedDict([('current_round_metrics', OrderedDict([('sparse_categorical_accuracy', 0.0), ('loss', 9.898775), ('num_examples', 500), ('num_batches', 10)])), ('total_rounds_metrics', OrderedDict([('sparse_categorical_accuracy', 0.0), ('loss', 9.898775), ('num_examples', 500), ('num_batches', 10)]))]))])), ('aggregator', OrderedDict([('mean_value', ()), ('mean_weight', ())])), ('finalizer', ())])\n",
            "round 38, metrics=OrderedDict([('distributor', ()), ('client_work', OrderedDict([('eval', OrderedDict([('current_round_metrics', OrderedDict([('sparse_categorical_accuracy', 0.0), ('loss', 9.898775), ('num_examples', 500), ('num_batches', 10)])), ('total_rounds_metrics', OrderedDict([('sparse_categorical_accuracy', 0.0), ('loss', 9.898775), ('num_examples', 500), ('num_batches', 10)]))]))])), ('aggregator', OrderedDict([('mean_value', ()), ('mean_weight', ())])), ('finalizer', ())])\n",
            "round 39, metrics=OrderedDict([('distributor', ()), ('client_work', OrderedDict([('eval', OrderedDict([('current_round_metrics', OrderedDict([('sparse_categorical_accuracy', 0.0), ('loss', 9.898775), ('num_examples', 500), ('num_batches', 10)])), ('total_rounds_metrics', OrderedDict([('sparse_categorical_accuracy', 0.0), ('loss', 9.898775), ('num_examples', 500), ('num_batches', 10)]))]))])), ('aggregator', OrderedDict([('mean_value', ()), ('mean_weight', ())])), ('finalizer', ())])\n",
            "round 40, metrics=OrderedDict([('distributor', ()), ('client_work', OrderedDict([('eval', OrderedDict([('current_round_metrics', OrderedDict([('sparse_categorical_accuracy', 0.0), ('loss', 9.898775), ('num_examples', 500), ('num_batches', 10)])), ('total_rounds_metrics', OrderedDict([('sparse_categorical_accuracy', 0.0), ('loss', 9.898775), ('num_examples', 500), ('num_batches', 10)]))]))])), ('aggregator', OrderedDict([('mean_value', ()), ('mean_weight', ())])), ('finalizer', ())])\n",
            "round 41, metrics=OrderedDict([('distributor', ()), ('client_work', OrderedDict([('eval', OrderedDict([('current_round_metrics', OrderedDict([('sparse_categorical_accuracy', 0.0), ('loss', 9.898775), ('num_examples', 500), ('num_batches', 10)])), ('total_rounds_metrics', OrderedDict([('sparse_categorical_accuracy', 0.0), ('loss', 9.898775), ('num_examples', 500), ('num_batches', 10)]))]))])), ('aggregator', OrderedDict([('mean_value', ()), ('mean_weight', ())])), ('finalizer', ())])\n",
            "round 42, metrics=OrderedDict([('distributor', ()), ('client_work', OrderedDict([('eval', OrderedDict([('current_round_metrics', OrderedDict([('sparse_categorical_accuracy', 0.0), ('loss', 9.898775), ('num_examples', 500), ('num_batches', 10)])), ('total_rounds_metrics', OrderedDict([('sparse_categorical_accuracy', 0.0), ('loss', 9.898775), ('num_examples', 500), ('num_batches', 10)]))]))])), ('aggregator', OrderedDict([('mean_value', ()), ('mean_weight', ())])), ('finalizer', ())])\n",
            "round 43, metrics=OrderedDict([('distributor', ()), ('client_work', OrderedDict([('eval', OrderedDict([('current_round_metrics', OrderedDict([('sparse_categorical_accuracy', 0.0), ('loss', 9.898775), ('num_examples', 500), ('num_batches', 10)])), ('total_rounds_metrics', OrderedDict([('sparse_categorical_accuracy', 0.0), ('loss', 9.898775), ('num_examples', 500), ('num_batches', 10)]))]))])), ('aggregator', OrderedDict([('mean_value', ()), ('mean_weight', ())])), ('finalizer', ())])\n",
            "round 44, metrics=OrderedDict([('distributor', ()), ('client_work', OrderedDict([('eval', OrderedDict([('current_round_metrics', OrderedDict([('sparse_categorical_accuracy', 0.0), ('loss', 9.898775), ('num_examples', 500), ('num_batches', 10)])), ('total_rounds_metrics', OrderedDict([('sparse_categorical_accuracy', 0.0), ('loss', 9.898775), ('num_examples', 500), ('num_batches', 10)]))]))])), ('aggregator', OrderedDict([('mean_value', ()), ('mean_weight', ())])), ('finalizer', ())])\n",
            "round 45, metrics=OrderedDict([('distributor', ()), ('client_work', OrderedDict([('eval', OrderedDict([('current_round_metrics', OrderedDict([('sparse_categorical_accuracy', 0.0), ('loss', 9.898775), ('num_examples', 500), ('num_batches', 10)])), ('total_rounds_metrics', OrderedDict([('sparse_categorical_accuracy', 0.0), ('loss', 9.898775), ('num_examples', 500), ('num_batches', 10)]))]))])), ('aggregator', OrderedDict([('mean_value', ()), ('mean_weight', ())])), ('finalizer', ())])\n",
            "round 46, metrics=OrderedDict([('distributor', ()), ('client_work', OrderedDict([('eval', OrderedDict([('current_round_metrics', OrderedDict([('sparse_categorical_accuracy', 0.0), ('loss', 9.898775), ('num_examples', 500), ('num_batches', 10)])), ('total_rounds_metrics', OrderedDict([('sparse_categorical_accuracy', 0.0), ('loss', 9.898775), ('num_examples', 500), ('num_batches', 10)]))]))])), ('aggregator', OrderedDict([('mean_value', ()), ('mean_weight', ())])), ('finalizer', ())])\n",
            "round 47, metrics=OrderedDict([('distributor', ()), ('client_work', OrderedDict([('eval', OrderedDict([('current_round_metrics', OrderedDict([('sparse_categorical_accuracy', 0.0), ('loss', 9.898775), ('num_examples', 500), ('num_batches', 10)])), ('total_rounds_metrics', OrderedDict([('sparse_categorical_accuracy', 0.0), ('loss', 9.898775), ('num_examples', 500), ('num_batches', 10)]))]))])), ('aggregator', OrderedDict([('mean_value', ()), ('mean_weight', ())])), ('finalizer', ())])\n",
            "round 48, metrics=OrderedDict([('distributor', ()), ('client_work', OrderedDict([('eval', OrderedDict([('current_round_metrics', OrderedDict([('sparse_categorical_accuracy', 0.0), ('loss', 9.898775), ('num_examples', 500), ('num_batches', 10)])), ('total_rounds_metrics', OrderedDict([('sparse_categorical_accuracy', 0.0), ('loss', 9.898775), ('num_examples', 500), ('num_batches', 10)]))]))])), ('aggregator', OrderedDict([('mean_value', ()), ('mean_weight', ())])), ('finalizer', ())])\n",
            "round 49, metrics=OrderedDict([('distributor', ()), ('client_work', OrderedDict([('eval', OrderedDict([('current_round_metrics', OrderedDict([('sparse_categorical_accuracy', 0.0), ('loss', 9.898775), ('num_examples', 500), ('num_batches', 10)])), ('total_rounds_metrics', OrderedDict([('sparse_categorical_accuracy', 0.0), ('loss', 9.898775), ('num_examples', 500), ('num_batches', 10)]))]))])), ('aggregator', OrderedDict([('mean_value', ()), ('mean_weight', ())])), ('finalizer', ())])\n",
            "round 50, metrics=OrderedDict([('distributor', ()), ('client_work', OrderedDict([('eval', OrderedDict([('current_round_metrics', OrderedDict([('sparse_categorical_accuracy', 0.0), ('loss', 9.898775), ('num_examples', 500), ('num_batches', 10)])), ('total_rounds_metrics', OrderedDict([('sparse_categorical_accuracy', 0.0), ('loss', 9.898775), ('num_examples', 500), ('num_batches', 10)]))]))])), ('aggregator', OrderedDict([('mean_value', ()), ('mean_weight', ())])), ('finalizer', ())])\n",
            "round 51, metrics=OrderedDict([('distributor', ()), ('client_work', OrderedDict([('eval', OrderedDict([('current_round_metrics', OrderedDict([('sparse_categorical_accuracy', 0.0), ('loss', 9.898775), ('num_examples', 500), ('num_batches', 10)])), ('total_rounds_metrics', OrderedDict([('sparse_categorical_accuracy', 0.0), ('loss', 9.898775), ('num_examples', 500), ('num_batches', 10)]))]))])), ('aggregator', OrderedDict([('mean_value', ()), ('mean_weight', ())])), ('finalizer', ())])\n",
            "round 52, metrics=OrderedDict([('distributor', ()), ('client_work', OrderedDict([('eval', OrderedDict([('current_round_metrics', OrderedDict([('sparse_categorical_accuracy', 0.0), ('loss', 9.898775), ('num_examples', 500), ('num_batches', 10)])), ('total_rounds_metrics', OrderedDict([('sparse_categorical_accuracy', 0.0), ('loss', 9.898775), ('num_examples', 500), ('num_batches', 10)]))]))])), ('aggregator', OrderedDict([('mean_value', ()), ('mean_weight', ())])), ('finalizer', ())])\n",
            "round 53, metrics=OrderedDict([('distributor', ()), ('client_work', OrderedDict([('eval', OrderedDict([('current_round_metrics', OrderedDict([('sparse_categorical_accuracy', 0.0), ('loss', 9.898775), ('num_examples', 500), ('num_batches', 10)])), ('total_rounds_metrics', OrderedDict([('sparse_categorical_accuracy', 0.0), ('loss', 9.898775), ('num_examples', 500), ('num_batches', 10)]))]))])), ('aggregator', OrderedDict([('mean_value', ()), ('mean_weight', ())])), ('finalizer', ())])\n",
            "round 54, metrics=OrderedDict([('distributor', ()), ('client_work', OrderedDict([('eval', OrderedDict([('current_round_metrics', OrderedDict([('sparse_categorical_accuracy', 0.0), ('loss', 9.898775), ('num_examples', 500), ('num_batches', 10)])), ('total_rounds_metrics', OrderedDict([('sparse_categorical_accuracy', 0.0), ('loss', 9.898775), ('num_examples', 500), ('num_batches', 10)]))]))])), ('aggregator', OrderedDict([('mean_value', ()), ('mean_weight', ())])), ('finalizer', ())])\n",
            "round 55, metrics=OrderedDict([('distributor', ()), ('client_work', OrderedDict([('eval', OrderedDict([('current_round_metrics', OrderedDict([('sparse_categorical_accuracy', 0.0), ('loss', 9.898775), ('num_examples', 500), ('num_batches', 10)])), ('total_rounds_metrics', OrderedDict([('sparse_categorical_accuracy', 0.0), ('loss', 9.898775), ('num_examples', 500), ('num_batches', 10)]))]))])), ('aggregator', OrderedDict([('mean_value', ()), ('mean_weight', ())])), ('finalizer', ())])\n",
            "round 56, metrics=OrderedDict([('distributor', ()), ('client_work', OrderedDict([('eval', OrderedDict([('current_round_metrics', OrderedDict([('sparse_categorical_accuracy', 0.0), ('loss', 9.898775), ('num_examples', 500), ('num_batches', 10)])), ('total_rounds_metrics', OrderedDict([('sparse_categorical_accuracy', 0.0), ('loss', 9.898775), ('num_examples', 500), ('num_batches', 10)]))]))])), ('aggregator', OrderedDict([('mean_value', ()), ('mean_weight', ())])), ('finalizer', ())])\n",
            "round 57, metrics=OrderedDict([('distributor', ()), ('client_work', OrderedDict([('eval', OrderedDict([('current_round_metrics', OrderedDict([('sparse_categorical_accuracy', 0.0), ('loss', 9.898775), ('num_examples', 500), ('num_batches', 10)])), ('total_rounds_metrics', OrderedDict([('sparse_categorical_accuracy', 0.0), ('loss', 9.898775), ('num_examples', 500), ('num_batches', 10)]))]))])), ('aggregator', OrderedDict([('mean_value', ()), ('mean_weight', ())])), ('finalizer', ())])\n",
            "round 58, metrics=OrderedDict([('distributor', ()), ('client_work', OrderedDict([('eval', OrderedDict([('current_round_metrics', OrderedDict([('sparse_categorical_accuracy', 0.0), ('loss', 9.898775), ('num_examples', 500), ('num_batches', 10)])), ('total_rounds_metrics', OrderedDict([('sparse_categorical_accuracy', 0.0), ('loss', 9.898775), ('num_examples', 500), ('num_batches', 10)]))]))])), ('aggregator', OrderedDict([('mean_value', ()), ('mean_weight', ())])), ('finalizer', ())])\n",
            "round 59, metrics=OrderedDict([('distributor', ()), ('client_work', OrderedDict([('eval', OrderedDict([('current_round_metrics', OrderedDict([('sparse_categorical_accuracy', 0.0), ('loss', 9.898775), ('num_examples', 500), ('num_batches', 10)])), ('total_rounds_metrics', OrderedDict([('sparse_categorical_accuracy', 0.0), ('loss', 9.898775), ('num_examples', 500), ('num_batches', 10)]))]))])), ('aggregator', OrderedDict([('mean_value', ()), ('mean_weight', ())])), ('finalizer', ())])\n",
            "round 60, metrics=OrderedDict([('distributor', ()), ('client_work', OrderedDict([('eval', OrderedDict([('current_round_metrics', OrderedDict([('sparse_categorical_accuracy', 0.0), ('loss', 9.898775), ('num_examples', 500), ('num_batches', 10)])), ('total_rounds_metrics', OrderedDict([('sparse_categorical_accuracy', 0.0), ('loss', 9.898775), ('num_examples', 500), ('num_batches', 10)]))]))])), ('aggregator', OrderedDict([('mean_value', ()), ('mean_weight', ())])), ('finalizer', ())])\n",
            "round 61, metrics=OrderedDict([('distributor', ()), ('client_work', OrderedDict([('eval', OrderedDict([('current_round_metrics', OrderedDict([('sparse_categorical_accuracy', 0.0), ('loss', 9.898775), ('num_examples', 500), ('num_batches', 10)])), ('total_rounds_metrics', OrderedDict([('sparse_categorical_accuracy', 0.0), ('loss', 9.898775), ('num_examples', 500), ('num_batches', 10)]))]))])), ('aggregator', OrderedDict([('mean_value', ()), ('mean_weight', ())])), ('finalizer', ())])\n",
            "round 62, metrics=OrderedDict([('distributor', ()), ('client_work', OrderedDict([('eval', OrderedDict([('current_round_metrics', OrderedDict([('sparse_categorical_accuracy', 0.0), ('loss', 9.898775), ('num_examples', 500), ('num_batches', 10)])), ('total_rounds_metrics', OrderedDict([('sparse_categorical_accuracy', 0.0), ('loss', 9.898775), ('num_examples', 500), ('num_batches', 10)]))]))])), ('aggregator', OrderedDict([('mean_value', ()), ('mean_weight', ())])), ('finalizer', ())])\n",
            "round 63, metrics=OrderedDict([('distributor', ()), ('client_work', OrderedDict([('eval', OrderedDict([('current_round_metrics', OrderedDict([('sparse_categorical_accuracy', 0.0), ('loss', 9.898775), ('num_examples', 500), ('num_batches', 10)])), ('total_rounds_metrics', OrderedDict([('sparse_categorical_accuracy', 0.0), ('loss', 9.898775), ('num_examples', 500), ('num_batches', 10)]))]))])), ('aggregator', OrderedDict([('mean_value', ()), ('mean_weight', ())])), ('finalizer', ())])\n",
            "round 64, metrics=OrderedDict([('distributor', ()), ('client_work', OrderedDict([('eval', OrderedDict([('current_round_metrics', OrderedDict([('sparse_categorical_accuracy', 0.0), ('loss', 9.898775), ('num_examples', 500), ('num_batches', 10)])), ('total_rounds_metrics', OrderedDict([('sparse_categorical_accuracy', 0.0), ('loss', 9.898775), ('num_examples', 500), ('num_batches', 10)]))]))])), ('aggregator', OrderedDict([('mean_value', ()), ('mean_weight', ())])), ('finalizer', ())])\n",
            "round 65, metrics=OrderedDict([('distributor', ()), ('client_work', OrderedDict([('eval', OrderedDict([('current_round_metrics', OrderedDict([('sparse_categorical_accuracy', 0.0), ('loss', 9.898775), ('num_examples', 500), ('num_batches', 10)])), ('total_rounds_metrics', OrderedDict([('sparse_categorical_accuracy', 0.0), ('loss', 9.898775), ('num_examples', 500), ('num_batches', 10)]))]))])), ('aggregator', OrderedDict([('mean_value', ()), ('mean_weight', ())])), ('finalizer', ())])\n",
            "round 66, metrics=OrderedDict([('distributor', ()), ('client_work', OrderedDict([('eval', OrderedDict([('current_round_metrics', OrderedDict([('sparse_categorical_accuracy', 0.0), ('loss', 9.898775), ('num_examples', 500), ('num_batches', 10)])), ('total_rounds_metrics', OrderedDict([('sparse_categorical_accuracy', 0.0), ('loss', 9.898775), ('num_examples', 500), ('num_batches', 10)]))]))])), ('aggregator', OrderedDict([('mean_value', ()), ('mean_weight', ())])), ('finalizer', ())])\n",
            "round 67, metrics=OrderedDict([('distributor', ()), ('client_work', OrderedDict([('eval', OrderedDict([('current_round_metrics', OrderedDict([('sparse_categorical_accuracy', 0.0), ('loss', 9.898775), ('num_examples', 500), ('num_batches', 10)])), ('total_rounds_metrics', OrderedDict([('sparse_categorical_accuracy', 0.0), ('loss', 9.898775), ('num_examples', 500), ('num_batches', 10)]))]))])), ('aggregator', OrderedDict([('mean_value', ()), ('mean_weight', ())])), ('finalizer', ())])\n",
            "round 68, metrics=OrderedDict([('distributor', ()), ('client_work', OrderedDict([('eval', OrderedDict([('current_round_metrics', OrderedDict([('sparse_categorical_accuracy', 0.0), ('loss', 9.898775), ('num_examples', 500), ('num_batches', 10)])), ('total_rounds_metrics', OrderedDict([('sparse_categorical_accuracy', 0.0), ('loss', 9.898775), ('num_examples', 500), ('num_batches', 10)]))]))])), ('aggregator', OrderedDict([('mean_value', ()), ('mean_weight', ())])), ('finalizer', ())])\n",
            "round 69, metrics=OrderedDict([('distributor', ()), ('client_work', OrderedDict([('eval', OrderedDict([('current_round_metrics', OrderedDict([('sparse_categorical_accuracy', 0.0), ('loss', 9.898775), ('num_examples', 500), ('num_batches', 10)])), ('total_rounds_metrics', OrderedDict([('sparse_categorical_accuracy', 0.0), ('loss', 9.898775), ('num_examples', 500), ('num_batches', 10)]))]))])), ('aggregator', OrderedDict([('mean_value', ()), ('mean_weight', ())])), ('finalizer', ())])\n",
            "round 70, metrics=OrderedDict([('distributor', ()), ('client_work', OrderedDict([('eval', OrderedDict([('current_round_metrics', OrderedDict([('sparse_categorical_accuracy', 0.0), ('loss', 9.898775), ('num_examples', 500), ('num_batches', 10)])), ('total_rounds_metrics', OrderedDict([('sparse_categorical_accuracy', 0.0), ('loss', 9.898775), ('num_examples', 500), ('num_batches', 10)]))]))])), ('aggregator', OrderedDict([('mean_value', ()), ('mean_weight', ())])), ('finalizer', ())])\n",
            "round 71, metrics=OrderedDict([('distributor', ()), ('client_work', OrderedDict([('eval', OrderedDict([('current_round_metrics', OrderedDict([('sparse_categorical_accuracy', 0.0), ('loss', 9.898775), ('num_examples', 500), ('num_batches', 10)])), ('total_rounds_metrics', OrderedDict([('sparse_categorical_accuracy', 0.0), ('loss', 9.898775), ('num_examples', 500), ('num_batches', 10)]))]))])), ('aggregator', OrderedDict([('mean_value', ()), ('mean_weight', ())])), ('finalizer', ())])\n",
            "round 72, metrics=OrderedDict([('distributor', ()), ('client_work', OrderedDict([('eval', OrderedDict([('current_round_metrics', OrderedDict([('sparse_categorical_accuracy', 0.0), ('loss', 9.898775), ('num_examples', 500), ('num_batches', 10)])), ('total_rounds_metrics', OrderedDict([('sparse_categorical_accuracy', 0.0), ('loss', 9.898775), ('num_examples', 500), ('num_batches', 10)]))]))])), ('aggregator', OrderedDict([('mean_value', ()), ('mean_weight', ())])), ('finalizer', ())])\n",
            "round 73, metrics=OrderedDict([('distributor', ()), ('client_work', OrderedDict([('eval', OrderedDict([('current_round_metrics', OrderedDict([('sparse_categorical_accuracy', 0.0), ('loss', 9.898775), ('num_examples', 500), ('num_batches', 10)])), ('total_rounds_metrics', OrderedDict([('sparse_categorical_accuracy', 0.0), ('loss', 9.898775), ('num_examples', 500), ('num_batches', 10)]))]))])), ('aggregator', OrderedDict([('mean_value', ()), ('mean_weight', ())])), ('finalizer', ())])\n",
            "round 74, metrics=OrderedDict([('distributor', ()), ('client_work', OrderedDict([('eval', OrderedDict([('current_round_metrics', OrderedDict([('sparse_categorical_accuracy', 0.0), ('loss', 9.898775), ('num_examples', 500), ('num_batches', 10)])), ('total_rounds_metrics', OrderedDict([('sparse_categorical_accuracy', 0.0), ('loss', 9.898775), ('num_examples', 500), ('num_batches', 10)]))]))])), ('aggregator', OrderedDict([('mean_value', ()), ('mean_weight', ())])), ('finalizer', ())])\n",
            "round 75, metrics=OrderedDict([('distributor', ()), ('client_work', OrderedDict([('eval', OrderedDict([('current_round_metrics', OrderedDict([('sparse_categorical_accuracy', 0.0), ('loss', 9.898775), ('num_examples', 500), ('num_batches', 10)])), ('total_rounds_metrics', OrderedDict([('sparse_categorical_accuracy', 0.0), ('loss', 9.898775), ('num_examples', 500), ('num_batches', 10)]))]))])), ('aggregator', OrderedDict([('mean_value', ()), ('mean_weight', ())])), ('finalizer', ())])\n",
            "round 76, metrics=OrderedDict([('distributor', ()), ('client_work', OrderedDict([('eval', OrderedDict([('current_round_metrics', OrderedDict([('sparse_categorical_accuracy', 0.0), ('loss', 9.898775), ('num_examples', 500), ('num_batches', 10)])), ('total_rounds_metrics', OrderedDict([('sparse_categorical_accuracy', 0.0), ('loss', 9.898775), ('num_examples', 500), ('num_batches', 10)]))]))])), ('aggregator', OrderedDict([('mean_value', ()), ('mean_weight', ())])), ('finalizer', ())])\n",
            "round 77, metrics=OrderedDict([('distributor', ()), ('client_work', OrderedDict([('eval', OrderedDict([('current_round_metrics', OrderedDict([('sparse_categorical_accuracy', 0.0), ('loss', 9.898775), ('num_examples', 500), ('num_batches', 10)])), ('total_rounds_metrics', OrderedDict([('sparse_categorical_accuracy', 0.0), ('loss', 9.898775), ('num_examples', 500), ('num_batches', 10)]))]))])), ('aggregator', OrderedDict([('mean_value', ()), ('mean_weight', ())])), ('finalizer', ())])\n",
            "round 78, metrics=OrderedDict([('distributor', ()), ('client_work', OrderedDict([('eval', OrderedDict([('current_round_metrics', OrderedDict([('sparse_categorical_accuracy', 0.0), ('loss', 9.898775), ('num_examples', 500), ('num_batches', 10)])), ('total_rounds_metrics', OrderedDict([('sparse_categorical_accuracy', 0.0), ('loss', 9.898775), ('num_examples', 500), ('num_batches', 10)]))]))])), ('aggregator', OrderedDict([('mean_value', ()), ('mean_weight', ())])), ('finalizer', ())])\n",
            "round 79, metrics=OrderedDict([('distributor', ()), ('client_work', OrderedDict([('eval', OrderedDict([('current_round_metrics', OrderedDict([('sparse_categorical_accuracy', 0.0), ('loss', 9.898775), ('num_examples', 500), ('num_batches', 10)])), ('total_rounds_metrics', OrderedDict([('sparse_categorical_accuracy', 0.0), ('loss', 9.898775), ('num_examples', 500), ('num_batches', 10)]))]))])), ('aggregator', OrderedDict([('mean_value', ()), ('mean_weight', ())])), ('finalizer', ())])\n",
            "round 80, metrics=OrderedDict([('distributor', ()), ('client_work', OrderedDict([('eval', OrderedDict([('current_round_metrics', OrderedDict([('sparse_categorical_accuracy', 0.0), ('loss', 9.898775), ('num_examples', 500), ('num_batches', 10)])), ('total_rounds_metrics', OrderedDict([('sparse_categorical_accuracy', 0.0), ('loss', 9.898775), ('num_examples', 500), ('num_batches', 10)]))]))])), ('aggregator', OrderedDict([('mean_value', ()), ('mean_weight', ())])), ('finalizer', ())])\n",
            "round 81, metrics=OrderedDict([('distributor', ()), ('client_work', OrderedDict([('eval', OrderedDict([('current_round_metrics', OrderedDict([('sparse_categorical_accuracy', 0.0), ('loss', 9.898775), ('num_examples', 500), ('num_batches', 10)])), ('total_rounds_metrics', OrderedDict([('sparse_categorical_accuracy', 0.0), ('loss', 9.898775), ('num_examples', 500), ('num_batches', 10)]))]))])), ('aggregator', OrderedDict([('mean_value', ()), ('mean_weight', ())])), ('finalizer', ())])\n",
            "round 82, metrics=OrderedDict([('distributor', ()), ('client_work', OrderedDict([('eval', OrderedDict([('current_round_metrics', OrderedDict([('sparse_categorical_accuracy', 0.0), ('loss', 9.898775), ('num_examples', 500), ('num_batches', 10)])), ('total_rounds_metrics', OrderedDict([('sparse_categorical_accuracy', 0.0), ('loss', 9.898775), ('num_examples', 500), ('num_batches', 10)]))]))])), ('aggregator', OrderedDict([('mean_value', ()), ('mean_weight', ())])), ('finalizer', ())])\n",
            "round 83, metrics=OrderedDict([('distributor', ()), ('client_work', OrderedDict([('eval', OrderedDict([('current_round_metrics', OrderedDict([('sparse_categorical_accuracy', 0.0), ('loss', 9.898775), ('num_examples', 500), ('num_batches', 10)])), ('total_rounds_metrics', OrderedDict([('sparse_categorical_accuracy', 0.0), ('loss', 9.898775), ('num_examples', 500), ('num_batches', 10)]))]))])), ('aggregator', OrderedDict([('mean_value', ()), ('mean_weight', ())])), ('finalizer', ())])\n",
            "round 84, metrics=OrderedDict([('distributor', ()), ('client_work', OrderedDict([('eval', OrderedDict([('current_round_metrics', OrderedDict([('sparse_categorical_accuracy', 0.0), ('loss', 9.898775), ('num_examples', 500), ('num_batches', 10)])), ('total_rounds_metrics', OrderedDict([('sparse_categorical_accuracy', 0.0), ('loss', 9.898775), ('num_examples', 500), ('num_batches', 10)]))]))])), ('aggregator', OrderedDict([('mean_value', ()), ('mean_weight', ())])), ('finalizer', ())])\n",
            "round 85, metrics=OrderedDict([('distributor', ()), ('client_work', OrderedDict([('eval', OrderedDict([('current_round_metrics', OrderedDict([('sparse_categorical_accuracy', 0.0), ('loss', 9.898775), ('num_examples', 500), ('num_batches', 10)])), ('total_rounds_metrics', OrderedDict([('sparse_categorical_accuracy', 0.0), ('loss', 9.898775), ('num_examples', 500), ('num_batches', 10)]))]))])), ('aggregator', OrderedDict([('mean_value', ()), ('mean_weight', ())])), ('finalizer', ())])\n",
            "round 86, metrics=OrderedDict([('distributor', ()), ('client_work', OrderedDict([('eval', OrderedDict([('current_round_metrics', OrderedDict([('sparse_categorical_accuracy', 0.0), ('loss', 9.898775), ('num_examples', 500), ('num_batches', 10)])), ('total_rounds_metrics', OrderedDict([('sparse_categorical_accuracy', 0.0), ('loss', 9.898775), ('num_examples', 500), ('num_batches', 10)]))]))])), ('aggregator', OrderedDict([('mean_value', ()), ('mean_weight', ())])), ('finalizer', ())])\n",
            "round 87, metrics=OrderedDict([('distributor', ()), ('client_work', OrderedDict([('eval', OrderedDict([('current_round_metrics', OrderedDict([('sparse_categorical_accuracy', 0.0), ('loss', 9.898775), ('num_examples', 500), ('num_batches', 10)])), ('total_rounds_metrics', OrderedDict([('sparse_categorical_accuracy', 0.0), ('loss', 9.898775), ('num_examples', 500), ('num_batches', 10)]))]))])), ('aggregator', OrderedDict([('mean_value', ()), ('mean_weight', ())])), ('finalizer', ())])\n",
            "round 88, metrics=OrderedDict([('distributor', ()), ('client_work', OrderedDict([('eval', OrderedDict([('current_round_metrics', OrderedDict([('sparse_categorical_accuracy', 0.0), ('loss', 9.898775), ('num_examples', 500), ('num_batches', 10)])), ('total_rounds_metrics', OrderedDict([('sparse_categorical_accuracy', 0.0), ('loss', 9.898775), ('num_examples', 500), ('num_batches', 10)]))]))])), ('aggregator', OrderedDict([('mean_value', ()), ('mean_weight', ())])), ('finalizer', ())])\n",
            "round 89, metrics=OrderedDict([('distributor', ()), ('client_work', OrderedDict([('eval', OrderedDict([('current_round_metrics', OrderedDict([('sparse_categorical_accuracy', 0.0), ('loss', 9.898775), ('num_examples', 500), ('num_batches', 10)])), ('total_rounds_metrics', OrderedDict([('sparse_categorical_accuracy', 0.0), ('loss', 9.898775), ('num_examples', 500), ('num_batches', 10)]))]))])), ('aggregator', OrderedDict([('mean_value', ()), ('mean_weight', ())])), ('finalizer', ())])\n",
            "round 90, metrics=OrderedDict([('distributor', ()), ('client_work', OrderedDict([('eval', OrderedDict([('current_round_metrics', OrderedDict([('sparse_categorical_accuracy', 0.0), ('loss', 9.898775), ('num_examples', 500), ('num_batches', 10)])), ('total_rounds_metrics', OrderedDict([('sparse_categorical_accuracy', 0.0), ('loss', 9.898775), ('num_examples', 500), ('num_batches', 10)]))]))])), ('aggregator', OrderedDict([('mean_value', ()), ('mean_weight', ())])), ('finalizer', ())])\n",
            "round 91, metrics=OrderedDict([('distributor', ()), ('client_work', OrderedDict([('eval', OrderedDict([('current_round_metrics', OrderedDict([('sparse_categorical_accuracy', 0.0), ('loss', 9.898775), ('num_examples', 500), ('num_batches', 10)])), ('total_rounds_metrics', OrderedDict([('sparse_categorical_accuracy', 0.0), ('loss', 9.898775), ('num_examples', 500), ('num_batches', 10)]))]))])), ('aggregator', OrderedDict([('mean_value', ()), ('mean_weight', ())])), ('finalizer', ())])\n",
            "round 92, metrics=OrderedDict([('distributor', ()), ('client_work', OrderedDict([('eval', OrderedDict([('current_round_metrics', OrderedDict([('sparse_categorical_accuracy', 0.0), ('loss', 9.898775), ('num_examples', 500), ('num_batches', 10)])), ('total_rounds_metrics', OrderedDict([('sparse_categorical_accuracy', 0.0), ('loss', 9.898775), ('num_examples', 500), ('num_batches', 10)]))]))])), ('aggregator', OrderedDict([('mean_value', ()), ('mean_weight', ())])), ('finalizer', ())])\n",
            "round 93, metrics=OrderedDict([('distributor', ()), ('client_work', OrderedDict([('eval', OrderedDict([('current_round_metrics', OrderedDict([('sparse_categorical_accuracy', 0.0), ('loss', 9.898775), ('num_examples', 500), ('num_batches', 10)])), ('total_rounds_metrics', OrderedDict([('sparse_categorical_accuracy', 0.0), ('loss', 9.898775), ('num_examples', 500), ('num_batches', 10)]))]))])), ('aggregator', OrderedDict([('mean_value', ()), ('mean_weight', ())])), ('finalizer', ())])\n",
            "round 94, metrics=OrderedDict([('distributor', ()), ('client_work', OrderedDict([('eval', OrderedDict([('current_round_metrics', OrderedDict([('sparse_categorical_accuracy', 0.0), ('loss', 9.898775), ('num_examples', 500), ('num_batches', 10)])), ('total_rounds_metrics', OrderedDict([('sparse_categorical_accuracy', 0.0), ('loss', 9.898775), ('num_examples', 500), ('num_batches', 10)]))]))])), ('aggregator', OrderedDict([('mean_value', ()), ('mean_weight', ())])), ('finalizer', ())])\n",
            "round 95, metrics=OrderedDict([('distributor', ()), ('client_work', OrderedDict([('eval', OrderedDict([('current_round_metrics', OrderedDict([('sparse_categorical_accuracy', 0.0), ('loss', 9.898775), ('num_examples', 500), ('num_batches', 10)])), ('total_rounds_metrics', OrderedDict([('sparse_categorical_accuracy', 0.0), ('loss', 9.898775), ('num_examples', 500), ('num_batches', 10)]))]))])), ('aggregator', OrderedDict([('mean_value', ()), ('mean_weight', ())])), ('finalizer', ())])\n",
            "round 96, metrics=OrderedDict([('distributor', ()), ('client_work', OrderedDict([('eval', OrderedDict([('current_round_metrics', OrderedDict([('sparse_categorical_accuracy', 0.0), ('loss', 9.898775), ('num_examples', 500), ('num_batches', 10)])), ('total_rounds_metrics', OrderedDict([('sparse_categorical_accuracy', 0.0), ('loss', 9.898775), ('num_examples', 500), ('num_batches', 10)]))]))])), ('aggregator', OrderedDict([('mean_value', ()), ('mean_weight', ())])), ('finalizer', ())])\n",
            "round 97, metrics=OrderedDict([('distributor', ()), ('client_work', OrderedDict([('eval', OrderedDict([('current_round_metrics', OrderedDict([('sparse_categorical_accuracy', 0.0), ('loss', 9.898775), ('num_examples', 500), ('num_batches', 10)])), ('total_rounds_metrics', OrderedDict([('sparse_categorical_accuracy', 0.0), ('loss', 9.898775), ('num_examples', 500), ('num_batches', 10)]))]))])), ('aggregator', OrderedDict([('mean_value', ()), ('mean_weight', ())])), ('finalizer', ())])\n",
            "round 98, metrics=OrderedDict([('distributor', ()), ('client_work', OrderedDict([('eval', OrderedDict([('current_round_metrics', OrderedDict([('sparse_categorical_accuracy', 0.0), ('loss', 9.898775), ('num_examples', 500), ('num_batches', 10)])), ('total_rounds_metrics', OrderedDict([('sparse_categorical_accuracy', 0.0), ('loss', 9.898775), ('num_examples', 500), ('num_batches', 10)]))]))])), ('aggregator', OrderedDict([('mean_value', ()), ('mean_weight', ())])), ('finalizer', ())])\n",
            "round 99, metrics=OrderedDict([('distributor', ()), ('client_work', OrderedDict([('eval', OrderedDict([('current_round_metrics', OrderedDict([('sparse_categorical_accuracy', 0.0), ('loss', 9.898775), ('num_examples', 500), ('num_batches', 10)])), ('total_rounds_metrics', OrderedDict([('sparse_categorical_accuracy', 0.0), ('loss', 9.898775), ('num_examples', 500), ('num_batches', 10)]))]))])), ('aggregator', OrderedDict([('mean_value', ()), ('mean_weight', ())])), ('finalizer', ())])\n",
            "round 100, metrics=OrderedDict([('distributor', ()), ('client_work', OrderedDict([('eval', OrderedDict([('current_round_metrics', OrderedDict([('sparse_categorical_accuracy', 0.0), ('loss', 9.898775), ('num_examples', 500), ('num_batches', 10)])), ('total_rounds_metrics', OrderedDict([('sparse_categorical_accuracy', 0.0), ('loss', 9.898775), ('num_examples', 500), ('num_batches', 10)]))]))])), ('aggregator', OrderedDict([('mean_value', ()), ('mean_weight', ())])), ('finalizer', ())])\n"
          ]
        }
      ],
      "source": [
        "\n",
        "evaluation_process = tff.learning.algorithms.build_fed_eval(model_fn)\n",
        "evaluation_state = evaluation_process.initialize()\n",
        "model_weights = training_process.get_model_weights(train_state)\n",
        "evaluation_state = evaluation_process.set_model_weights(evaluation_state, model_weights)\n",
        "evaluation_output = evaluation_process.next(evaluation_state, federated_train_data)\n",
        "\n",
        "federated_test_data = make_federated_data(cifar100_test, cifar100_test.client_ids[0:NUM_CLIENTS])\n",
        "\n",
        "for round_num in range(1, NUM_ROUNDS + 1):\n",
        "    evaluation_output = evaluation_process.next(evaluation_state, federated_test_data)\n",
        "    \n",
        "    # Extract metrics from the evaluation output\n",
        "    metrics = evaluation_output.metrics\n",
        "    print('round {:2d}, metrics={}'.format(round_num, metrics))"
      ]
    },
    {
      "cell_type": "code",
      "execution_count": 52,
      "metadata": {},
      "outputs": [],
      "source": [
        "def prepare_dataset(element):\n",
        "    # Adjust the dataset to match the model's input requirements\n",
        "    # Assuming 'image' key contains the input images and 'label' key contains the labels\n",
        "    return collections.OrderedDict(\n",
        "        conv2d_9_input=tf.reshape(element['image'], [-1, 32, 32, 3]),  # Reshape and assign to the expected input key\n",
        "        y=tf.reshape(element['label'], [-1, 1])  # Reshape labels if necessary\n",
        "    )"
      ]
    },
    {
      "cell_type": "code",
      "execution_count": 53,
      "metadata": {},
      "outputs": [
        {
          "name": "stdout",
          "output_type": "stream",
          "text": [
            "\tEval: loss=8.413, accuracy=0.063\n"
          ]
        }
      ],
      "source": [
        "keras_model = create_keras_model()\n",
        "keras_model.compile(\n",
        "loss=tf.keras.losses.SparseCategoricalCrossentropy(),\n",
        "    metrics=[tf.keras.metrics.SparseCategoricalAccuracy()])\n",
        "\n",
        "model_weights = training_process.get_model_weights(train_state)\n",
        "model_weights.assign_weights_to(keras_model)\n",
        "adjusted_dataset = cifar100_test.create_tf_dataset_from_all_clients().map(prepare_dataset)\n",
        "adjusted_dataset = adjusted_dataset.map(lambda x: (x['conv2d_9_input'], x['y']))\n",
        "\n",
        "loss, accuracy = keras_model.evaluate(adjusted_dataset, steps=10000, verbose=0)\n",
        "print('\\tEval: loss={l:.3f}, accuracy={a:.3f}'.format(l=loss, a=accuracy))"
      ]
    }
  ],
  "metadata": {
    "colab": {
      "name": "federated_learning_for_image_classification.ipynb",
      "toc_visible": true
    },
    "kernelspec": {
      "display_name": "Python 3",
      "name": "python3"
    },
    "language_info": {
      "codemirror_mode": {
        "name": "ipython",
        "version": 3
      },
      "file_extension": ".py",
      "mimetype": "text/x-python",
      "name": "python",
      "nbconvert_exporter": "python",
      "pygments_lexer": "ipython3",
      "version": "3.11.9"
    }
  },
  "nbformat": 4,
  "nbformat_minor": 0
}
