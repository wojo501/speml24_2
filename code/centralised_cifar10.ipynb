{
 "cells": [
  {
   "cell_type": "code",
   "execution_count": 1,
   "metadata": {},
   "outputs": [
    {
     "name": "stderr",
     "output_type": "stream",
     "text": [
      "2024-07-28 21:05:55.646801: I tensorflow/core/util/port.cc:111] oneDNN custom operations are on. You may see slightly different numerical results due to floating-point round-off errors from different computation orders. To turn them off, set the environment variable `TF_ENABLE_ONEDNN_OPTS=0`.\n",
      "2024-07-28 21:05:55.648399: I tensorflow/tsl/cuda/cudart_stub.cc:28] Could not find cuda drivers on your machine, GPU will not be used.\n",
      "2024-07-28 21:05:55.671124: E tensorflow/compiler/xla/stream_executor/cuda/cuda_dnn.cc:9342] Unable to register cuDNN factory: Attempting to register factory for plugin cuDNN when one has already been registered\n",
      "2024-07-28 21:05:55.671158: E tensorflow/compiler/xla/stream_executor/cuda/cuda_fft.cc:609] Unable to register cuFFT factory: Attempting to register factory for plugin cuFFT when one has already been registered\n",
      "2024-07-28 21:05:55.671185: E tensorflow/compiler/xla/stream_executor/cuda/cuda_blas.cc:1518] Unable to register cuBLAS factory: Attempting to register factory for plugin cuBLAS when one has already been registered\n",
      "2024-07-28 21:05:55.676198: I tensorflow/tsl/cuda/cudart_stub.cc:28] Could not find cuda drivers on your machine, GPU will not be used.\n",
      "2024-07-28 21:05:55.676707: I tensorflow/core/platform/cpu_feature_guard.cc:182] This TensorFlow binary is optimized to use available CPU instructions in performance-critical operations.\n",
      "To enable the following instructions: AVX2 AVX512F AVX512_VNNI AVX512_BF16 FMA, in other operations, rebuild TensorFlow with the appropriate compiler flags.\n",
      "2024-07-28 21:05:56.348158: W tensorflow/compiler/tf2tensorrt/utils/py_utils.cc:38] TF-TRT Warning: Could not find TensorRT\n"
     ]
    }
   ],
   "source": [
    "import tensorflow as tf\n",
    "import wandb\n",
    "from wandb.integration.keras import WandbCallback\n",
    "\n",
    "USE_WANDB = True\n",
    "EPOCHS = 15"
   ]
  },
  {
   "cell_type": "code",
   "execution_count": 2,
   "metadata": {},
   "outputs": [],
   "source": [
    "# Load CIFAR100 dataset\n",
    "(x_train, y_train), (x_test, y_test) = tf.keras.datasets.cifar10.load_data()\n",
    "\n",
    "# Normalize pixel values\n",
    "x_train, x_test = x_train/255, x_test/255\n",
    "\n",
    "# One-hot encode the labels\n",
    "y_train = tf.keras.utils.to_categorical(y_train, 10)\n",
    "y_test = tf.keras.utils.to_categorical(y_test, 10)"
   ]
  },
  {
   "cell_type": "code",
   "execution_count": 3,
   "metadata": {},
   "outputs": [
    {
     "name": "stderr",
     "output_type": "stream",
     "text": [
      "Failed to detect the name of this notebook, you can set it manually with the WANDB_NOTEBOOK_NAME environment variable to enable code saving.\n",
      "\u001b[34m\u001b[1mwandb\u001b[0m: Currently logged in as: \u001b[33msklein-at\u001b[0m (\u001b[33mspeml\u001b[0m). Use \u001b[1m`wandb login --relogin`\u001b[0m to force relogin\n"
     ]
    },
    {
     "data": {
      "text/html": [
       "Tracking run with wandb version 0.17.5"
      ],
      "text/plain": [
       "<IPython.core.display.HTML object>"
      ]
     },
     "metadata": {},
     "output_type": "display_data"
    },
    {
     "data": {
      "text/html": [
       "Run data is saved locally in <code>/var/home/stephan/Dev/tu/speml24-2/code/wandb/run-20240728_210558-puvcqdb9</code>"
      ],
      "text/plain": [
       "<IPython.core.display.HTML object>"
      ]
     },
     "metadata": {},
     "output_type": "display_data"
    },
    {
     "data": {
      "text/html": [
       "Syncing run <strong><a href='https://wandb.ai/speml/federated_learning/runs/puvcqdb9' target=\"_blank\">tf_centralized_15epochs</a></strong> to <a href='https://wandb.ai/speml/federated_learning' target=\"_blank\">Weights & Biases</a> (<a href='https://wandb.me/run' target=\"_blank\">docs</a>)<br/>"
      ],
      "text/plain": [
       "<IPython.core.display.HTML object>"
      ]
     },
     "metadata": {},
     "output_type": "display_data"
    },
    {
     "data": {
      "text/html": [
       " View project at <a href='https://wandb.ai/speml/federated_learning' target=\"_blank\">https://wandb.ai/speml/federated_learning</a>"
      ],
      "text/plain": [
       "<IPython.core.display.HTML object>"
      ]
     },
     "metadata": {},
     "output_type": "display_data"
    },
    {
     "data": {
      "text/html": [
       " View run at <a href='https://wandb.ai/speml/federated_learning/runs/puvcqdb9' target=\"_blank\">https://wandb.ai/speml/federated_learning/runs/puvcqdb9</a>"
      ],
      "text/plain": [
       "<IPython.core.display.HTML object>"
      ]
     },
     "metadata": {},
     "output_type": "display_data"
    },
    {
     "name": "stderr",
     "output_type": "stream",
     "text": [
      "\u001b[34m\u001b[1mwandb\u001b[0m: \u001b[33mWARNING\u001b[0m The save_model argument by default saves the model in the HDF5 format that cannot save custom objects like subclassed models and custom layers. This behavior will be deprecated in a future release in favor of the SavedModel format. Meanwhile, the HDF5 model is saved as W&B files and the SavedModel as W&B Artifacts.\n"
     ]
    },
    {
     "name": "stdout",
     "output_type": "stream",
     "text": [
      "Epoch 1/15\n",
      "2/2 [==============================] - 0s 2ms/step0s - loss: 1.5030 - categorical_accuracy: 0.45\n"
     ]
    },
    {
     "name": "stderr",
     "output_type": "stream",
     "text": [
      "/var/home/stephan/Dev/tu/speml24-2/myenv/lib/python3.11/site-packages/keras/src/engine/training.py:3079: UserWarning: You are saving your model as an HDF5 file via `model.save()`. This file format is considered legacy. We recommend using instead the native Keras format, e.g. `model.save('my_model.keras')`.\n",
      "  saving_api.save_model(\n"
     ]
    },
    {
     "name": "stdout",
     "output_type": "stream",
     "text": [
      "INFO:tensorflow:Assets written to: /var/home/stephan/Dev/tu/speml24-2/code/wandb/run-20240728_210558-puvcqdb9/files/model-best/assets\n"
     ]
    },
    {
     "name": "stderr",
     "output_type": "stream",
     "text": [
      "INFO:tensorflow:Assets written to: /var/home/stephan/Dev/tu/speml24-2/code/wandb/run-20240728_210558-puvcqdb9/files/model-best/assets\n",
      "\u001b[34m\u001b[1mwandb\u001b[0m: Adding directory to artifact (/var/home/stephan/Dev/tu/speml24-2/code/wandb/run-20240728_210558-puvcqdb9/files/model-best)... Done. 0.0s\n"
     ]
    },
    {
     "name": "stdout",
     "output_type": "stream",
     "text": [
      "1000/1000 [==============================] - 7s 7ms/step - loss: 1.5008 - categorical_accuracy: 0.4557 - val_loss: 1.4482 - val_categorical_accuracy: 0.4998\n",
      "Epoch 2/15\n",
      "2/2 [==============================] - 0s 2ms/step0s - loss: 1.1445 - categorical_accuracy: 0.59\n"
     ]
    },
    {
     "name": "stderr",
     "output_type": "stream",
     "text": [
      "/var/home/stephan/Dev/tu/speml24-2/myenv/lib/python3.11/site-packages/keras/src/engine/training.py:3079: UserWarning: You are saving your model as an HDF5 file via `model.save()`. This file format is considered legacy. We recommend using instead the native Keras format, e.g. `model.save('my_model.keras')`.\n",
      "  saving_api.save_model(\n"
     ]
    },
    {
     "name": "stdout",
     "output_type": "stream",
     "text": [
      "INFO:tensorflow:Assets written to: /var/home/stephan/Dev/tu/speml24-2/code/wandb/run-20240728_210558-puvcqdb9/files/model-best/assets\n"
     ]
    },
    {
     "name": "stderr",
     "output_type": "stream",
     "text": [
      "INFO:tensorflow:Assets written to: /var/home/stephan/Dev/tu/speml24-2/code/wandb/run-20240728_210558-puvcqdb9/files/model-best/assets\n",
      "\u001b[34m\u001b[1mwandb\u001b[0m: Adding directory to artifact (/var/home/stephan/Dev/tu/speml24-2/code/wandb/run-20240728_210558-puvcqdb9/files/model-best)... Done. 0.0s\n"
     ]
    },
    {
     "name": "stdout",
     "output_type": "stream",
     "text": [
      "1000/1000 [==============================] - 6s 6ms/step - loss: 1.1442 - categorical_accuracy: 0.5972 - val_loss: 1.1332 - val_categorical_accuracy: 0.5997\n",
      "Epoch 3/15\n",
      "2/2 [==============================] - 0s 2ms/step0s - loss: 0.9671 - categorical_accuracy: 0.66\n"
     ]
    },
    {
     "name": "stderr",
     "output_type": "stream",
     "text": [
      "/var/home/stephan/Dev/tu/speml24-2/myenv/lib/python3.11/site-packages/keras/src/engine/training.py:3079: UserWarning: You are saving your model as an HDF5 file via `model.save()`. This file format is considered legacy. We recommend using instead the native Keras format, e.g. `model.save('my_model.keras')`.\n",
      "  saving_api.save_model(\n"
     ]
    },
    {
     "name": "stdout",
     "output_type": "stream",
     "text": [
      "INFO:tensorflow:Assets written to: /var/home/stephan/Dev/tu/speml24-2/code/wandb/run-20240728_210558-puvcqdb9/files/model-best/assets\n"
     ]
    },
    {
     "name": "stderr",
     "output_type": "stream",
     "text": [
      "INFO:tensorflow:Assets written to: /var/home/stephan/Dev/tu/speml24-2/code/wandb/run-20240728_210558-puvcqdb9/files/model-best/assets\n",
      "\u001b[34m\u001b[1mwandb\u001b[0m: Adding directory to artifact (/var/home/stephan/Dev/tu/speml24-2/code/wandb/run-20240728_210558-puvcqdb9/files/model-best)... Done. 0.0s\n"
     ]
    },
    {
     "name": "stdout",
     "output_type": "stream",
     "text": [
      "1000/1000 [==============================] - 6s 6ms/step - loss: 0.9672 - categorical_accuracy: 0.6623 - val_loss: 0.9820 - val_categorical_accuracy: 0.6554\n",
      "Epoch 4/15\n",
      "2/2 [==============================] - 0s 2ms/step0s - loss: 0.8428 - categorical_accuracy: 0.70\n"
     ]
    },
    {
     "name": "stderr",
     "output_type": "stream",
     "text": [
      "/var/home/stephan/Dev/tu/speml24-2/myenv/lib/python3.11/site-packages/keras/src/engine/training.py:3079: UserWarning: You are saving your model as an HDF5 file via `model.save()`. This file format is considered legacy. We recommend using instead the native Keras format, e.g. `model.save('my_model.keras')`.\n",
      "  saving_api.save_model(\n"
     ]
    },
    {
     "name": "stdout",
     "output_type": "stream",
     "text": [
      "INFO:tensorflow:Assets written to: /var/home/stephan/Dev/tu/speml24-2/code/wandb/run-20240728_210558-puvcqdb9/files/model-best/assets\n"
     ]
    },
    {
     "name": "stderr",
     "output_type": "stream",
     "text": [
      "INFO:tensorflow:Assets written to: /var/home/stephan/Dev/tu/speml24-2/code/wandb/run-20240728_210558-puvcqdb9/files/model-best/assets\n",
      "\u001b[34m\u001b[1mwandb\u001b[0m: Adding directory to artifact (/var/home/stephan/Dev/tu/speml24-2/code/wandb/run-20240728_210558-puvcqdb9/files/model-best)... Done. 0.0s\n"
     ]
    },
    {
     "name": "stdout",
     "output_type": "stream",
     "text": [
      "1000/1000 [==============================] - 6s 6ms/step - loss: 0.8425 - categorical_accuracy: 0.7043 - val_loss: 0.9229 - val_categorical_accuracy: 0.6795\n",
      "Epoch 5/15\n",
      "2/2 [==============================] - 0s 2ms/step0s - loss: 0.7241 - categorical_accuracy: 0.74\n",
      "1000/1000 [==============================] - 6s 6ms/step - loss: 0.7240 - categorical_accuracy: 0.7471 - val_loss: 0.9354 - val_categorical_accuracy: 0.6888\n",
      "Epoch 6/15\n",
      "2/2 [==============================] - 0s 2ms/step0s - loss: 0.6192 - categorical_accuracy: 0.78\n",
      "1000/1000 [==============================] - 6s 6ms/step - loss: 0.6192 - categorical_accuracy: 0.7822 - val_loss: 0.9621 - val_categorical_accuracy: 0.6873\n",
      "Epoch 7/15\n",
      "2/2 [==============================] - 0s 3ms/step0s - loss: 0.5140 - categorical_accuracy: 0.81\n",
      "1000/1000 [==============================] - 6s 6ms/step - loss: 0.5144 - categorical_accuracy: 0.8180 - val_loss: 0.9719 - val_categorical_accuracy: 0.6939\n",
      "Epoch 8/15\n",
      "2/2 [==============================] - 0s 2ms/step0s - loss: 0.4246 - categorical_accuracy: 0.85\n",
      "1000/1000 [==============================] - 6s 6ms/step - loss: 0.4249 - categorical_accuracy: 0.8519 - val_loss: 1.1055 - val_categorical_accuracy: 0.6721\n",
      "Epoch 9/15\n",
      "2/2 [==============================] - 0s 2ms/step0s - loss: 0.3366 - categorical_accuracy: 0.88\n",
      "1000/1000 [==============================] - 6s 6ms/step - loss: 0.3365 - categorical_accuracy: 0.8816 - val_loss: 1.1594 - val_categorical_accuracy: 0.6790\n",
      "Epoch 10/15\n",
      "2/2 [==============================] - 0s 2ms/step0s - loss: 0.2647 - categorical_accuracy: 0.90\n",
      "1000/1000 [==============================] - 6s 6ms/step - loss: 0.2646 - categorical_accuracy: 0.9082 - val_loss: 1.2816 - val_categorical_accuracy: 0.6905\n",
      "Epoch 11/15\n",
      "2/2 [==============================] - 0s 2ms/step0s - loss: 0.2098 - categorical_accuracy: 0.92\n",
      "1000/1000 [==============================] - 6s 6ms/step - loss: 0.2098 - categorical_accuracy: 0.9277 - val_loss: 1.4113 - val_categorical_accuracy: 0.6821\n",
      "Epoch 12/15\n",
      "2/2 [==============================] - 0s 2ms/step0s - loss: 0.1711 - categorical_accuracy: 0.94\n",
      "1000/1000 [==============================] - 6s 6ms/step - loss: 0.1710 - categorical_accuracy: 0.9402 - val_loss: 1.5877 - val_categorical_accuracy: 0.6730\n",
      "Epoch 13/15\n",
      "2/2 [==============================] - 0s 2ms/step0s - loss: 0.1495 - categorical_accuracy: 0.94\n",
      "1000/1000 [==============================] - 6s 6ms/step - loss: 0.1493 - categorical_accuracy: 0.9477 - val_loss: 1.6364 - val_categorical_accuracy: 0.6859\n",
      "Epoch 14/15\n",
      "2/2 [==============================] - 0s 2ms/step0s - loss: 0.1255 - categorical_accuracy: 0.95\n",
      "1000/1000 [==============================] - 6s 6ms/step - loss: 0.1257 - categorical_accuracy: 0.9560 - val_loss: 1.8934 - val_categorical_accuracy: 0.6601\n",
      "Epoch 15/15\n",
      "2/2 [==============================] - 0s 2ms/step0s - loss: 0.1173 - categorical_accuracy: 0.95\n",
      "1000/1000 [==============================] - 6s 6ms/step - loss: 0.1177 - categorical_accuracy: 0.9590 - val_loss: 1.9580 - val_categorical_accuracy: 0.6762\n",
      "313/313 - 1s - loss: 1.9580 - categorical_accuracy: 0.6762 - 582ms/epoch - 2ms/step\n",
      "\n",
      "Test accuracy: 0.6762\n"
     ]
    },
    {
     "data": {
      "text/html": [
       "W&B sync reduced upload amount by 0.2%"
      ],
      "text/plain": [
       "<IPython.core.display.HTML object>"
      ]
     },
     "metadata": {},
     "output_type": "display_data"
    },
    {
     "data": {
      "text/html": [
       "<style>\n",
       "    table.wandb td:nth-child(1) { padding: 0 10px; text-align: left ; width: auto;} td:nth-child(2) {text-align: left ; width: 100%}\n",
       "    .wandb-row { display: flex; flex-direction: row; flex-wrap: wrap; justify-content: flex-start; width: 100% }\n",
       "    .wandb-col { display: flex; flex-direction: column; flex-basis: 100%; flex: 1; padding: 10px; }\n",
       "    </style>\n",
       "<div class=\"wandb-row\"><div class=\"wandb-col\"><h3>Run history:</h3><br/><table class=\"wandb\"><tr><td>categorical_accuracy</td><td>▁▃▄▄▅▆▆▇▇▇█████</td></tr><tr><td>epoch</td><td>▁▁▂▃▃▃▄▅▅▅▆▇▇▇█</td></tr><tr><td>loss</td><td>█▆▅▅▄▄▃▃▂▂▁▁▁▁▁</td></tr><tr><td>val_categorical_accuracy</td><td>▁▅▇▇███▇▇██▇█▇▇</td></tr><tr><td>val_loss</td><td>▅▂▁▁▁▁▁▂▃▃▄▅▆██</td></tr></table><br/></div><div class=\"wandb-col\"><h3>Run summary:</h3><br/><table class=\"wandb\"><tr><td>best_epoch</td><td>3</td></tr><tr><td>best_val_loss</td><td>0.92292</td></tr><tr><td>categorical_accuracy</td><td>0.95902</td></tr><tr><td>epoch</td><td>14</td></tr><tr><td>loss</td><td>0.1177</td></tr><tr><td>val_categorical_accuracy</td><td>0.6762</td></tr><tr><td>val_loss</td><td>1.95798</td></tr></table><br/></div></div>"
      ],
      "text/plain": [
       "<IPython.core.display.HTML object>"
      ]
     },
     "metadata": {},
     "output_type": "display_data"
    },
    {
     "data": {
      "text/html": [
       " View run <strong style=\"color:#cdcd00\">tf_centralized_15epochs</strong> at: <a href='https://wandb.ai/speml/federated_learning/runs/puvcqdb9' target=\"_blank\">https://wandb.ai/speml/federated_learning/runs/puvcqdb9</a><br/> View project at: <a href='https://wandb.ai/speml/federated_learning' target=\"_blank\">https://wandb.ai/speml/federated_learning</a><br/>Synced 5 W&B file(s), 541 media file(s), 20 artifact file(s) and 1 other file(s)"
      ],
      "text/plain": [
       "<IPython.core.display.HTML object>"
      ]
     },
     "metadata": {},
     "output_type": "display_data"
    },
    {
     "data": {
      "text/html": [
       "Find logs at: <code>./wandb/run-20240728_210558-puvcqdb9/logs</code>"
      ],
      "text/plain": [
       "<IPython.core.display.HTML object>"
      ]
     },
     "metadata": {},
     "output_type": "display_data"
    },
    {
     "data": {
      "text/html": [
       "The new W&B backend becomes opt-out in version 0.18.0; try it out with `wandb.require(\"core\")`! See https://wandb.me/wandb-core for more information."
      ],
      "text/plain": [
       "<IPython.core.display.HTML object>"
      ]
     },
     "metadata": {},
     "output_type": "display_data"
    }
   ],
   "source": [
    "if USE_WANDB:\n",
    "    wandb.init(project=\"federated_learning\",\n",
    "               group=\"group_1\", name=f\"tf_centralized_{EPOCHS}epochs\")\n",
    "\n",
    "# Create the model\n",
    "\n",
    "\n",
    "def create_keras_model():\n",
    "    return tf.keras.Sequential([\n",
    "        tf.keras.layers.Conv2D(\n",
    "            20, (5, 5), activation='relu', input_shape=(32, 32, 3)),\n",
    "        tf.keras.layers.MaxPooling2D((2, 2)),\n",
    "\n",
    "        tf.keras.layers.Conv2D(50, (5, 5), activation='relu'),\n",
    "        tf.keras.layers.MaxPooling2D((2, 2)),\n",
    "\n",
    "        tf.keras.layers.Flatten(),\n",
    "        tf.keras.layers.Dense(500, activation='relu'),\n",
    "        tf.keras.layers.Dense(10, activation='softmax')\n",
    "    ])\n",
    "\n",
    "\n",
    "# Create and compile the model\n",
    "model = create_keras_model()\n",
    "model.compile(optimizer=tf.keras.optimizers.Adam(),\n",
    "              loss=tf.keras.losses.CategoricalCrossentropy(),\n",
    "              metrics=[tf.keras.metrics.CategoricalAccuracy()])\n",
    "\n",
    "# Train the model.\n",
    "callbacks = [WandbCallback(mode=\"auto\",log_weights=True, training_data=(\n",
    "    x_train, y_train), validation_data=(x_test, y_test), input_type=\"images\")] if USE_WANDB else []\n",
    "\n",
    "history = model.fit(x_train, y_train, epochs=EPOCHS, validation_data=(\n",
    "    x_test, y_test), callbacks=callbacks, batch_size=40)\n",
    "\n",
    "# Evaluate the model\n",
    "test_loss, test_accuracy = model.evaluate(x_test, y_test, verbose=2)\n",
    "print(f\"\\nTest accuracy: {test_accuracy:.4f}\")\n",
    "\n",
    "if USE_WANDB:\n",
    "    wandb.finish()"
   ]
  },
  {
   "cell_type": "code",
   "execution_count": 4,
   "metadata": {},
   "outputs": [
    {
     "data": {
      "image/png": "[encoded data removed]",
      "text/plain": [
       "<Figure size 1200x400 with 2 Axes>"
      ]
     },
     "metadata": {},
     "output_type": "display_data"
    }
   ],
   "source": [
    "\n",
    "# Plot training history\n",
    "import matplotlib.pyplot as plt\n",
    "\n",
    "plt.figure(figsize=(12, 4))\n",
    "\n",
    "plt.subplot(1, 2, 1)\n",
    "plt.plot(history.history['categorical_accuracy'], label='Training Accuracy')\n",
    "plt.plot(history.history['val_categorical_accuracy'],\n",
    "         label='Validation Accuracy')\n",
    "plt.title('Model Accuracy')\n",
    "plt.xlabel('Epoch')\n",
    "plt.ylabel('Accuracy')\n",
    "plt.legend()\n",
    "\n",
    "plt.subplot(1, 2, 2)\n",
    "plt.plot(history.history['loss'], label='Training Loss')\n",
    "plt.plot(history.history['val_loss'], label='Validation Loss')\n",
    "plt.title('Model Loss')\n",
    "plt.xlabel('Epoch')\n",
    "plt.ylabel('Loss')\n",
    "plt.legend()\n",
    "\n",
    "plt.tight_layout()\n",
    "plt.show()"
   ]
  }
 ],
 "metadata": {
  "kernelspec": {
   "display_name": "Python 3",
   "language": "python",
   "name": "python3"
  },
  "language_info": {
   "codemirror_mode": {
    "name": "ipython",
    "version": 3
   },
   "file_extension": ".py",
   "mimetype": "text/x-python",
   "name": "python",
   "nbconvert_exporter": "python",
   "pygments_lexer": "ipython3",
   "version": "3.11.9"
  }
 },
 "nbformat": 4,
 "nbformat_minor": 2
}
